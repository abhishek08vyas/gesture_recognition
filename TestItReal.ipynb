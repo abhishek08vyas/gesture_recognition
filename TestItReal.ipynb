{
 "cells": [
  {
   "cell_type": "code",
   "execution_count": 1,
   "id": "5abbd840-e51a-4fae-9c1d-419109714f06",
   "metadata": {
    "scrolled": true
   },
   "outputs": [],
   "source": [
    "import os\n",
    "import cv2\n",
    "import numpy as np\n",
    "import tensorflow as tf\n",
    "import mediapipe as mp\n",
    "import json\n",
    "import joblib\n",
    "from tensorflow.keras.models import load_model"
   ]
  },
  {
   "cell_type": "code",
   "execution_count": 3,
   "id": "63c29881-9c7c-4ca2-a176-02c0d8ed2b2f",
   "metadata": {},
   "outputs": [],
   "source": [
    "# Initialize MediaPipe\n",
    "mp_hands = mp.solutions.hands\n",
    "hands = mp_hands.Hands(static_image_mode=True,max_num_hands=1,min_detection_confidence=0.5)\n",
    "mp_drawing = mp.solutions.drawing_utils"
   ]
  },
  {
   "cell_type": "code",
   "execution_count": 5,
   "id": "92d60ada-adab-41c8-b67d-40974bdd1bff",
   "metadata": {},
   "outputs": [],
   "source": [
    "def extract_landmarks_for_prediction(hand_landmarks):\n",
    "    \"\"\"Extract landmarks in the format needed for prediction.\"\"\"\n",
    "    return np.array([[lm.x, lm.y, lm.z] for lm in hand_landmarks.landmark]).flatten()"
   ]
  },
  {
   "cell_type": "code",
   "execution_count": 7,
   "id": "de0b05db-b346-40c4-8df5-3f67d4e6ccc2",
   "metadata": {},
   "outputs": [],
   "source": [
    "def load_recognition_components(model_path='asl_recognition_model811.h5', \n",
    "                              scaler_path='scaler.save', \n",
    "                              mappings_path='label_mappings.json'):\n",
    "    \"\"\"Load and return all necessary components for gesture recognition.\"\"\"\n",
    "    print(\"Loading model and components...\")\n",
    "    \n",
    "    # Load the model\n",
    "    model = load_model(model_path)\n",
    "    \n",
    "    # Load the scaler\n",
    "    scaler = joblib.load(scaler_path)\n",
    "    \n",
    "    # Load label mappings\n",
    "    with open(mappings_path, 'r') as f:\n",
    "        mappings = json.load(f)\n",
    "        label_map = mappings['label_map']\n",
    "        reverse_label_map = {int(k): v for k, v in mappings['reverse_label_map'].items()}\n",
    "    \n",
    "    print(\"Model and components loaded successfully!\")\n",
    "    print(f\"Number of gesture classes: {len(label_map)}\")\n",
    "    print(\"\\nAvailable gestures:\")\n",
    "    for gesture in sorted(label_map.keys()):\n",
    "        print(f\"- {gesture}\")\n",
    "        \n",
    "    return model, scaler, label_map, reverse_label_map"
   ]
  },
  {
   "cell_type": "code",
   "execution_count": 9,
   "id": "5418892b-522c-44da-90ce-ae832c8bd86a",
   "metadata": {},
   "outputs": [],
   "source": [
    "def real_time_prediction_3d(model, scaler, reverse_label_map):\n",
    "    \"\"\"Optimized real-time gesture recognition with 3D landmark visualization.\"\"\"\n",
    "    cap = cv2.VideoCapture(0)\n",
    "    \n",
    "    # Optimize camera buffer size\n",
    "    cap.set(cv2.CAP_PROP_BUFFERSIZE, 1)\n",
    "    \n",
    "    # Set up real-time hand detection with optimized parameters\n",
    "    hands_video = mp_hands.Hands(\n",
    "        static_image_mode=False,\n",
    "        max_num_hands=1,\n",
    "        min_detection_confidence=0.5,  # Slightly reduced for better performance\n",
    "        min_tracking_confidence=0.5,\n",
    "        model_complexity=0  # Use lighter model for better performance\n",
    "    )\n",
    "    \n",
    "    print(\"Starting real-time prediction... Press 'q' to quit.\")\n",
    "    \n",
    "    # Create black background for 3D landmarks (pre-allocated)\n",
    "    landmark_frame = np.zeros((400, 400, 3), dtype=np.uint8)\n",
    "    \n",
    "    # Pre-calculate landmark IDs positions\n",
    "    id_offsets = [(10, 10)] * 21  # Offset for landmark ID text\n",
    "    \n",
    "    # Initialize prediction variables\n",
    "    last_prediction = None\n",
    "    last_confidence = 0.0\n",
    "    prediction_cooldown = 0\n",
    "    \n",
    "    while cap.isOpened():\n",
    "        ret, frame = cap.read()\n",
    "        if not ret:\n",
    "            print(\"Failed to grab frame\")\n",
    "            break\n",
    "\n",
    "        # Flip the frame horizontally\n",
    "        frame = cv2.flip(frame, 1)\n",
    "        \n",
    "        # Convert the image to RGB (required by MediaPipe)\n",
    "        image_rgb = cv2.cvtColor(frame, cv2.COLOR_BGR2RGB)\n",
    "        \n",
    "        # Process the frame with MediaPipe\n",
    "        results = hands_video.process(image_rgb)\n",
    "        \n",
    "        # Reset landmark frame\n",
    "        landmark_frame.fill(0)\n",
    "        \n",
    "        # Update prediction every 5 frames\n",
    "        should_predict = prediction_cooldown == 0\n",
    "        \n",
    "        if results.multi_hand_landmarks:\n",
    "            hand_landmarks = results.multi_hand_landmarks[0]  # We only use the first hand\n",
    "            \n",
    "            if should_predict:\n",
    "                # Extract landmarks and make prediction\n",
    "                hand_landmarks_array = extract_landmarks_for_prediction(hand_landmarks)\n",
    "                input_data = scaler.transform(hand_landmarks_array.reshape(1, -1))\n",
    "                input_data = input_data.reshape(1, 21, 3)\n",
    "                prediction = model.predict(input_data, verbose=0)\n",
    "                print(\"\\nprinting here ======================= ================= ============ \",prediction)\n",
    "                last_prediction = reverse_label_map[np.argmax(prediction)]\n",
    "                print(\"\\nprinting np.argmax(prediction) ======================= ================= ============ \",np.argmax(prediction))\n",
    "                print(\"\\nprinting last_prediction ======================= ================= ============ \",last_prediction)\n",
    "                last_confidence = np.max(prediction)\n",
    "                prediction_cooldown = 5  # Reset cooldown\n",
    "            \n",
    "            # Draw the hand landmarks on the original frame\n",
    "            mp_drawing.draw_landmarks(\n",
    "                frame, \n",
    "                hand_landmarks, \n",
    "                mp_hands.HAND_CONNECTIONS,\n",
    "                mp_drawing.DrawingSpec(color=(0, 255, 0), thickness=2, circle_radius=1),\n",
    "                mp_drawing.DrawingSpec(color=(0, 0, 255), thickness=2)\n",
    "            )\n",
    "            \n",
    "            # Efficient 3D landmark visualization\n",
    "            landmarks = hand_landmarks.landmark\n",
    "            frame_h, frame_w = landmark_frame.shape[:2]\n",
    "            \n",
    "            # Draw connections first (reduces overlapping)\n",
    "            for connection in mp_hands.HAND_CONNECTIONS:\n",
    "                start_pos = landmarks[connection[0]]\n",
    "                end_pos = landmarks[connection[1]]\n",
    "                \n",
    "                start_x = int(start_pos.x * frame_w)\n",
    "                start_y = int(start_pos.y * frame_h)\n",
    "                end_x = int(end_pos.x * frame_w)\n",
    "                end_y = int(end_pos.y * frame_h)\n",
    "                \n",
    "                # Use average z-depth for line color\n",
    "                avg_z = ((start_pos.z + 1) / 2 + (end_pos.z + 1) / 2) / 2\n",
    "                color_intensity = int(avg_z * 255)\n",
    "                \n",
    "                cv2.line(landmark_frame, (start_x, start_y), (end_x, end_y),\n",
    "                        (0, color_intensity, 255-color_intensity), 1)\n",
    "            \n",
    "            # Draw landmarks\n",
    "            for idx, landmark in enumerate(landmarks):\n",
    "                x = int(landmark.x * frame_w)\n",
    "                y = int(landmark.y * frame_h)\n",
    "                \n",
    "                # Normalize z coordinate once\n",
    "                z_normalized = (landmark.z + 1) / 2\n",
    "                radius = int((1 - z_normalized) * 8) + 2\n",
    "                color_intensity = int(z_normalized * 255)\n",
    "                \n",
    "                cv2.circle(landmark_frame, (x, y), radius, \n",
    "                         (0, color_intensity, 255-color_intensity), -1)\n",
    "                \n",
    "                # Add landmark ID\n",
    "                cv2.putText(landmark_frame, str(idx), (x+10, y+10),\n",
    "                          cv2.FONT_HERSHEY_SIMPLEX, 0.3, (255, 255, 255), 1)\n",
    "        \n",
    "        # Decrement prediction cooldown\n",
    "        if prediction_cooldown > 0:\n",
    "            prediction_cooldown -= 1\n",
    "        \n",
    "        # Display prediction on original frame\n",
    "        if last_prediction is not None:\n",
    "            text = f\"{last_prediction.upper()} ({last_confidence:.2f})\"\n",
    "            cv2.putText(frame, text, (10, 30), \n",
    "                       cv2.FONT_HERSHEY_SIMPLEX, 1, (0, 255, 0), 2)\n",
    "        \n",
    "        # Add title to landmark frame (only once per frame)\n",
    "        cv2.putText(landmark_frame, \"3D Hand Landmarks\", (10, 30),\n",
    "                   cv2.FONT_HERSHEY_SIMPLEX, 0.7, (255, 255, 255), 2)\n",
    "        cv2.putText(landmark_frame, \"Color indicates Z-depth\", (10, 60),\n",
    "                   cv2.FONT_HERSHEY_SIMPLEX, 0.5, (255, 255, 255), 1)\n",
    "        \n",
    "        # Show both frames\n",
    "        cv2.imshow('Gesture Recognition', frame)\n",
    "        cv2.imshow('3D Hand Landmarks', landmark_frame)\n",
    "        \n",
    "        # Break the loop if 'q' is pressed\n",
    "        if cv2.waitKey(1) & 0xFF == ord('q'):\n",
    "            break\n",
    "    \n",
    "    # Clean up\n",
    "    cap.release()\n",
    "    cv2.destroyAllWindows()\n",
    "    hands_video.close()"
   ]
  },
  {
   "cell_type": "code",
   "execution_count": 11,
   "id": "1ca3a5a1-00b8-4434-b10f-2af3cda5fba1",
   "metadata": {
    "scrolled": true
   },
   "outputs": [
    {
     "name": "stdout",
     "output_type": "stream",
     "text": [
      "Loading model and components...\n",
      "Model and components loaded successfully!\n",
      "Number of gesture classes: 40\n",
      "\n",
      "Available gestures:\n",
      "- a\n",
      "- b\n",
      "- c\n",
      "- call\n",
      "- d\n",
      "- del\n",
      "- dislike\n",
      "- e\n",
      "- f\n",
      "- fist\n",
      "- g\n",
      "- grabbing\n",
      "- grip\n",
      "- h\n",
      "- i\n",
      "- j\n",
      "- k\n",
      "- l\n",
      "- like\n",
      "- m\n",
      "- n\n",
      "- nothing\n",
      "- o\n",
      "- ok\n",
      "- p\n",
      "- palm\n",
      "- q\n",
      "- r\n",
      "- rock\n",
      "- s\n",
      "- space\n",
      "- stop\n",
      "- stop_inv\n",
      "- t\n",
      "- u\n",
      "- v\n",
      "- w\n",
      "- x\n",
      "- y\n",
      "- z\n"
     ]
    }
   ],
   "source": [
    "model, scaler, label_map, reverse_label_map = load_recognition_components(\n",
    "    model_path='asl_recognition_model811.h5',\n",
    "    scaler_path='scaler.save',\n",
    "    mappings_path='label_mappings.json'\n",
    ")"
   ]
  },
  {
   "cell_type": "code",
   "execution_count": 19,
   "id": "1b44364e-5dc8-4690-aefe-96ca53bf2fdf",
   "metadata": {
    "scrolled": true
   },
   "outputs": [
    {
     "name": "stdout",
     "output_type": "stream",
     "text": [
      "Starting real-time prediction... Press 'q' to quit.\n",
      "\n",
      "printing here ======================= ================= ============  [[8.0551391e-17 0.0000000e+00 0.0000000e+00 1.7529662e-16 0.0000000e+00\n",
      "  0.0000000e+00 1.8532174e-17 2.0117093e-25 3.9590404e-33 1.0000000e+00\n",
      "  0.0000000e+00 1.3323870e-30 1.6610254e-22 0.0000000e+00 1.0075484e-20\n",
      "  2.7578606e-20 4.6698038e-33 0.0000000e+00 1.0253884e-20 4.2034129e-17\n",
      "  5.3079314e-20 0.0000000e+00 0.0000000e+00 0.0000000e+00 3.0564608e-27\n",
      "  0.0000000e+00 0.0000000e+00 1.0691685e-26 8.2435821e-17 3.5984175e-16\n",
      "  0.0000000e+00 0.0000000e+00 0.0000000e+00 1.3529179e-18 0.0000000e+00\n",
      "  0.0000000e+00 0.0000000e+00 1.0331665e-20 1.0591688e-21 1.3767806e-15]]\n",
      "\n",
      "printing np.argmax(prediction) ======================= ================= ============  9\n",
      "\n",
      "printing last_prediction ======================= ================= ============  fist\n"
     ]
    },
    {
     "name": "stderr",
     "output_type": "stream",
     "text": [
      "C:\\Users\\abhis\\anaconda3\\Lib\\site-packages\\google\\protobuf\\symbol_database.py:55: UserWarning: SymbolDatabase.GetPrototype() is deprecated. Please use message_factory.GetMessageClass() instead. SymbolDatabase.GetPrototype() will be removed soon.\n",
      "  warnings.warn('SymbolDatabase.GetPrototype() is deprecated. Please '\n",
      "C:\\Users\\abhis\\anaconda3\\Lib\\site-packages\\google\\protobuf\\symbol_database.py:55: UserWarning: SymbolDatabase.GetPrototype() is deprecated. Please use message_factory.GetMessageClass() instead. SymbolDatabase.GetPrototype() will be removed soon.\n",
      "  warnings.warn('SymbolDatabase.GetPrototype() is deprecated. Please '\n"
     ]
    },
    {
     "name": "stdout",
     "output_type": "stream",
     "text": [
      "\n",
      "printing here ======================= ================= ============  [[2.43833137e-18 0.00000000e+00 0.00000000e+00 1.00372586e-12\n",
      "  0.00000000e+00 0.00000000e+00 2.18984986e-14 1.04349446e-24\n",
      "  1.92494088e-31 1.00000000e+00 7.03067403e-31 5.49324091e-29\n",
      "  1.14998938e-20 0.00000000e+00 9.66068787e-18 4.49426602e-14\n",
      "  1.29676753e-33 0.00000000e+00 1.51654579e-15 1.20817516e-20\n",
      "  8.65887556e-22 0.00000000e+00 0.00000000e+00 0.00000000e+00\n",
      "  2.15117547e-22 0.00000000e+00 1.89665388e-37 4.44122921e-25\n",
      "  3.20905801e-15 2.35523334e-15 6.06934733e-34 1.20423642e-35\n",
      "  0.00000000e+00 4.93923858e-20 0.00000000e+00 0.00000000e+00\n",
      "  0.00000000e+00 4.18324063e-25 4.21631058e-16 2.30048319e-21]]\n",
      "\n",
      "printing np.argmax(prediction) ======================= ================= ============  9\n",
      "\n",
      "printing last_prediction ======================= ================= ============  fist\n",
      "\n",
      "printing here ======================= ================= ============  [[1.5067332e-20 0.0000000e+00 0.0000000e+00 1.5120330e-13 0.0000000e+00\n",
      "  0.0000000e+00 2.2997707e-15 1.3478839e-27 1.1134951e-34 1.0000000e+00\n",
      "  3.0041423e-35 4.3214708e-31 3.5348834e-22 0.0000000e+00 4.4742642e-20\n",
      "  6.6876867e-16 4.7334275e-37 0.0000000e+00 1.2487947e-16 6.3808283e-23\n",
      "  1.1426631e-23 0.0000000e+00 0.0000000e+00 0.0000000e+00 9.7389868e-25\n",
      "  0.0000000e+00 0.0000000e+00 3.8552317e-28 1.6879539e-16 9.1911851e-18\n",
      "  3.9707696e-37 0.0000000e+00 0.0000000e+00 5.6825082e-22 0.0000000e+00\n",
      "  0.0000000e+00 0.0000000e+00 1.4245510e-27 2.8097266e-18 5.3068907e-23]]\n",
      "\n",
      "printing np.argmax(prediction) ======================= ================= ============  9\n",
      "\n",
      "printing last_prediction ======================= ================= ============  fist\n"
     ]
    },
    {
     "name": "stderr",
     "output_type": "stream",
     "text": [
      "C:\\Users\\abhis\\anaconda3\\Lib\\site-packages\\google\\protobuf\\symbol_database.py:55: UserWarning: SymbolDatabase.GetPrototype() is deprecated. Please use message_factory.GetMessageClass() instead. SymbolDatabase.GetPrototype() will be removed soon.\n",
      "  warnings.warn('SymbolDatabase.GetPrototype() is deprecated. Please '\n"
     ]
    },
    {
     "name": "stdout",
     "output_type": "stream",
     "text": [
      "\n",
      "printing here ======================= ================= ============  [[4.9933230e-21 0.0000000e+00 0.0000000e+00 2.1367826e-13 0.0000000e+00\n",
      "  0.0000000e+00 6.2137379e-16 9.0331147e-30 8.4912032e-37 1.0000000e+00\n",
      "  9.9828180e-37 2.2499665e-33 3.7945720e-24 0.0000000e+00 9.2839139e-22\n",
      "  4.1478701e-17 1.2212316e-37 0.0000000e+00 4.9923427e-17 8.6677236e-24\n",
      "  2.2261404e-24 0.0000000e+00 0.0000000e+00 0.0000000e+00 3.2555491e-26\n",
      "  0.0000000e+00 0.0000000e+00 1.3429657e-29 1.7143972e-17 1.0522838e-18\n",
      "  0.0000000e+00 0.0000000e+00 0.0000000e+00 3.9505523e-23 0.0000000e+00\n",
      "  0.0000000e+00 0.0000000e+00 1.1480473e-28 9.3060488e-20 1.9116307e-23]]\n",
      "\n",
      "printing np.argmax(prediction) ======================= ================= ============  9\n",
      "\n",
      "printing last_prediction ======================= ================= ============  fist\n"
     ]
    },
    {
     "name": "stderr",
     "output_type": "stream",
     "text": [
      "C:\\Users\\abhis\\anaconda3\\Lib\\site-packages\\google\\protobuf\\symbol_database.py:55: UserWarning: SymbolDatabase.GetPrototype() is deprecated. Please use message_factory.GetMessageClass() instead. SymbolDatabase.GetPrototype() will be removed soon.\n",
      "  warnings.warn('SymbolDatabase.GetPrototype() is deprecated. Please '\n"
     ]
    },
    {
     "name": "stdout",
     "output_type": "stream",
     "text": [
      "\n",
      "printing here ======================= ================= ============  [[5.60035895e-32 0.00000000e+00 0.00000000e+00 2.59737698e-15\n",
      "  0.00000000e+00 0.00000000e+00 2.11414097e-17 0.00000000e+00\n",
      "  0.00000000e+00 1.00000000e+00 0.00000000e+00 9.47396359e-36\n",
      "  1.12856573e-25 0.00000000e+00 4.66228181e-30 7.29611535e-24\n",
      "  0.00000000e+00 0.00000000e+00 1.81932715e-19 1.39216285e-33\n",
      "  1.00877716e-31 0.00000000e+00 0.00000000e+00 0.00000000e+00\n",
      "  2.04314804e-32 0.00000000e+00 0.00000000e+00 1.73938456e-38\n",
      "  3.70986317e-19 5.99908761e-29 0.00000000e+00 0.00000000e+00\n",
      "  0.00000000e+00 1.30942049e-30 0.00000000e+00 0.00000000e+00\n",
      "  0.00000000e+00 2.66893015e-38 3.45875953e-29 2.15828587e-29]]\n",
      "\n",
      "printing np.argmax(prediction) ======================= ================= ============  9\n",
      "\n",
      "printing last_prediction ======================= ================= ============  fist\n"
     ]
    },
    {
     "name": "stderr",
     "output_type": "stream",
     "text": [
      "C:\\Users\\abhis\\anaconda3\\Lib\\site-packages\\google\\protobuf\\symbol_database.py:55: UserWarning: SymbolDatabase.GetPrototype() is deprecated. Please use message_factory.GetMessageClass() instead. SymbolDatabase.GetPrototype() will be removed soon.\n",
      "  warnings.warn('SymbolDatabase.GetPrototype() is deprecated. Please '\n"
     ]
    },
    {
     "name": "stdout",
     "output_type": "stream",
     "text": [
      "\n",
      "printing here ======================= ================= ============  [[2.1206140e-17 6.1628616e-13 4.0496591e-13 9.1556365e-05 2.3674871e-12\n",
      "  1.0750275e-17 9.1446942e-05 1.6082342e-16 1.9116360e-13 2.9098871e-04\n",
      "  2.9492657e-22 3.3802669e-02 3.9014869e-04 9.9697963e-15 1.9234699e-11\n",
      "  6.0112620e-10 1.3748757e-14 1.0346730e-12 3.2187282e-04 7.3258515e-18\n",
      "  7.2014665e-15 2.4547433e-32 3.5330425e-14 3.4786076e-03 2.5434429e-12\n",
      "  4.5039678e-01 1.1077989e-18 2.3046070e-13 9.5544377e-04 2.5601426e-19\n",
      "  2.4659857e-07 4.8232928e-01 2.7850846e-02 1.4983667e-13 3.6000283e-13\n",
      "  3.7331361e-08 1.6547855e-11 4.3346792e-19 8.5438107e-13 2.5581163e-12]]\n",
      "\n",
      "printing np.argmax(prediction) ======================= ================= ============  31\n",
      "\n",
      "printing last_prediction ======================= ================= ============  stop\n",
      "\n",
      "printing here ======================= ================= ============  [[0.0000000e+00 1.1214668e-25 7.1856420e-35 7.2844743e-20 1.9643931e-27\n",
      "  0.0000000e+00 1.9101882e-21 7.5362854e-37 1.6528999e-25 1.1429014e-17\n",
      "  0.0000000e+00 4.1316098e-06 3.8609156e-18 1.2721067e-34 3.4741952e-26\n",
      "  5.3529905e-27 3.6456234e-33 4.5593203e-37 8.5089330e-15 0.0000000e+00\n",
      "  0.0000000e+00 0.0000000e+00 1.1559193e-32 3.2635019e-13 2.0906602e-37\n",
      "  6.7207515e-01 0.0000000e+00 4.3557229e-26 1.0888552e-14 0.0000000e+00\n",
      "  4.7665144e-21 3.2792076e-01 2.6067676e-10 6.0410193e-36 5.4327317e-25\n",
      "  1.4393779e-16 1.8260549e-21 0.0000000e+00 2.6546642e-37 3.7865626e-30]]\n",
      "\n",
      "printing np.argmax(prediction) ======================= ================= ============  25\n",
      "\n",
      "printing last_prediction ======================= ================= ============  palm\n"
     ]
    },
    {
     "name": "stderr",
     "output_type": "stream",
     "text": [
      "C:\\Users\\abhis\\anaconda3\\Lib\\site-packages\\google\\protobuf\\symbol_database.py:55: UserWarning: SymbolDatabase.GetPrototype() is deprecated. Please use message_factory.GetMessageClass() instead. SymbolDatabase.GetPrototype() will be removed soon.\n",
      "  warnings.warn('SymbolDatabase.GetPrototype() is deprecated. Please '\n",
      "C:\\Users\\abhis\\anaconda3\\Lib\\site-packages\\google\\protobuf\\symbol_database.py:55: UserWarning: SymbolDatabase.GetPrototype() is deprecated. Please use message_factory.GetMessageClass() instead. SymbolDatabase.GetPrototype() will be removed soon.\n",
      "  warnings.warn('SymbolDatabase.GetPrototype() is deprecated. Please '\n"
     ]
    },
    {
     "name": "stdout",
     "output_type": "stream",
     "text": [
      "\n",
      "printing here ======================= ================= ============  [[0.0000000e+00 8.1307677e-25 1.2405397e-34 4.3595578e-20 6.5709180e-26\n",
      "  0.0000000e+00 1.3263928e-21 8.5517939e-36 1.1523801e-23 1.1148936e-17\n",
      "  0.0000000e+00 5.9844990e-07 3.8920717e-18 3.6614376e-35 9.8053695e-25\n",
      "  1.9632774e-26 6.3517933e-33 1.9861901e-36 3.5111995e-15 0.0000000e+00\n",
      "  0.0000000e+00 0.0000000e+00 2.8839072e-30 1.1550838e-13 3.3441158e-37\n",
      "  3.9015856e-01 0.0000000e+00 3.3953998e-25 1.6015589e-14 0.0000000e+00\n",
      "  5.5261966e-20 6.0984087e-01 1.2932996e-09 1.8143634e-34 1.0849913e-24\n",
      "  2.3744814e-16 1.5113827e-21 0.0000000e+00 7.8130957e-36 1.9016370e-29]]\n",
      "\n",
      "printing np.argmax(prediction) ======================= ================= ============  31\n",
      "\n",
      "printing last_prediction ======================= ================= ============  stop\n"
     ]
    },
    {
     "name": "stderr",
     "output_type": "stream",
     "text": [
      "C:\\Users\\abhis\\anaconda3\\Lib\\site-packages\\google\\protobuf\\symbol_database.py:55: UserWarning: SymbolDatabase.GetPrototype() is deprecated. Please use message_factory.GetMessageClass() instead. SymbolDatabase.GetPrototype() will be removed soon.\n",
      "  warnings.warn('SymbolDatabase.GetPrototype() is deprecated. Please '\n"
     ]
    },
    {
     "name": "stdout",
     "output_type": "stream",
     "text": [
      "\n",
      "printing here ======================= ================= ============  [[0.0000000e+00 2.6672817e-25 3.6420137e-34 9.8317440e-20 5.9574360e-27\n",
      "  0.0000000e+00 3.2242428e-21 1.0593518e-36 2.2588793e-25 1.3342079e-17\n",
      "  0.0000000e+00 5.8937271e-06 2.9054628e-18 9.4612344e-34 4.2342334e-26\n",
      "  3.9061769e-27 2.6770476e-32 4.3722047e-36 2.1058120e-14 0.0000000e+00\n",
      "  0.0000000e+00 0.0000000e+00 1.6272956e-32 2.8279579e-13 4.6898832e-37\n",
      "  7.4959791e-01 0.0000000e+00 9.6802120e-26 1.6966112e-14 0.0000000e+00\n",
      "  7.2397973e-21 2.5039613e-01 1.7864911e-10 1.6670212e-35 2.1198777e-24\n",
      "  5.1431285e-16 5.8655620e-21 0.0000000e+00 4.7678833e-37 1.0655443e-29]]\n",
      "\n",
      "printing np.argmax(prediction) ======================= ================= ============  25\n",
      "\n",
      "printing last_prediction ======================= ================= ============  palm\n"
     ]
    },
    {
     "name": "stderr",
     "output_type": "stream",
     "text": [
      "C:\\Users\\abhis\\anaconda3\\Lib\\site-packages\\google\\protobuf\\symbol_database.py:55: UserWarning: SymbolDatabase.GetPrototype() is deprecated. Please use message_factory.GetMessageClass() instead. SymbolDatabase.GetPrototype() will be removed soon.\n",
      "  warnings.warn('SymbolDatabase.GetPrototype() is deprecated. Please '\n",
      "C:\\Users\\abhis\\anaconda3\\Lib\\site-packages\\google\\protobuf\\symbol_database.py:55: UserWarning: SymbolDatabase.GetPrototype() is deprecated. Please use message_factory.GetMessageClass() instead. SymbolDatabase.GetPrototype() will be removed soon.\n",
      "  warnings.warn('SymbolDatabase.GetPrototype() is deprecated. Please '\n"
     ]
    },
    {
     "name": "stdout",
     "output_type": "stream",
     "text": [
      "\n",
      "printing here ======================= ================= ============  [[0.0000000e+00 2.4825289e-26 1.2913876e-33 7.3211926e-22 4.6053540e-28\n",
      "  0.0000000e+00 1.7418700e-22 4.3016724e-38 5.4075283e-27 2.0654498e-19\n",
      "  0.0000000e+00 1.2768697e-05 5.3012398e-19 6.2005169e-35 4.9644581e-28\n",
      "  8.1973740e-30 1.0605336e-33 5.7477816e-38 9.1670755e-16 0.0000000e+00\n",
      "  0.0000000e+00 0.0000000e+00 4.7593269e-35 8.4503022e-14 0.0000000e+00\n",
      "  9.4452339e-01 0.0000000e+00 4.5105129e-27 7.2053726e-16 0.0000000e+00\n",
      "  1.2900507e-22 5.5463798e-02 4.4790244e-12 5.8648147e-38 3.6191905e-25\n",
      "  2.6636425e-16 2.6220698e-21 0.0000000e+00 0.0000000e+00 5.4688596e-31]]\n",
      "\n",
      "printing np.argmax(prediction) ======================= ================= ============  25\n",
      "\n",
      "printing last_prediction ======================= ================= ============  palm\n",
      "\n",
      "printing here ======================= ================= ============  [[0.00000000e+00 6.16208412e-28 2.14861449e-34 2.12441252e-23\n",
      "  4.47342782e-30 0.00000000e+00 7.48492431e-23 0.00000000e+00\n",
      "  2.97536917e-29 1.56579474e-20 0.00000000e+00 4.14342940e-05\n",
      "  3.41175064e-19 5.64475271e-36 2.77945884e-30 3.04177795e-32\n",
      "  3.71441148e-35 0.00000000e+00 1.58025934e-16 0.00000000e+00\n",
      "  0.00000000e+00 0.00000000e+00 2.03434065e-38 5.79057269e-14\n",
      "  0.00000000e+00 9.88109648e-01 0.00000000e+00 1.03099821e-28\n",
      "  7.16188393e-17 0.00000000e+00 1.74232789e-24 1.18489675e-02\n",
      "  1.66102863e-13 0.00000000e+00 2.05232749e-26 7.06008182e-17\n",
      "  4.39581670e-22 0.00000000e+00 0.00000000e+00 4.28053917e-32]]\n",
      "\n",
      "printing np.argmax(prediction) ======================= ================= ============  25\n",
      "\n",
      "printing last_prediction ======================= ================= ============  palm\n"
     ]
    },
    {
     "name": "stderr",
     "output_type": "stream",
     "text": [
      "C:\\Users\\abhis\\anaconda3\\Lib\\site-packages\\google\\protobuf\\symbol_database.py:55: UserWarning: SymbolDatabase.GetPrototype() is deprecated. Please use message_factory.GetMessageClass() instead. SymbolDatabase.GetPrototype() will be removed soon.\n",
      "  warnings.warn('SymbolDatabase.GetPrototype() is deprecated. Please '\n"
     ]
    },
    {
     "name": "stdout",
     "output_type": "stream",
     "text": [
      "\n",
      "printing here ======================= ================= ============  [[0.0000000e+00 2.4106275e-28 7.4716849e-35 3.3022372e-27 1.6766845e-30\n",
      "  0.0000000e+00 8.9518968e-26 0.0000000e+00 4.1148392e-30 2.9784489e-24\n",
      "  0.0000000e+00 7.0824294e-06 2.2015675e-21 0.0000000e+00 9.5683007e-32\n",
      "  1.0208799e-35 7.0448733e-38 0.0000000e+00 1.0304702e-19 0.0000000e+00\n",
      "  0.0000000e+00 0.0000000e+00 0.0000000e+00 2.1591893e-15 0.0000000e+00\n",
      "  9.9668235e-01 0.0000000e+00 3.3815738e-30 2.4709798e-19 0.0000000e+00\n",
      "  4.2047383e-26 3.3105153e-03 7.1155020e-15 0.0000000e+00 5.1995494e-27\n",
      "  1.7179181e-17 4.6812602e-22 0.0000000e+00 0.0000000e+00 3.7275220e-34]]\n",
      "\n",
      "printing np.argmax(prediction) ======================= ================= ============  25\n",
      "\n",
      "printing last_prediction ======================= ================= ============  palm\n"
     ]
    },
    {
     "name": "stderr",
     "output_type": "stream",
     "text": [
      "C:\\Users\\abhis\\anaconda3\\Lib\\site-packages\\google\\protobuf\\symbol_database.py:55: UserWarning: SymbolDatabase.GetPrototype() is deprecated. Please use message_factory.GetMessageClass() instead. SymbolDatabase.GetPrototype() will be removed soon.\n",
      "  warnings.warn('SymbolDatabase.GetPrototype() is deprecated. Please '\n"
     ]
    },
    {
     "name": "stdout",
     "output_type": "stream",
     "text": [
      "\n",
      "printing here ======================= ================= ============  [[0.0000000e+00 2.7788272e-27 3.4121024e-34 1.1384074e-27 4.9984153e-30\n",
      "  0.0000000e+00 4.4257251e-26 0.0000000e+00 2.9174980e-29 1.6821132e-24\n",
      "  0.0000000e+00 8.5091597e-06 1.0212204e-21 2.8315982e-38 1.8387080e-31\n",
      "  6.6719571e-36 8.2942314e-37 0.0000000e+00 7.4406971e-20 0.0000000e+00\n",
      "  0.0000000e+00 0.0000000e+00 0.0000000e+00 1.1717321e-15 0.0000000e+00\n",
      "  9.9739182e-01 0.0000000e+00 2.7681177e-29 9.9594504e-20 0.0000000e+00\n",
      "  3.4127284e-26 2.5996668e-03 2.2150483e-15 0.0000000e+00 6.6353155e-26\n",
      "  9.2239744e-17 5.6729028e-21 0.0000000e+00 0.0000000e+00 2.9061624e-33]]\n",
      "\n",
      "printing np.argmax(prediction) ======================= ================= ============  25\n",
      "\n",
      "printing last_prediction ======================= ================= ============  palm\n"
     ]
    },
    {
     "name": "stderr",
     "output_type": "stream",
     "text": [
      "C:\\Users\\abhis\\anaconda3\\Lib\\site-packages\\google\\protobuf\\symbol_database.py:55: UserWarning: SymbolDatabase.GetPrototype() is deprecated. Please use message_factory.GetMessageClass() instead. SymbolDatabase.GetPrototype() will be removed soon.\n",
      "  warnings.warn('SymbolDatabase.GetPrototype() is deprecated. Please '\n"
     ]
    },
    {
     "name": "stdout",
     "output_type": "stream",
     "text": [
      "\n",
      "printing here ======================= ================= ============  [[0.0000000e+00 7.2158486e-27 7.4898320e-33 5.9034139e-28 1.8067477e-29\n",
      "  0.0000000e+00 1.0724840e-25 0.0000000e+00 4.1269558e-29 7.6861632e-25\n",
      "  0.0000000e+00 1.4607520e-05 3.8247838e-21 5.2264380e-38 2.6193501e-31\n",
      "  2.5699256e-36 1.0447804e-36 0.0000000e+00 3.1623667e-20 0.0000000e+00\n",
      "  0.0000000e+00 0.0000000e+00 0.0000000e+00 2.8702836e-15 0.0000000e+00\n",
      "  9.9865997e-01 0.0000000e+00 3.8788097e-29 7.9632406e-20 0.0000000e+00\n",
      "  4.8621004e-26 1.3254537e-03 1.8365296e-15 0.0000000e+00 1.5422398e-25\n",
      "  1.6700810e-16 2.1543266e-20 0.0000000e+00 0.0000000e+00 9.8229135e-33]]\n",
      "\n",
      "printing np.argmax(prediction) ======================= ================= ============  25\n",
      "\n",
      "printing last_prediction ======================= ================= ============  palm\n"
     ]
    },
    {
     "name": "stderr",
     "output_type": "stream",
     "text": [
      "C:\\Users\\abhis\\anaconda3\\Lib\\site-packages\\google\\protobuf\\symbol_database.py:55: UserWarning: SymbolDatabase.GetPrototype() is deprecated. Please use message_factory.GetMessageClass() instead. SymbolDatabase.GetPrototype() will be removed soon.\n",
      "  warnings.warn('SymbolDatabase.GetPrototype() is deprecated. Please '\n"
     ]
    },
    {
     "name": "stdout",
     "output_type": "stream",
     "text": [
      "\n",
      "printing here ======================= ================= ============  [[0.0000000e+00 2.5602348e-25 6.6376293e-32 8.6005685e-28 1.7577350e-27\n",
      "  0.0000000e+00 4.0552704e-26 0.0000000e+00 3.2400682e-27 6.6966580e-25\n",
      "  0.0000000e+00 3.1880056e-06 1.3937849e-21 7.7625203e-38 1.5789670e-29\n",
      "  2.6364682e-35 7.6229065e-36 0.0000000e+00 1.8041743e-20 0.0000000e+00\n",
      "  0.0000000e+00 0.0000000e+00 1.0970533e-36 1.3247323e-15 0.0000000e+00\n",
      "  9.9663585e-01 0.0000000e+00 5.1749256e-28 1.8128954e-19 0.0000000e+00\n",
      "  8.4262247e-25 3.3610004e-03 1.1490002e-14 0.0000000e+00 2.4182567e-24\n",
      "  6.4943684e-16 2.2132047e-19 0.0000000e+00 0.0000000e+00 5.3468895e-32]]\n",
      "\n",
      "printing np.argmax(prediction) ======================= ================= ============  25\n",
      "\n",
      "printing last_prediction ======================= ================= ============  palm\n"
     ]
    },
    {
     "name": "stderr",
     "output_type": "stream",
     "text": [
      "C:\\Users\\abhis\\anaconda3\\Lib\\site-packages\\google\\protobuf\\symbol_database.py:55: UserWarning: SymbolDatabase.GetPrototype() is deprecated. Please use message_factory.GetMessageClass() instead. SymbolDatabase.GetPrototype() will be removed soon.\n",
      "  warnings.warn('SymbolDatabase.GetPrototype() is deprecated. Please '\n"
     ]
    },
    {
     "name": "stdout",
     "output_type": "stream",
     "text": [
      "\n",
      "printing here ======================= ================= ============  [[0.0000000e+00 8.3768627e-25 1.7665899e-31 4.1630600e-26 7.6652774e-27\n",
      "  0.0000000e+00 5.4404172e-25 3.1999312e-38 1.8199001e-26 2.1701185e-23\n",
      "  0.0000000e+00 4.2610595e-06 9.5471571e-21 1.1625083e-36 1.6733675e-28\n",
      "  1.6528968e-33 1.1376352e-34 0.0000000e+00 3.1061868e-19 0.0000000e+00\n",
      "  0.0000000e+00 0.0000000e+00 2.3887098e-35 5.5343257e-15 0.0000000e+00\n",
      "  9.9240136e-01 0.0000000e+00 3.1252978e-27 2.1921312e-18 0.0000000e+00\n",
      "  9.0870734e-24 7.5944117e-03 9.5979478e-14 0.0000000e+00 6.5649281e-24\n",
      "  1.3583469e-15 3.1271829e-19 0.0000000e+00 0.0000000e+00 4.4225756e-31]]\n",
      "\n",
      "printing np.argmax(prediction) ======================= ================= ============  25\n",
      "\n",
      "printing last_prediction ======================= ================= ============  palm\n"
     ]
    },
    {
     "name": "stderr",
     "output_type": "stream",
     "text": [
      "C:\\Users\\abhis\\anaconda3\\Lib\\site-packages\\google\\protobuf\\symbol_database.py:55: UserWarning: SymbolDatabase.GetPrototype() is deprecated. Please use message_factory.GetMessageClass() instead. SymbolDatabase.GetPrototype() will be removed soon.\n",
      "  warnings.warn('SymbolDatabase.GetPrototype() is deprecated. Please '\n"
     ]
    },
    {
     "name": "stdout",
     "output_type": "stream",
     "text": [
      "\n",
      "printing here ======================= ================= ============  [[0.0000000e+00 9.8718152e-28 1.6505843e-34 4.7216740e-17 1.9055861e-29\n",
      "  0.0000000e+00 2.3497970e-18 7.7042936e-36 5.5895836e-28 6.3643650e-14\n",
      "  0.0000000e+00 3.1654656e-04 8.0070973e-15 3.7372895e-32 1.4406820e-26\n",
      "  3.4042831e-24 6.6873927e-32 4.2685842e-35 6.4408427e-12 0.0000000e+00\n",
      "  0.0000000e+00 0.0000000e+00 2.5794453e-35 2.6971397e-11 6.4687918e-34\n",
      "  7.5613242e-01 0.0000000e+00 1.6711246e-26 4.4147828e-12 0.0000000e+00\n",
      "  1.3039961e-21 2.4355105e-01 1.5689672e-10 7.5386134e-35 4.0464469e-26\n",
      "  8.7044871e-17 4.8744968e-23 0.0000000e+00 6.5875915e-37 1.3866991e-29]]\n",
      "\n",
      "printing np.argmax(prediction) ======================= ================= ============  25\n",
      "\n",
      "printing last_prediction ======================= ================= ============  palm\n"
     ]
    },
    {
     "name": "stderr",
     "output_type": "stream",
     "text": [
      "C:\\Users\\abhis\\anaconda3\\Lib\\site-packages\\google\\protobuf\\symbol_database.py:55: UserWarning: SymbolDatabase.GetPrototype() is deprecated. Please use message_factory.GetMessageClass() instead. SymbolDatabase.GetPrototype() will be removed soon.\n",
      "  warnings.warn('SymbolDatabase.GetPrototype() is deprecated. Please '\n"
     ]
    },
    {
     "name": "stdout",
     "output_type": "stream",
     "text": [
      "\n",
      "printing here ======================= ================= ============  [[0.0000000e+00 8.7818094e-24 6.5001757e-38 2.8977086e-19 1.4687894e-27\n",
      "  0.0000000e+00 6.1943598e-21 4.5901940e-28 1.2280306e-18 4.3551754e-14\n",
      "  0.0000000e+00 5.9796363e-08 4.4799239e-16 4.9764850e-31 2.1493553e-20\n",
      "  8.6441681e-18 2.7014897e-32 0.0000000e+00 7.4562430e-15 7.0159270e-33\n",
      "  2.2692245e-38 0.0000000e+00 5.0131513e-28 1.1567007e-12 6.3331692e-32\n",
      "  2.2942983e-03 0.0000000e+00 2.9157618e-18 3.4169481e-15 3.1310377e-30\n",
      "  3.5873495e-19 9.9770564e-01 1.4280209e-09 2.5564898e-32 1.1162098e-23\n",
      "  4.4893797e-18 2.1403521e-23 8.2449620e-32 1.0560799e-32 1.3458230e-27]]\n",
      "\n",
      "printing np.argmax(prediction) ======================= ================= ============  31\n",
      "\n",
      "printing last_prediction ======================= ================= ============  stop\n"
     ]
    },
    {
     "name": "stderr",
     "output_type": "stream",
     "text": [
      "C:\\Users\\abhis\\anaconda3\\Lib\\site-packages\\google\\protobuf\\symbol_database.py:55: UserWarning: SymbolDatabase.GetPrototype() is deprecated. Please use message_factory.GetMessageClass() instead. SymbolDatabase.GetPrototype() will be removed soon.\n",
      "  warnings.warn('SymbolDatabase.GetPrototype() is deprecated. Please '\n"
     ]
    },
    {
     "name": "stdout",
     "output_type": "stream",
     "text": [
      "\n",
      "printing here ======================= ================= ============  [[0.0000000e+00 1.6463503e-23 0.0000000e+00 8.0304503e-21 1.3354718e-27\n",
      "  0.0000000e+00 1.5647035e-22 7.7397689e-28 4.6463632e-18 3.7985404e-15\n",
      "  0.0000000e+00 1.3878503e-08 3.1543636e-17 8.7186193e-32 3.3973132e-20\n",
      "  4.4243492e-18 5.9287960e-33 0.0000000e+00 4.1655812e-16 5.3024688e-33\n",
      "  0.0000000e+00 0.0000000e+00 8.4829491e-28 1.2276893e-13 5.5254861e-33\n",
      "  1.2472526e-03 0.0000000e+00 1.1008125e-17 2.3642053e-16 6.8946344e-30\n",
      "  9.0857531e-20 9.9875271e-01 2.9892946e-10 4.1880109e-33 1.9784750e-23\n",
      "  2.3236105e-18 1.8493828e-23 1.9438078e-31 1.5660202e-33 3.3638993e-28]]\n",
      "\n",
      "printing np.argmax(prediction) ======================= ================= ============  31\n",
      "\n",
      "printing last_prediction ======================= ================= ============  stop\n"
     ]
    },
    {
     "name": "stderr",
     "output_type": "stream",
     "text": [
      "C:\\Users\\abhis\\anaconda3\\Lib\\site-packages\\google\\protobuf\\symbol_database.py:55: UserWarning: SymbolDatabase.GetPrototype() is deprecated. Please use message_factory.GetMessageClass() instead. SymbolDatabase.GetPrototype() will be removed soon.\n",
      "  warnings.warn('SymbolDatabase.GetPrototype() is deprecated. Please '\n"
     ]
    },
    {
     "name": "stdout",
     "output_type": "stream",
     "text": [
      "\n",
      "printing here ======================= ================= ============  [[0.0000000e+00 2.5279324e-23 0.0000000e+00 4.5079756e-21 7.7108308e-28\n",
      "  0.0000000e+00 1.5739889e-22 5.7501758e-27 3.3890851e-18 6.6517103e-15\n",
      "  0.0000000e+00 1.4442762e-08 7.2443863e-17 1.2365639e-31 5.2740205e-20\n",
      "  5.8040186e-18 5.2785544e-33 0.0000000e+00 2.5412844e-16 2.3550772e-32\n",
      "  0.0000000e+00 0.0000000e+00 1.1001229e-27 1.1230405e-13 1.7639384e-32\n",
      "  7.0971163e-04 0.0000000e+00 2.3652780e-17 1.5808896e-16 4.5589563e-29\n",
      "  4.4676613e-20 9.9929023e-01 1.5406898e-10 3.7496011e-33 3.1417332e-23\n",
      "  1.5973156e-18 1.8672685e-23 1.1994480e-30 7.5554385e-34 5.6746245e-28]]\n",
      "\n",
      "printing np.argmax(prediction) ======================= ================= ============  31\n",
      "\n",
      "printing last_prediction ======================= ================= ============  stop\n"
     ]
    },
    {
     "name": "stderr",
     "output_type": "stream",
     "text": [
      "C:\\Users\\abhis\\anaconda3\\Lib\\site-packages\\google\\protobuf\\symbol_database.py:55: UserWarning: SymbolDatabase.GetPrototype() is deprecated. Please use message_factory.GetMessageClass() instead. SymbolDatabase.GetPrototype() will be removed soon.\n",
      "  warnings.warn('SymbolDatabase.GetPrototype() is deprecated. Please '\n"
     ]
    },
    {
     "name": "stdout",
     "output_type": "stream",
     "text": [
      "\n",
      "printing here ======================= ================= ============  [[0.0000000e+00 1.8858772e-23 0.0000000e+00 1.0246934e-21 2.2235504e-28\n",
      "  0.0000000e+00 3.5008820e-23 6.1230748e-27 2.0019971e-18 2.9891223e-15\n",
      "  0.0000000e+00 1.0456284e-08 2.9765916e-17 8.1713344e-32 3.5514903e-20\n",
      "  3.9787441e-18 1.8444175e-33 0.0000000e+00 8.6963827e-17 1.5076059e-32\n",
      "  0.0000000e+00 0.0000000e+00 4.5711403e-28 5.2201248e-14 9.3215269e-33\n",
      "  5.0188066e-04 0.0000000e+00 2.7841047e-17 4.0125377e-17 4.9893502e-29\n",
      "  1.2637266e-20 9.9949813e-01 5.8993206e-11 7.5230702e-34 2.7576397e-23\n",
      "  7.3150678e-19 1.0366486e-23 1.1452135e-30 1.1918856e-34 1.8448585e-28]]\n",
      "\n",
      "printing np.argmax(prediction) ======================= ================= ============  31\n",
      "\n",
      "printing last_prediction ======================= ================= ============  stop\n"
     ]
    },
    {
     "name": "stderr",
     "output_type": "stream",
     "text": [
      "C:\\Users\\abhis\\anaconda3\\Lib\\site-packages\\google\\protobuf\\symbol_database.py:55: UserWarning: SymbolDatabase.GetPrototype() is deprecated. Please use message_factory.GetMessageClass() instead. SymbolDatabase.GetPrototype() will be removed soon.\n",
      "  warnings.warn('SymbolDatabase.GetPrototype() is deprecated. Please '\n"
     ]
    },
    {
     "name": "stdout",
     "output_type": "stream",
     "text": [
      "\n",
      "printing here ======================= ================= ============  [[0.0000000e+00 4.1209229e-23 0.0000000e+00 5.4041628e-21 2.3373189e-28\n",
      "  0.0000000e+00 3.1770874e-22 9.7913255e-26 2.0291286e-18 2.4132191e-14\n",
      "  0.0000000e+00 2.8611460e-08 2.8974625e-16 9.5662736e-31 8.0723890e-20\n",
      "  1.2535487e-17 1.2445861e-32 0.0000000e+00 3.7073245e-16 2.8437084e-31\n",
      "  0.0000000e+00 0.0000000e+00 9.4272499e-28 1.6261130e-13 2.5770464e-31\n",
      "  4.2643381e-04 0.0000000e+00 8.7277143e-17 1.3389905e-16 8.6088269e-28\n",
      "  2.0631650e-20 9.9957353e-01 6.9926349e-11 4.4296238e-33 7.7936321e-23\n",
      "  1.2940358e-18 2.4242017e-23 1.8290336e-29 2.7902872e-34 1.4721007e-27]]\n",
      "\n",
      "printing np.argmax(prediction) ======================= ================= ============  31\n",
      "\n",
      "printing last_prediction ======================= ================= ============  stop\n"
     ]
    },
    {
     "name": "stderr",
     "output_type": "stream",
     "text": [
      "C:\\Users\\abhis\\anaconda3\\Lib\\site-packages\\google\\protobuf\\symbol_database.py:55: UserWarning: SymbolDatabase.GetPrototype() is deprecated. Please use message_factory.GetMessageClass() instead. SymbolDatabase.GetPrototype() will be removed soon.\n",
      "  warnings.warn('SymbolDatabase.GetPrototype() is deprecated. Please '\n"
     ]
    },
    {
     "name": "stdout",
     "output_type": "stream",
     "text": [
      "\n",
      "printing here ======================= ================= ============  [[7.9906444e-32 1.2260297e-20 9.1308485e-27 5.1036185e-12 3.3728261e-21\n",
      "  0.0000000e+00 1.2384199e-13 7.3977969e-28 2.1030279e-19 8.7037356e-11\n",
      "  0.0000000e+00 2.0974587e-05 6.6139177e-11 1.1703457e-27 2.9099356e-19\n",
      "  4.3673373e-16 9.5317730e-28 4.7929858e-28 3.1635852e-10 4.3595973e-31\n",
      "  1.5074594e-30 0.0000000e+00 7.7611851e-24 3.4953055e-07 4.4463233e-26\n",
      "  1.3038075e-01 0.0000000e+00 2.4128790e-21 2.5117117e-10 7.4457135e-32\n",
      "  6.8428837e-14 8.6952674e-01 7.1109745e-05 4.1025565e-26 2.5753825e-22\n",
      "  7.3591713e-15 9.4752932e-20 3.0124610e-33 2.4160715e-24 3.7188481e-23]]\n",
      "\n",
      "printing np.argmax(prediction) ======================= ================= ============  31\n",
      "\n",
      "printing last_prediction ======================= ================= ============  stop\n"
     ]
    },
    {
     "name": "stderr",
     "output_type": "stream",
     "text": [
      "C:\\Users\\abhis\\anaconda3\\Lib\\site-packages\\google\\protobuf\\symbol_database.py:55: UserWarning: SymbolDatabase.GetPrototype() is deprecated. Please use message_factory.GetMessageClass() instead. SymbolDatabase.GetPrototype() will be removed soon.\n",
      "  warnings.warn('SymbolDatabase.GetPrototype() is deprecated. Please '\n"
     ]
    },
    {
     "name": "stdout",
     "output_type": "stream",
     "text": [
      "\n",
      "printing here ======================= ================= ============  [[1.39931619e-38 6.83660838e-22 4.88878096e-27 2.54495443e-16\n",
      "  3.87814947e-24 1.44365918e-29 2.70055676e-16 2.49103737e-34\n",
      "  5.97286725e-25 1.17882142e-19 0.00000000e+00 8.72416024e-08\n",
      "  1.73714414e-16 1.83498451e-25 1.79937358e-20 1.05197654e-16\n",
      "  2.22028613e-35 3.39634256e-37 2.13558182e-17 7.59139101e-33\n",
      "  1.91023392e-29 0.00000000e+00 1.08060453e-27 8.59467718e-07\n",
      "  8.39626416e-27 4.38817231e-08 0.00000000e+00 6.46061385e-28\n",
      "  6.51666386e-17 0.00000000e+00 2.19112922e-11 2.10608687e-06\n",
      "  9.99996901e-01 1.31193094e-38 2.02437145e-28 9.92868301e-19\n",
      "  1.48167430e-25 0.00000000e+00 3.75164576e-21 9.73617678e-31]]\n",
      "\n",
      "printing np.argmax(prediction) ======================= ================= ============  32\n",
      "\n",
      "printing last_prediction ======================= ================= ============  stop_inv\n"
     ]
    },
    {
     "name": "stderr",
     "output_type": "stream",
     "text": [
      "C:\\Users\\abhis\\anaconda3\\Lib\\site-packages\\google\\protobuf\\symbol_database.py:55: UserWarning: SymbolDatabase.GetPrototype() is deprecated. Please use message_factory.GetMessageClass() instead. SymbolDatabase.GetPrototype() will be removed soon.\n",
      "  warnings.warn('SymbolDatabase.GetPrototype() is deprecated. Please '\n"
     ]
    },
    {
     "name": "stdout",
     "output_type": "stream",
     "text": [
      "\n",
      "printing here ======================= ================= ============  [[0.0000000e+00 4.5817834e-35 0.0000000e+00 0.0000000e+00 0.0000000e+00\n",
      "  0.0000000e+00 0.0000000e+00 0.0000000e+00 1.5777889e-37 0.0000000e+00\n",
      "  0.0000000e+00 8.9767130e-22 0.0000000e+00 0.0000000e+00 4.2120901e-35\n",
      "  1.7985712e-33 0.0000000e+00 0.0000000e+00 0.0000000e+00 0.0000000e+00\n",
      "  0.0000000e+00 0.0000000e+00 0.0000000e+00 2.2278791e-19 0.0000000e+00\n",
      "  1.8401610e-20 0.0000000e+00 0.0000000e+00 0.0000000e+00 0.0000000e+00\n",
      "  5.3054415e-20 2.1272050e-14 1.0000000e+00 0.0000000e+00 0.0000000e+00\n",
      "  5.2770742e-38 0.0000000e+00 0.0000000e+00 0.0000000e+00 0.0000000e+00]]\n",
      "\n",
      "printing np.argmax(prediction) ======================= ================= ============  32\n",
      "\n",
      "printing last_prediction ======================= ================= ============  stop_inv\n"
     ]
    },
    {
     "name": "stderr",
     "output_type": "stream",
     "text": [
      "C:\\Users\\abhis\\anaconda3\\Lib\\site-packages\\google\\protobuf\\symbol_database.py:55: UserWarning: SymbolDatabase.GetPrototype() is deprecated. Please use message_factory.GetMessageClass() instead. SymbolDatabase.GetPrototype() will be removed soon.\n",
      "  warnings.warn('SymbolDatabase.GetPrototype() is deprecated. Please '\n"
     ]
    },
    {
     "name": "stdout",
     "output_type": "stream",
     "text": [
      "\n",
      "printing here ======================= ================= ============  [[0.00000000e+00 5.78917940e-27 0.00000000e+00 2.27001183e-32\n",
      "  1.51625488e-32 0.00000000e+00 1.91888938e-34 0.00000000e+00\n",
      "  7.89155428e-28 0.00000000e+00 0.00000000e+00 1.54237341e-16\n",
      "  9.74515791e-32 0.00000000e+00 1.16202008e-26 1.28267748e-25\n",
      "  0.00000000e+00 0.00000000e+00 5.41540892e-35 0.00000000e+00\n",
      "  0.00000000e+00 0.00000000e+00 1.20748515e-33 7.00519075e-15\n",
      "  0.00000000e+00 4.25239805e-15 0.00000000e+00 0.00000000e+00\n",
      "  9.00103759e-34 0.00000000e+00 6.72352731e-15 3.02156994e-10\n",
      "  1.00000000e+00 0.00000000e+00 0.00000000e+00 4.28434642e-29\n",
      "  5.32737937e-37 0.00000000e+00 1.37793201e-29 0.00000000e+00]]\n",
      "\n",
      "printing np.argmax(prediction) ======================= ================= ============  32\n",
      "\n",
      "printing last_prediction ======================= ================= ============  stop_inv\n"
     ]
    },
    {
     "name": "stderr",
     "output_type": "stream",
     "text": [
      "C:\\Users\\abhis\\anaconda3\\Lib\\site-packages\\google\\protobuf\\symbol_database.py:55: UserWarning: SymbolDatabase.GetPrototype() is deprecated. Please use message_factory.GetMessageClass() instead. SymbolDatabase.GetPrototype() will be removed soon.\n",
      "  warnings.warn('SymbolDatabase.GetPrototype() is deprecated. Please '\n"
     ]
    },
    {
     "name": "stdout",
     "output_type": "stream",
     "text": [
      "\n",
      "printing here ======================= ================= ============  [[0.00000000e+00 2.41834714e-28 0.00000000e+00 4.22541546e-35\n",
      "  7.60009961e-35 0.00000000e+00 2.86086718e-37 0.00000000e+00\n",
      "  2.54848168e-29 0.00000000e+00 0.00000000e+00 5.82093904e-18\n",
      "  1.42945049e-34 0.00000000e+00 4.02844407e-28 2.95375716e-27\n",
      "  0.00000000e+00 0.00000000e+00 6.36473518e-38 0.00000000e+00\n",
      "  0.00000000e+00 0.00000000e+00 1.07822765e-35 3.72490018e-16\n",
      "  0.00000000e+00 1.43353735e-16 0.00000000e+00 0.00000000e+00\n",
      "  1.05864364e-36 0.00000000e+00 6.26593787e-16 3.73350240e-11\n",
      "  1.00000000e+00 0.00000000e+00 0.00000000e+00 4.62827391e-31\n",
      "  0.00000000e+00 0.00000000e+00 1.67824611e-31 0.00000000e+00]]\n",
      "\n",
      "printing np.argmax(prediction) ======================= ================= ============  32\n",
      "\n",
      "printing last_prediction ======================= ================= ============  stop_inv\n"
     ]
    },
    {
     "name": "stderr",
     "output_type": "stream",
     "text": [
      "C:\\Users\\abhis\\anaconda3\\Lib\\site-packages\\google\\protobuf\\symbol_database.py:55: UserWarning: SymbolDatabase.GetPrototype() is deprecated. Please use message_factory.GetMessageClass() instead. SymbolDatabase.GetPrototype() will be removed soon.\n",
      "  warnings.warn('SymbolDatabase.GetPrototype() is deprecated. Please '\n"
     ]
    },
    {
     "name": "stdout",
     "output_type": "stream",
     "text": [
      "\n",
      "printing here ======================= ================= ============  [[0.0000000e+00 9.8852081e-28 0.0000000e+00 7.7995611e-34 7.3735542e-34\n",
      "  0.0000000e+00 1.3029148e-35 0.0000000e+00 5.2501320e-29 0.0000000e+00\n",
      "  0.0000000e+00 4.6751891e-17 1.2625171e-32 0.0000000e+00 2.9357726e-27\n",
      "  2.5730533e-26 0.0000000e+00 0.0000000e+00 7.6432379e-37 0.0000000e+00\n",
      "  0.0000000e+00 0.0000000e+00 6.8489570e-35 5.3069320e-15 0.0000000e+00\n",
      "  1.1274612e-15 0.0000000e+00 0.0000000e+00 3.5108317e-35 0.0000000e+00\n",
      "  8.9047758e-16 1.2799965e-10 1.0000000e+00 0.0000000e+00 0.0000000e+00\n",
      "  2.6684119e-30 5.3071943e-38 0.0000000e+00 1.1519329e-30 0.0000000e+00]]\n",
      "\n",
      "printing np.argmax(prediction) ======================= ================= ============  32\n",
      "\n",
      "printing last_prediction ======================= ================= ============  stop_inv\n",
      "\n",
      "printing here ======================= ================= ============  [[0.0000000e+00 3.5606773e-30 0.0000000e+00 4.2107041e-37 3.2610619e-37\n",
      "  0.0000000e+00 0.0000000e+00 0.0000000e+00 6.0476293e-32 0.0000000e+00\n",
      "  0.0000000e+00 1.0448918e-18 3.4844787e-36 0.0000000e+00 5.7585554e-30\n",
      "  7.7433434e-29 0.0000000e+00 0.0000000e+00 0.0000000e+00 0.0000000e+00\n",
      "  0.0000000e+00 0.0000000e+00 2.0433289e-38 1.9310305e-16 0.0000000e+00\n",
      "  2.2709559e-17 0.0000000e+00 0.0000000e+00 0.0000000e+00 0.0000000e+00\n",
      "  2.5320334e-17 6.5431302e-12 1.0000000e+00 0.0000000e+00 0.0000000e+00\n",
      "  4.4081791e-33 0.0000000e+00 0.0000000e+00 1.4588072e-33 0.0000000e+00]]\n",
      "\n",
      "printing np.argmax(prediction) ======================= ================= ============  32\n",
      "\n",
      "printing last_prediction ======================= ================= ============  stop_inv\n"
     ]
    },
    {
     "name": "stderr",
     "output_type": "stream",
     "text": [
      "C:\\Users\\abhis\\anaconda3\\Lib\\site-packages\\google\\protobuf\\symbol_database.py:55: UserWarning: SymbolDatabase.GetPrototype() is deprecated. Please use message_factory.GetMessageClass() instead. SymbolDatabase.GetPrototype() will be removed soon.\n",
      "  warnings.warn('SymbolDatabase.GetPrototype() is deprecated. Please '\n",
      "C:\\Users\\abhis\\anaconda3\\Lib\\site-packages\\google\\protobuf\\symbol_database.py:55: UserWarning: SymbolDatabase.GetPrototype() is deprecated. Please use message_factory.GetMessageClass() instead. SymbolDatabase.GetPrototype() will be removed soon.\n",
      "  warnings.warn('SymbolDatabase.GetPrototype() is deprecated. Please '\n"
     ]
    },
    {
     "name": "stdout",
     "output_type": "stream",
     "text": [
      "\n",
      "printing here ======================= ================= ============  [[0.00000000e+00 1.91680096e-30 0.00000000e+00 1.30347023e-37\n",
      "  7.32135119e-38 0.00000000e+00 0.00000000e+00 0.00000000e+00\n",
      "  1.57625873e-32 0.00000000e+00 0.00000000e+00 5.56570233e-19\n",
      "  5.55093603e-37 0.00000000e+00 1.69445122e-30 3.13808377e-29\n",
      "  0.00000000e+00 0.00000000e+00 0.00000000e+00 0.00000000e+00\n",
      "  0.00000000e+00 0.00000000e+00 0.00000000e+00 1.09914794e-16\n",
      "  0.00000000e+00 1.01791109e-17 0.00000000e+00 0.00000000e+00\n",
      "  0.00000000e+00 0.00000000e+00 1.42697854e-17 3.20623042e-12\n",
      "  1.00000000e+00 0.00000000e+00 0.00000000e+00 1.83816331e-33\n",
      "  0.00000000e+00 0.00000000e+00 4.83824108e-34 0.00000000e+00]]\n",
      "\n",
      "printing np.argmax(prediction) ======================= ================= ============  32\n",
      "\n",
      "printing last_prediction ======================= ================= ============  stop_inv\n"
     ]
    },
    {
     "name": "stderr",
     "output_type": "stream",
     "text": [
      "C:\\Users\\abhis\\anaconda3\\Lib\\site-packages\\google\\protobuf\\symbol_database.py:55: UserWarning: SymbolDatabase.GetPrototype() is deprecated. Please use message_factory.GetMessageClass() instead. SymbolDatabase.GetPrototype() will be removed soon.\n",
      "  warnings.warn('SymbolDatabase.GetPrototype() is deprecated. Please '\n"
     ]
    },
    {
     "name": "stdout",
     "output_type": "stream",
     "text": [
      "\n",
      "printing here ======================= ================= ============  [[8.4924688e-23 1.4040233e-28 6.1502593e-31 7.0722327e-02 6.1997513e-23\n",
      "  3.7092450e-18 2.9601701e-04 8.4416362e-29 9.0406388e-22 1.3221098e-02\n",
      "  2.1106157e-22 4.9080637e-07 1.0959943e-06 2.5080778e-18 2.8125100e-15\n",
      "  9.9511765e-10 2.9599508e-20 4.5261195e-16 1.3771414e-02 1.7103732e-26\n",
      "  1.4483361e-15 0.0000000e+00 1.2088731e-26 2.2791813e-09 7.4724791e-16\n",
      "  4.2020403e-08 7.4505701e-29 5.0412923e-20 9.0198594e-01 6.3004009e-26\n",
      "  1.4935143e-10 1.0278010e-06 6.8313358e-07 1.1918267e-17 6.0766599e-23\n",
      "  5.7249602e-15 1.6102646e-24 6.9757895e-28 2.1294969e-13 8.4245006e-19]]\n",
      "\n",
      "printing np.argmax(prediction) ======================= ================= ============  28\n",
      "\n",
      "printing last_prediction ======================= ================= ============  rock\n"
     ]
    },
    {
     "name": "stderr",
     "output_type": "stream",
     "text": [
      "C:\\Users\\abhis\\anaconda3\\Lib\\site-packages\\google\\protobuf\\symbol_database.py:55: UserWarning: SymbolDatabase.GetPrototype() is deprecated. Please use message_factory.GetMessageClass() instead. SymbolDatabase.GetPrototype() will be removed soon.\n",
      "  warnings.warn('SymbolDatabase.GetPrototype() is deprecated. Please '\n"
     ]
    },
    {
     "name": "stdout",
     "output_type": "stream",
     "text": [
      "\n",
      "printing here ======================= ================= ============  [[0.0000000e+00 0.0000000e+00 0.0000000e+00 9.9992716e-01 0.0000000e+00\n",
      "  0.0000000e+00 8.3004228e-14 0.0000000e+00 0.0000000e+00 1.2985004e-13\n",
      "  0.0000000e+00 2.2634381e-33 1.4388730e-31 0.0000000e+00 0.0000000e+00\n",
      "  1.6037711e-31 0.0000000e+00 0.0000000e+00 7.2803217e-05 0.0000000e+00\n",
      "  0.0000000e+00 0.0000000e+00 0.0000000e+00 0.0000000e+00 0.0000000e+00\n",
      "  0.0000000e+00 0.0000000e+00 0.0000000e+00 9.2743389e-25 0.0000000e+00\n",
      "  0.0000000e+00 0.0000000e+00 0.0000000e+00 0.0000000e+00 0.0000000e+00\n",
      "  0.0000000e+00 0.0000000e+00 0.0000000e+00 0.0000000e+00 0.0000000e+00]]\n",
      "\n",
      "printing np.argmax(prediction) ======================= ================= ============  3\n",
      "\n",
      "printing last_prediction ======================= ================= ============  call\n"
     ]
    },
    {
     "name": "stderr",
     "output_type": "stream",
     "text": [
      "C:\\Users\\abhis\\anaconda3\\Lib\\site-packages\\google\\protobuf\\symbol_database.py:55: UserWarning: SymbolDatabase.GetPrototype() is deprecated. Please use message_factory.GetMessageClass() instead. SymbolDatabase.GetPrototype() will be removed soon.\n",
      "  warnings.warn('SymbolDatabase.GetPrototype() is deprecated. Please '\n"
     ]
    },
    {
     "name": "stdout",
     "output_type": "stream",
     "text": [
      "\n",
      "printing here ======================= ================= ============  [[0.00000000e+00 0.00000000e+00 0.00000000e+00 9.99986768e-01\n",
      "  0.00000000e+00 0.00000000e+00 1.62462935e-14 0.00000000e+00\n",
      "  0.00000000e+00 6.89890514e-14 0.00000000e+00 7.21771612e-36\n",
      "  3.11965548e-33 0.00000000e+00 0.00000000e+00 4.31197600e-32\n",
      "  0.00000000e+00 0.00000000e+00 1.32293835e-05 0.00000000e+00\n",
      "  0.00000000e+00 0.00000000e+00 0.00000000e+00 0.00000000e+00\n",
      "  0.00000000e+00 0.00000000e+00 0.00000000e+00 0.00000000e+00\n",
      "  2.54162824e-25 0.00000000e+00 0.00000000e+00 0.00000000e+00\n",
      "  0.00000000e+00 0.00000000e+00 0.00000000e+00 0.00000000e+00\n",
      "  0.00000000e+00 0.00000000e+00 0.00000000e+00 0.00000000e+00]]\n",
      "\n",
      "printing np.argmax(prediction) ======================= ================= ============  3\n",
      "\n",
      "printing last_prediction ======================= ================= ============  call\n"
     ]
    },
    {
     "name": "stderr",
     "output_type": "stream",
     "text": [
      "C:\\Users\\abhis\\anaconda3\\Lib\\site-packages\\google\\protobuf\\symbol_database.py:55: UserWarning: SymbolDatabase.GetPrototype() is deprecated. Please use message_factory.GetMessageClass() instead. SymbolDatabase.GetPrototype() will be removed soon.\n",
      "  warnings.warn('SymbolDatabase.GetPrototype() is deprecated. Please '\n"
     ]
    },
    {
     "name": "stdout",
     "output_type": "stream",
     "text": [
      "\n",
      "printing here ======================= ================= ============  [[0.0000000e+00 0.0000000e+00 0.0000000e+00 9.9976093e-01 0.0000000e+00\n",
      "  0.0000000e+00 6.9350656e-13 0.0000000e+00 0.0000000e+00 1.6982837e-12\n",
      "  0.0000000e+00 1.1244254e-31 3.9259348e-30 0.0000000e+00 0.0000000e+00\n",
      "  3.2756006e-31 0.0000000e+00 0.0000000e+00 2.3901934e-04 0.0000000e+00\n",
      "  0.0000000e+00 0.0000000e+00 0.0000000e+00 0.0000000e+00 0.0000000e+00\n",
      "  0.0000000e+00 0.0000000e+00 0.0000000e+00 1.5754444e-23 0.0000000e+00\n",
      "  0.0000000e+00 0.0000000e+00 0.0000000e+00 0.0000000e+00 0.0000000e+00\n",
      "  0.0000000e+00 0.0000000e+00 0.0000000e+00 0.0000000e+00 0.0000000e+00]]\n",
      "\n",
      "printing np.argmax(prediction) ======================= ================= ============  3\n",
      "\n",
      "printing last_prediction ======================= ================= ============  call\n"
     ]
    },
    {
     "name": "stderr",
     "output_type": "stream",
     "text": [
      "C:\\Users\\abhis\\anaconda3\\Lib\\site-packages\\google\\protobuf\\symbol_database.py:55: UserWarning: SymbolDatabase.GetPrototype() is deprecated. Please use message_factory.GetMessageClass() instead. SymbolDatabase.GetPrototype() will be removed soon.\n",
      "  warnings.warn('SymbolDatabase.GetPrototype() is deprecated. Please '\n"
     ]
    },
    {
     "name": "stdout",
     "output_type": "stream",
     "text": [
      "\n",
      "printing here ======================= ================= ============  [[0.0000000e+00 0.0000000e+00 0.0000000e+00 9.9701452e-01 0.0000000e+00\n",
      "  0.0000000e+00 1.2259701e-11 0.0000000e+00 0.0000000e+00 6.5334363e-11\n",
      "  0.0000000e+00 7.1543863e-28 3.3906644e-27 0.0000000e+00 0.0000000e+00\n",
      "  4.6653608e-31 0.0000000e+00 0.0000000e+00 2.9854805e-03 0.0000000e+00\n",
      "  0.0000000e+00 0.0000000e+00 0.0000000e+00 6.7502354e-37 0.0000000e+00\n",
      "  0.0000000e+00 0.0000000e+00 0.0000000e+00 2.1126548e-21 0.0000000e+00\n",
      "  0.0000000e+00 0.0000000e+00 0.0000000e+00 0.0000000e+00 0.0000000e+00\n",
      "  0.0000000e+00 0.0000000e+00 0.0000000e+00 0.0000000e+00 0.0000000e+00]]\n",
      "\n",
      "printing np.argmax(prediction) ======================= ================= ============  3\n",
      "\n",
      "printing last_prediction ======================= ================= ============  call\n"
     ]
    },
    {
     "name": "stderr",
     "output_type": "stream",
     "text": [
      "C:\\Users\\abhis\\anaconda3\\Lib\\site-packages\\google\\protobuf\\symbol_database.py:55: UserWarning: SymbolDatabase.GetPrototype() is deprecated. Please use message_factory.GetMessageClass() instead. SymbolDatabase.GetPrototype() will be removed soon.\n",
      "  warnings.warn('SymbolDatabase.GetPrototype() is deprecated. Please '\n"
     ]
    },
    {
     "name": "stdout",
     "output_type": "stream",
     "text": [
      "\n",
      "printing here ======================= ================= ============  [[1.24993863e-12 2.81128217e-17 4.81105718e-19 1.06479153e-01\n",
      "  1.43378260e-17 5.68228806e-08 1.30951315e-01 6.55092774e-14\n",
      "  3.82963870e-13 6.83563292e-01 2.54063995e-13 2.59215641e-03\n",
      "  7.15107424e-03 8.87921381e-09 1.05837750e-09 1.20391251e-05\n",
      "  1.08206345e-13 3.51866566e-14 5.55344783e-02 2.30160604e-14\n",
      "  1.20026222e-09 2.93187325e-30 3.78122125e-16 1.92464143e-03\n",
      "  2.80733133e-07 4.89863705e-05 1.01683756e-14 2.48670216e-11\n",
      "  6.05040649e-03 8.32610023e-13 1.69953182e-07 6.89409208e-04\n",
      "  5.00252005e-03 9.85167069e-12 4.79798086e-15 7.82096122e-13\n",
      "  8.48235787e-16 4.92815763e-18 6.89044271e-08 9.52246702e-12]]\n",
      "\n",
      "printing np.argmax(prediction) ======================= ================= ============  9\n",
      "\n",
      "printing last_prediction ======================= ================= ============  fist\n"
     ]
    },
    {
     "name": "stderr",
     "output_type": "stream",
     "text": [
      "C:\\Users\\abhis\\anaconda3\\Lib\\site-packages\\google\\protobuf\\symbol_database.py:55: UserWarning: SymbolDatabase.GetPrototype() is deprecated. Please use message_factory.GetMessageClass() instead. SymbolDatabase.GetPrototype() will be removed soon.\n",
      "  warnings.warn('SymbolDatabase.GetPrototype() is deprecated. Please '\n"
     ]
    },
    {
     "name": "stdout",
     "output_type": "stream",
     "text": [
      "\n",
      "printing here ======================= ================= ============  [[0.0000000e+00 0.0000000e+00 0.0000000e+00 0.0000000e+00 0.0000000e+00\n",
      "  0.0000000e+00 0.0000000e+00 0.0000000e+00 0.0000000e+00 0.0000000e+00\n",
      "  0.0000000e+00 0.0000000e+00 0.0000000e+00 0.0000000e+00 5.0900339e-31\n",
      "  0.0000000e+00 0.0000000e+00 9.0307045e-37 0.0000000e+00 0.0000000e+00\n",
      "  0.0000000e+00 0.0000000e+00 0.0000000e+00 0.0000000e+00 0.0000000e+00\n",
      "  0.0000000e+00 0.0000000e+00 0.0000000e+00 1.0000000e+00 0.0000000e+00\n",
      "  0.0000000e+00 0.0000000e+00 0.0000000e+00 1.8849628e-36 0.0000000e+00\n",
      "  0.0000000e+00 0.0000000e+00 0.0000000e+00 6.0739674e-38 0.0000000e+00]]\n",
      "\n",
      "printing np.argmax(prediction) ======================= ================= ============  28\n",
      "\n",
      "printing last_prediction ======================= ================= ============  rock\n"
     ]
    },
    {
     "name": "stderr",
     "output_type": "stream",
     "text": [
      "C:\\Users\\abhis\\anaconda3\\Lib\\site-packages\\google\\protobuf\\symbol_database.py:55: UserWarning: SymbolDatabase.GetPrototype() is deprecated. Please use message_factory.GetMessageClass() instead. SymbolDatabase.GetPrototype() will be removed soon.\n",
      "  warnings.warn('SymbolDatabase.GetPrototype() is deprecated. Please '\n"
     ]
    },
    {
     "name": "stdout",
     "output_type": "stream",
     "text": [
      "\n",
      "printing here ======================= ================= ============  [[0.0000000e+00 0.0000000e+00 0.0000000e+00 0.0000000e+00 0.0000000e+00\n",
      "  0.0000000e+00 0.0000000e+00 0.0000000e+00 0.0000000e+00 7.1998509e-37\n",
      "  0.0000000e+00 0.0000000e+00 0.0000000e+00 0.0000000e+00 1.7606815e-29\n",
      "  0.0000000e+00 0.0000000e+00 1.9025643e-32 0.0000000e+00 0.0000000e+00\n",
      "  0.0000000e+00 0.0000000e+00 0.0000000e+00 0.0000000e+00 0.0000000e+00\n",
      "  0.0000000e+00 0.0000000e+00 0.0000000e+00 1.0000000e+00 0.0000000e+00\n",
      "  0.0000000e+00 0.0000000e+00 0.0000000e+00 1.7491769e-33 0.0000000e+00\n",
      "  0.0000000e+00 0.0000000e+00 0.0000000e+00 2.8057070e-35 0.0000000e+00]]\n",
      "\n",
      "printing np.argmax(prediction) ======================= ================= ============  28\n",
      "\n",
      "printing last_prediction ======================= ================= ============  rock\n"
     ]
    },
    {
     "name": "stderr",
     "output_type": "stream",
     "text": [
      "C:\\Users\\abhis\\anaconda3\\Lib\\site-packages\\google\\protobuf\\symbol_database.py:55: UserWarning: SymbolDatabase.GetPrototype() is deprecated. Please use message_factory.GetMessageClass() instead. SymbolDatabase.GetPrototype() will be removed soon.\n",
      "  warnings.warn('SymbolDatabase.GetPrototype() is deprecated. Please '\n"
     ]
    },
    {
     "name": "stdout",
     "output_type": "stream",
     "text": [
      "\n",
      "printing here ======================= ================= ============  [[0.0000000e+00 0.0000000e+00 0.0000000e+00 0.0000000e+00 0.0000000e+00\n",
      "  0.0000000e+00 0.0000000e+00 0.0000000e+00 0.0000000e+00 6.8119797e-36\n",
      "  0.0000000e+00 0.0000000e+00 0.0000000e+00 0.0000000e+00 7.8600128e-27\n",
      "  0.0000000e+00 0.0000000e+00 1.4594225e-29 0.0000000e+00 0.0000000e+00\n",
      "  0.0000000e+00 0.0000000e+00 0.0000000e+00 0.0000000e+00 0.0000000e+00\n",
      "  0.0000000e+00 0.0000000e+00 0.0000000e+00 1.0000000e+00 0.0000000e+00\n",
      "  0.0000000e+00 0.0000000e+00 0.0000000e+00 2.4327328e-30 0.0000000e+00\n",
      "  0.0000000e+00 0.0000000e+00 0.0000000e+00 1.8625796e-32 0.0000000e+00]]\n",
      "\n",
      "printing np.argmax(prediction) ======================= ================= ============  28\n",
      "\n",
      "printing last_prediction ======================= ================= ============  rock\n"
     ]
    },
    {
     "name": "stderr",
     "output_type": "stream",
     "text": [
      "C:\\Users\\abhis\\anaconda3\\Lib\\site-packages\\google\\protobuf\\symbol_database.py:55: UserWarning: SymbolDatabase.GetPrototype() is deprecated. Please use message_factory.GetMessageClass() instead. SymbolDatabase.GetPrototype() will be removed soon.\n",
      "  warnings.warn('SymbolDatabase.GetPrototype() is deprecated. Please '\n"
     ]
    },
    {
     "name": "stdout",
     "output_type": "stream",
     "text": [
      "\n",
      "printing here ======================= ================= ============  [[0.0000000e+00 0.0000000e+00 0.0000000e+00 0.0000000e+00 0.0000000e+00\n",
      "  0.0000000e+00 0.0000000e+00 0.0000000e+00 0.0000000e+00 9.5940848e-37\n",
      "  0.0000000e+00 0.0000000e+00 0.0000000e+00 0.0000000e+00 3.5302773e-28\n",
      "  0.0000000e+00 0.0000000e+00 2.4391978e-32 0.0000000e+00 0.0000000e+00\n",
      "  0.0000000e+00 0.0000000e+00 0.0000000e+00 0.0000000e+00 0.0000000e+00\n",
      "  0.0000000e+00 0.0000000e+00 0.0000000e+00 1.0000000e+00 0.0000000e+00\n",
      "  0.0000000e+00 0.0000000e+00 0.0000000e+00 1.3976497e-32 0.0000000e+00\n",
      "  0.0000000e+00 0.0000000e+00 0.0000000e+00 1.4241709e-34 0.0000000e+00]]\n",
      "\n",
      "printing np.argmax(prediction) ======================= ================= ============  28\n",
      "\n",
      "printing last_prediction ======================= ================= ============  rock\n"
     ]
    },
    {
     "name": "stderr",
     "output_type": "stream",
     "text": [
      "C:\\Users\\abhis\\anaconda3\\Lib\\site-packages\\google\\protobuf\\symbol_database.py:55: UserWarning: SymbolDatabase.GetPrototype() is deprecated. Please use message_factory.GetMessageClass() instead. SymbolDatabase.GetPrototype() will be removed soon.\n",
      "  warnings.warn('SymbolDatabase.GetPrototype() is deprecated. Please '\n"
     ]
    },
    {
     "name": "stdout",
     "output_type": "stream",
     "text": [
      "\n",
      "printing here ======================= ================= ============  [[0.0000000e+00 0.0000000e+00 0.0000000e+00 0.0000000e+00 0.0000000e+00\n",
      "  0.0000000e+00 0.0000000e+00 0.0000000e+00 0.0000000e+00 6.4066822e-38\n",
      "  0.0000000e+00 0.0000000e+00 0.0000000e+00 0.0000000e+00 6.9953140e-29\n",
      "  0.0000000e+00 0.0000000e+00 2.9214636e-33 0.0000000e+00 0.0000000e+00\n",
      "  0.0000000e+00 0.0000000e+00 0.0000000e+00 0.0000000e+00 0.0000000e+00\n",
      "  0.0000000e+00 0.0000000e+00 0.0000000e+00 1.0000000e+00 0.0000000e+00\n",
      "  0.0000000e+00 0.0000000e+00 0.0000000e+00 2.8803649e-33 0.0000000e+00\n",
      "  0.0000000e+00 0.0000000e+00 0.0000000e+00 1.3369563e-34 0.0000000e+00]]\n",
      "\n",
      "printing np.argmax(prediction) ======================= ================= ============  28\n",
      "\n",
      "printing last_prediction ======================= ================= ============  rock\n"
     ]
    },
    {
     "name": "stderr",
     "output_type": "stream",
     "text": [
      "C:\\Users\\abhis\\anaconda3\\Lib\\site-packages\\google\\protobuf\\symbol_database.py:55: UserWarning: SymbolDatabase.GetPrototype() is deprecated. Please use message_factory.GetMessageClass() instead. SymbolDatabase.GetPrototype() will be removed soon.\n",
      "  warnings.warn('SymbolDatabase.GetPrototype() is deprecated. Please '\n"
     ]
    },
    {
     "name": "stdout",
     "output_type": "stream",
     "text": [
      "\n",
      "printing here ======================= ================= ============  [[0.0000000e+00 0.0000000e+00 0.0000000e+00 0.0000000e+00 0.0000000e+00\n",
      "  0.0000000e+00 0.0000000e+00 0.0000000e+00 0.0000000e+00 2.8077049e-38\n",
      "  0.0000000e+00 0.0000000e+00 0.0000000e+00 0.0000000e+00 4.5830958e-27\n",
      "  0.0000000e+00 0.0000000e+00 3.9089132e-28 0.0000000e+00 0.0000000e+00\n",
      "  0.0000000e+00 0.0000000e+00 0.0000000e+00 0.0000000e+00 0.0000000e+00\n",
      "  0.0000000e+00 0.0000000e+00 0.0000000e+00 1.0000000e+00 0.0000000e+00\n",
      "  0.0000000e+00 0.0000000e+00 0.0000000e+00 5.1666637e-30 0.0000000e+00\n",
      "  0.0000000e+00 0.0000000e+00 0.0000000e+00 1.0896955e-32 0.0000000e+00]]\n",
      "\n",
      "printing np.argmax(prediction) ======================= ================= ============  28\n",
      "\n",
      "printing last_prediction ======================= ================= ============  rock\n"
     ]
    },
    {
     "name": "stderr",
     "output_type": "stream",
     "text": [
      "C:\\Users\\abhis\\anaconda3\\Lib\\site-packages\\google\\protobuf\\symbol_database.py:55: UserWarning: SymbolDatabase.GetPrototype() is deprecated. Please use message_factory.GetMessageClass() instead. SymbolDatabase.GetPrototype() will be removed soon.\n",
      "  warnings.warn('SymbolDatabase.GetPrototype() is deprecated. Please '\n"
     ]
    },
    {
     "name": "stdout",
     "output_type": "stream",
     "text": [
      "\n",
      "printing here ======================= ================= ============  [[0.0000000e+00 0.0000000e+00 0.0000000e+00 0.0000000e+00 3.8956782e-36\n",
      "  0.0000000e+00 0.0000000e+00 0.0000000e+00 0.0000000e+00 6.4487646e-36\n",
      "  0.0000000e+00 0.0000000e+00 0.0000000e+00 0.0000000e+00 2.0380400e-26\n",
      "  0.0000000e+00 0.0000000e+00 5.5381715e-26 0.0000000e+00 0.0000000e+00\n",
      "  0.0000000e+00 0.0000000e+00 0.0000000e+00 0.0000000e+00 0.0000000e+00\n",
      "  0.0000000e+00 0.0000000e+00 0.0000000e+00 1.0000000e+00 0.0000000e+00\n",
      "  0.0000000e+00 0.0000000e+00 0.0000000e+00 9.9116727e-29 0.0000000e+00\n",
      "  2.1580158e-35 0.0000000e+00 0.0000000e+00 3.8109217e-31 0.0000000e+00]]\n",
      "\n",
      "printing np.argmax(prediction) ======================= ================= ============  28\n",
      "\n",
      "printing last_prediction ======================= ================= ============  rock\n"
     ]
    },
    {
     "name": "stderr",
     "output_type": "stream",
     "text": [
      "C:\\Users\\abhis\\anaconda3\\Lib\\site-packages\\google\\protobuf\\symbol_database.py:55: UserWarning: SymbolDatabase.GetPrototype() is deprecated. Please use message_factory.GetMessageClass() instead. SymbolDatabase.GetPrototype() will be removed soon.\n",
      "  warnings.warn('SymbolDatabase.GetPrototype() is deprecated. Please '\n"
     ]
    },
    {
     "name": "stdout",
     "output_type": "stream",
     "text": [
      "\n",
      "printing here ======================= ================= ============  [[0.0000000e+00 0.0000000e+00 0.0000000e+00 0.0000000e+00 9.6670456e-37\n",
      "  0.0000000e+00 0.0000000e+00 0.0000000e+00 0.0000000e+00 1.4454764e-37\n",
      "  0.0000000e+00 0.0000000e+00 0.0000000e+00 0.0000000e+00 1.7686411e-26\n",
      "  0.0000000e+00 0.0000000e+00 8.7886362e-27 0.0000000e+00 0.0000000e+00\n",
      "  0.0000000e+00 0.0000000e+00 0.0000000e+00 0.0000000e+00 0.0000000e+00\n",
      "  0.0000000e+00 0.0000000e+00 0.0000000e+00 1.0000000e+00 0.0000000e+00\n",
      "  0.0000000e+00 0.0000000e+00 0.0000000e+00 3.5480830e-29 0.0000000e+00\n",
      "  1.1642638e-36 0.0000000e+00 0.0000000e+00 3.5136373e-32 0.0000000e+00]]\n",
      "\n",
      "printing np.argmax(prediction) ======================= ================= ============  28\n",
      "\n",
      "printing last_prediction ======================= ================= ============  rock\n"
     ]
    },
    {
     "name": "stderr",
     "output_type": "stream",
     "text": [
      "C:\\Users\\abhis\\anaconda3\\Lib\\site-packages\\google\\protobuf\\symbol_database.py:55: UserWarning: SymbolDatabase.GetPrototype() is deprecated. Please use message_factory.GetMessageClass() instead. SymbolDatabase.GetPrototype() will be removed soon.\n",
      "  warnings.warn('SymbolDatabase.GetPrototype() is deprecated. Please '\n"
     ]
    },
    {
     "name": "stdout",
     "output_type": "stream",
     "text": [
      "\n",
      "printing here ======================= ================= ============  [[0.00000000e+00 0.00000000e+00 0.00000000e+00 0.00000000e+00\n",
      "  1.09373296e-36 0.00000000e+00 0.00000000e+00 0.00000000e+00\n",
      "  0.00000000e+00 3.59382273e-38 0.00000000e+00 0.00000000e+00\n",
      "  0.00000000e+00 0.00000000e+00 3.14758236e-27 0.00000000e+00\n",
      "  0.00000000e+00 3.34565424e-27 0.00000000e+00 0.00000000e+00\n",
      "  0.00000000e+00 0.00000000e+00 0.00000000e+00 0.00000000e+00\n",
      "  0.00000000e+00 0.00000000e+00 0.00000000e+00 0.00000000e+00\n",
      "  1.00000000e+00 0.00000000e+00 0.00000000e+00 0.00000000e+00\n",
      "  0.00000000e+00 7.18980343e-30 0.00000000e+00 1.34500662e-36\n",
      "  0.00000000e+00 0.00000000e+00 1.09851034e-32 0.00000000e+00]]\n",
      "\n",
      "printing np.argmax(prediction) ======================= ================= ============  28\n",
      "\n",
      "printing last_prediction ======================= ================= ============  rock\n"
     ]
    },
    {
     "name": "stderr",
     "output_type": "stream",
     "text": [
      "C:\\Users\\abhis\\anaconda3\\Lib\\site-packages\\google\\protobuf\\symbol_database.py:55: UserWarning: SymbolDatabase.GetPrototype() is deprecated. Please use message_factory.GetMessageClass() instead. SymbolDatabase.GetPrototype() will be removed soon.\n",
      "  warnings.warn('SymbolDatabase.GetPrototype() is deprecated. Please '\n"
     ]
    },
    {
     "name": "stdout",
     "output_type": "stream",
     "text": [
      "\n",
      "printing here ======================= ================= ============  [[0.0000000e+00 0.0000000e+00 0.0000000e+00 0.0000000e+00 1.3970072e-36\n",
      "  0.0000000e+00 0.0000000e+00 0.0000000e+00 0.0000000e+00 0.0000000e+00\n",
      "  0.0000000e+00 0.0000000e+00 0.0000000e+00 0.0000000e+00 3.8948644e-27\n",
      "  0.0000000e+00 0.0000000e+00 2.4226144e-27 0.0000000e+00 0.0000000e+00\n",
      "  0.0000000e+00 0.0000000e+00 0.0000000e+00 0.0000000e+00 0.0000000e+00\n",
      "  0.0000000e+00 0.0000000e+00 0.0000000e+00 1.0000000e+00 0.0000000e+00\n",
      "  0.0000000e+00 0.0000000e+00 0.0000000e+00 6.4954959e-30 0.0000000e+00\n",
      "  5.2234219e-37 0.0000000e+00 0.0000000e+00 5.0033980e-33 0.0000000e+00]]\n",
      "\n",
      "printing np.argmax(prediction) ======================= ================= ============  28\n",
      "\n",
      "printing last_prediction ======================= ================= ============  rock\n"
     ]
    },
    {
     "name": "stderr",
     "output_type": "stream",
     "text": [
      "C:\\Users\\abhis\\anaconda3\\Lib\\site-packages\\google\\protobuf\\symbol_database.py:55: UserWarning: SymbolDatabase.GetPrototype() is deprecated. Please use message_factory.GetMessageClass() instead. SymbolDatabase.GetPrototype() will be removed soon.\n",
      "  warnings.warn('SymbolDatabase.GetPrototype() is deprecated. Please '\n"
     ]
    },
    {
     "name": "stdout",
     "output_type": "stream",
     "text": [
      "\n",
      "printing here ======================= ================= ============  [[0.0000000e+00 0.0000000e+00 0.0000000e+00 0.0000000e+00 0.0000000e+00\n",
      "  0.0000000e+00 0.0000000e+00 0.0000000e+00 0.0000000e+00 0.0000000e+00\n",
      "  0.0000000e+00 0.0000000e+00 0.0000000e+00 0.0000000e+00 2.9636427e-28\n",
      "  0.0000000e+00 0.0000000e+00 2.3787469e-29 0.0000000e+00 0.0000000e+00\n",
      "  0.0000000e+00 0.0000000e+00 0.0000000e+00 0.0000000e+00 0.0000000e+00\n",
      "  0.0000000e+00 0.0000000e+00 0.0000000e+00 1.0000000e+00 0.0000000e+00\n",
      "  0.0000000e+00 0.0000000e+00 0.0000000e+00 2.0919758e-31 0.0000000e+00\n",
      "  0.0000000e+00 0.0000000e+00 0.0000000e+00 5.4515387e-34 0.0000000e+00]]\n",
      "\n",
      "printing np.argmax(prediction) ======================= ================= ============  28\n",
      "\n",
      "printing last_prediction ======================= ================= ============  rock\n"
     ]
    },
    {
     "name": "stderr",
     "output_type": "stream",
     "text": [
      "C:\\Users\\abhis\\anaconda3\\Lib\\site-packages\\google\\protobuf\\symbol_database.py:55: UserWarning: SymbolDatabase.GetPrototype() is deprecated. Please use message_factory.GetMessageClass() instead. SymbolDatabase.GetPrototype() will be removed soon.\n",
      "  warnings.warn('SymbolDatabase.GetPrototype() is deprecated. Please '\n"
     ]
    },
    {
     "name": "stdout",
     "output_type": "stream",
     "text": [
      "\n",
      "printing here ======================= ================= ============  [[0.0000000e+00 0.0000000e+00 0.0000000e+00 0.0000000e+00 4.4787996e-38\n",
      "  0.0000000e+00 0.0000000e+00 0.0000000e+00 0.0000000e+00 0.0000000e+00\n",
      "  0.0000000e+00 0.0000000e+00 0.0000000e+00 0.0000000e+00 1.0490245e-27\n",
      "  0.0000000e+00 0.0000000e+00 7.9358666e-29 0.0000000e+00 0.0000000e+00\n",
      "  0.0000000e+00 0.0000000e+00 0.0000000e+00 0.0000000e+00 0.0000000e+00\n",
      "  0.0000000e+00 0.0000000e+00 0.0000000e+00 1.0000000e+00 0.0000000e+00\n",
      "  0.0000000e+00 0.0000000e+00 0.0000000e+00 9.5376988e-31 0.0000000e+00\n",
      "  2.7750368e-38 0.0000000e+00 0.0000000e+00 9.0241406e-34 0.0000000e+00]]\n",
      "\n",
      "printing np.argmax(prediction) ======================= ================= ============  28\n",
      "\n",
      "printing last_prediction ======================= ================= ============  rock\n"
     ]
    },
    {
     "name": "stderr",
     "output_type": "stream",
     "text": [
      "C:\\Users\\abhis\\anaconda3\\Lib\\site-packages\\google\\protobuf\\symbol_database.py:55: UserWarning: SymbolDatabase.GetPrototype() is deprecated. Please use message_factory.GetMessageClass() instead. SymbolDatabase.GetPrototype() will be removed soon.\n",
      "  warnings.warn('SymbolDatabase.GetPrototype() is deprecated. Please '\n"
     ]
    },
    {
     "name": "stdout",
     "output_type": "stream",
     "text": [
      "\n",
      "printing here ======================= ================= ============  [[0.0000000e+00 0.0000000e+00 0.0000000e+00 0.0000000e+00 0.0000000e+00\n",
      "  0.0000000e+00 0.0000000e+00 0.0000000e+00 0.0000000e+00 0.0000000e+00\n",
      "  0.0000000e+00 0.0000000e+00 0.0000000e+00 0.0000000e+00 1.0089399e-29\n",
      "  0.0000000e+00 0.0000000e+00 1.7389918e-32 0.0000000e+00 0.0000000e+00\n",
      "  0.0000000e+00 0.0000000e+00 0.0000000e+00 0.0000000e+00 0.0000000e+00\n",
      "  0.0000000e+00 0.0000000e+00 0.0000000e+00 1.0000000e+00 0.0000000e+00\n",
      "  0.0000000e+00 0.0000000e+00 0.0000000e+00 1.3428298e-33 0.0000000e+00\n",
      "  0.0000000e+00 0.0000000e+00 0.0000000e+00 4.8891841e-36 0.0000000e+00]]\n",
      "\n",
      "printing np.argmax(prediction) ======================= ================= ============  28\n",
      "\n",
      "printing last_prediction ======================= ================= ============  rock\n"
     ]
    },
    {
     "name": "stderr",
     "output_type": "stream",
     "text": [
      "C:\\Users\\abhis\\anaconda3\\Lib\\site-packages\\google\\protobuf\\symbol_database.py:55: UserWarning: SymbolDatabase.GetPrototype() is deprecated. Please use message_factory.GetMessageClass() instead. SymbolDatabase.GetPrototype() will be removed soon.\n",
      "  warnings.warn('SymbolDatabase.GetPrototype() is deprecated. Please '\n"
     ]
    },
    {
     "name": "stdout",
     "output_type": "stream",
     "text": [
      "\n",
      "printing here ======================= ================= ============  [[0.0000000e+00 0.0000000e+00 0.0000000e+00 5.9634414e-02 0.0000000e+00\n",
      "  0.0000000e+00 2.3063761e-10 0.0000000e+00 0.0000000e+00 3.3709884e-09\n",
      "  0.0000000e+00 2.8375327e-19 7.3814136e-22 0.0000000e+00 0.0000000e+00\n",
      "  1.1389986e-28 0.0000000e+00 0.0000000e+00 9.4036555e-01 0.0000000e+00\n",
      "  0.0000000e+00 0.0000000e+00 0.0000000e+00 3.0199117e-29 0.0000000e+00\n",
      "  1.2628376e-33 0.0000000e+00 0.0000000e+00 1.4786401e-16 0.0000000e+00\n",
      "  3.5161571e-30 7.8978663e-36 8.8595064e-29 0.0000000e+00 0.0000000e+00\n",
      "  0.0000000e+00 0.0000000e+00 0.0000000e+00 0.0000000e+00 0.0000000e+00]]\n",
      "\n",
      "printing np.argmax(prediction) ======================= ================= ============  18\n",
      "\n",
      "printing last_prediction ======================= ================= ============  like\n"
     ]
    },
    {
     "name": "stderr",
     "output_type": "stream",
     "text": [
      "C:\\Users\\abhis\\anaconda3\\Lib\\site-packages\\google\\protobuf\\symbol_database.py:55: UserWarning: SymbolDatabase.GetPrototype() is deprecated. Please use message_factory.GetMessageClass() instead. SymbolDatabase.GetPrototype() will be removed soon.\n",
      "  warnings.warn('SymbolDatabase.GetPrototype() is deprecated. Please '\n"
     ]
    },
    {
     "name": "stdout",
     "output_type": "stream",
     "text": [
      "\n",
      "printing here ======================= ================= ============  [[0.0000000e+00 0.0000000e+00 0.0000000e+00 9.9969363e-01 0.0000000e+00\n",
      "  6.7114599e-27 9.3191885e-11 0.0000000e+00 0.0000000e+00 2.3666012e-11\n",
      "  0.0000000e+00 8.1578940e-23 1.0030063e-21 2.1491876e-37 0.0000000e+00\n",
      "  1.9309340e-22 0.0000000e+00 0.0000000e+00 3.0634791e-04 0.0000000e+00\n",
      "  2.3520843e-33 0.0000000e+00 0.0000000e+00 8.4299061e-29 1.1070534e-31\n",
      "  0.0000000e+00 0.0000000e+00 0.0000000e+00 1.3333333e-19 0.0000000e+00\n",
      "  2.2140047e-29 0.0000000e+00 6.8421210e-31 0.0000000e+00 0.0000000e+00\n",
      "  0.0000000e+00 0.0000000e+00 0.0000000e+00 1.6246222e-35 0.0000000e+00]]\n",
      "\n",
      "printing np.argmax(prediction) ======================= ================= ============  3\n",
      "\n",
      "printing last_prediction ======================= ================= ============  call\n"
     ]
    },
    {
     "name": "stderr",
     "output_type": "stream",
     "text": [
      "C:\\Users\\abhis\\anaconda3\\Lib\\site-packages\\google\\protobuf\\symbol_database.py:55: UserWarning: SymbolDatabase.GetPrototype() is deprecated. Please use message_factory.GetMessageClass() instead. SymbolDatabase.GetPrototype() will be removed soon.\n",
      "  warnings.warn('SymbolDatabase.GetPrototype() is deprecated. Please '\n"
     ]
    },
    {
     "name": "stdout",
     "output_type": "stream",
     "text": [
      "\n",
      "printing here ======================= ================= ============  [[0.00000000e+00 0.00000000e+00 0.00000000e+00 9.99609888e-01\n",
      "  0.00000000e+00 4.92429201e-29 1.87896948e-10 0.00000000e+00\n",
      "  0.00000000e+00 4.95607236e-11 0.00000000e+00 3.71575928e-22\n",
      "  6.98919958e-21 0.00000000e+00 0.00000000e+00 4.53343689e-24\n",
      "  0.00000000e+00 0.00000000e+00 3.90138710e-04 0.00000000e+00\n",
      "  6.29809537e-37 0.00000000e+00 0.00000000e+00 1.38511495e-27\n",
      "  3.57765838e-34 0.00000000e+00 0.00000000e+00 0.00000000e+00\n",
      "  5.06393302e-19 0.00000000e+00 1.14475630e-30 0.00000000e+00\n",
      "  1.56385572e-29 0.00000000e+00 0.00000000e+00 0.00000000e+00\n",
      "  0.00000000e+00 0.00000000e+00 1.17938800e-38 0.00000000e+00]]\n",
      "\n",
      "printing np.argmax(prediction) ======================= ================= ============  3\n",
      "\n",
      "printing last_prediction ======================= ================= ============  call\n"
     ]
    },
    {
     "name": "stderr",
     "output_type": "stream",
     "text": [
      "C:\\Users\\abhis\\anaconda3\\Lib\\site-packages\\google\\protobuf\\symbol_database.py:55: UserWarning: SymbolDatabase.GetPrototype() is deprecated. Please use message_factory.GetMessageClass() instead. SymbolDatabase.GetPrototype() will be removed soon.\n",
      "  warnings.warn('SymbolDatabase.GetPrototype() is deprecated. Please '\n"
     ]
    },
    {
     "name": "stdout",
     "output_type": "stream",
     "text": [
      "\n",
      "printing here ======================= ================= ============  [[0.0000000e+00 0.0000000e+00 0.0000000e+00 9.9984324e-01 0.0000000e+00\n",
      "  4.1653654e-36 8.3925374e-13 0.0000000e+00 0.0000000e+00 7.5232225e-13\n",
      "  0.0000000e+00 1.1942530e-29 5.9773191e-28 0.0000000e+00 0.0000000e+00\n",
      "  4.5737150e-27 0.0000000e+00 0.0000000e+00 1.5667788e-04 0.0000000e+00\n",
      "  0.0000000e+00 0.0000000e+00 0.0000000e+00 1.3912517e-37 0.0000000e+00\n",
      "  0.0000000e+00 0.0000000e+00 0.0000000e+00 1.4679252e-22 0.0000000e+00\n",
      "  1.1577749e-36 0.0000000e+00 0.0000000e+00 0.0000000e+00 0.0000000e+00\n",
      "  0.0000000e+00 0.0000000e+00 0.0000000e+00 0.0000000e+00 0.0000000e+00]]\n",
      "\n",
      "printing np.argmax(prediction) ======================= ================= ============  3\n",
      "\n",
      "printing last_prediction ======================= ================= ============  call\n"
     ]
    },
    {
     "name": "stderr",
     "output_type": "stream",
     "text": [
      "C:\\Users\\abhis\\anaconda3\\Lib\\site-packages\\google\\protobuf\\symbol_database.py:55: UserWarning: SymbolDatabase.GetPrototype() is deprecated. Please use message_factory.GetMessageClass() instead. SymbolDatabase.GetPrototype() will be removed soon.\n",
      "  warnings.warn('SymbolDatabase.GetPrototype() is deprecated. Please '\n"
     ]
    },
    {
     "name": "stdout",
     "output_type": "stream",
     "text": [
      "\n",
      "printing here ======================= ================= ============  [[0.0000000e+00 0.0000000e+00 0.0000000e+00 9.9999857e-01 0.0000000e+00\n",
      "  0.0000000e+00 1.2342971e-14 0.0000000e+00 0.0000000e+00 3.9911121e-15\n",
      "  0.0000000e+00 4.4986307e-34 5.4837822e-32 0.0000000e+00 0.0000000e+00\n",
      "  4.8091450e-33 0.0000000e+00 0.0000000e+00 1.4040736e-06 0.0000000e+00\n",
      "  0.0000000e+00 0.0000000e+00 0.0000000e+00 0.0000000e+00 0.0000000e+00\n",
      "  0.0000000e+00 0.0000000e+00 0.0000000e+00 2.3478252e-26 0.0000000e+00\n",
      "  0.0000000e+00 0.0000000e+00 0.0000000e+00 0.0000000e+00 0.0000000e+00\n",
      "  0.0000000e+00 0.0000000e+00 0.0000000e+00 0.0000000e+00 0.0000000e+00]]\n",
      "\n",
      "printing np.argmax(prediction) ======================= ================= ============  3\n",
      "\n",
      "printing last_prediction ======================= ================= ============  call\n"
     ]
    },
    {
     "name": "stderr",
     "output_type": "stream",
     "text": [
      "C:\\Users\\abhis\\anaconda3\\Lib\\site-packages\\google\\protobuf\\symbol_database.py:55: UserWarning: SymbolDatabase.GetPrototype() is deprecated. Please use message_factory.GetMessageClass() instead. SymbolDatabase.GetPrototype() will be removed soon.\n",
      "  warnings.warn('SymbolDatabase.GetPrototype() is deprecated. Please '\n"
     ]
    },
    {
     "name": "stdout",
     "output_type": "stream",
     "text": [
      "\n",
      "printing here ======================= ================= ============  [[0.0000000e+00 0.0000000e+00 0.0000000e+00 9.9999237e-01 0.0000000e+00\n",
      "  0.0000000e+00 1.2601283e-13 0.0000000e+00 0.0000000e+00 3.0719808e-14\n",
      "  0.0000000e+00 2.4135409e-32 1.1343854e-30 0.0000000e+00 0.0000000e+00\n",
      "  6.8562839e-33 0.0000000e+00 0.0000000e+00 7.6700699e-06 0.0000000e+00\n",
      "  0.0000000e+00 0.0000000e+00 0.0000000e+00 0.0000000e+00 0.0000000e+00\n",
      "  0.0000000e+00 0.0000000e+00 0.0000000e+00 4.7806194e-25 0.0000000e+00\n",
      "  0.0000000e+00 0.0000000e+00 0.0000000e+00 0.0000000e+00 0.0000000e+00\n",
      "  0.0000000e+00 0.0000000e+00 0.0000000e+00 0.0000000e+00 0.0000000e+00]]\n",
      "\n",
      "printing np.argmax(prediction) ======================= ================= ============  3\n",
      "\n",
      "printing last_prediction ======================= ================= ============  call\n"
     ]
    },
    {
     "name": "stderr",
     "output_type": "stream",
     "text": [
      "C:\\Users\\abhis\\anaconda3\\Lib\\site-packages\\google\\protobuf\\symbol_database.py:55: UserWarning: SymbolDatabase.GetPrototype() is deprecated. Please use message_factory.GetMessageClass() instead. SymbolDatabase.GetPrototype() will be removed soon.\n",
      "  warnings.warn('SymbolDatabase.GetPrototype() is deprecated. Please '\n"
     ]
    },
    {
     "name": "stdout",
     "output_type": "stream",
     "text": [
      "\n",
      "printing here ======================= ================= ============  [[0.0000000e+00 0.0000000e+00 0.0000000e+00 9.9999976e-01 0.0000000e+00\n",
      "  0.0000000e+00 5.0013987e-16 0.0000000e+00 0.0000000e+00 3.9912211e-16\n",
      "  0.0000000e+00 3.6291886e-37 1.2223657e-34 0.0000000e+00 0.0000000e+00\n",
      "  1.8810709e-34 0.0000000e+00 0.0000000e+00 2.8154926e-07 0.0000000e+00\n",
      "  0.0000000e+00 0.0000000e+00 0.0000000e+00 0.0000000e+00 0.0000000e+00\n",
      "  0.0000000e+00 0.0000000e+00 0.0000000e+00 2.4320015e-28 0.0000000e+00\n",
      "  0.0000000e+00 0.0000000e+00 0.0000000e+00 0.0000000e+00 0.0000000e+00\n",
      "  0.0000000e+00 0.0000000e+00 0.0000000e+00 0.0000000e+00 0.0000000e+00]]\n",
      "\n",
      "printing np.argmax(prediction) ======================= ================= ============  3\n",
      "\n",
      "printing last_prediction ======================= ================= ============  call\n"
     ]
    },
    {
     "name": "stderr",
     "output_type": "stream",
     "text": [
      "C:\\Users\\abhis\\anaconda3\\Lib\\site-packages\\google\\protobuf\\symbol_database.py:55: UserWarning: SymbolDatabase.GetPrototype() is deprecated. Please use message_factory.GetMessageClass() instead. SymbolDatabase.GetPrototype() will be removed soon.\n",
      "  warnings.warn('SymbolDatabase.GetPrototype() is deprecated. Please '\n"
     ]
    },
    {
     "name": "stdout",
     "output_type": "stream",
     "text": [
      "\n",
      "printing here ======================= ================= ============  [[0.0000000e+00 0.0000000e+00 0.0000000e+00 2.5617832e-09 0.0000000e+00\n",
      "  0.0000000e+00 4.1699054e-25 0.0000000e+00 0.0000000e+00 4.7855347e-22\n",
      "  0.0000000e+00 5.9253203e-32 0.0000000e+00 0.0000000e+00 0.0000000e+00\n",
      "  1.8901202e-34 0.0000000e+00 0.0000000e+00 1.0000000e+00 0.0000000e+00\n",
      "  0.0000000e+00 0.0000000e+00 0.0000000e+00 0.0000000e+00 0.0000000e+00\n",
      "  0.0000000e+00 0.0000000e+00 0.0000000e+00 7.8444321e-28 0.0000000e+00\n",
      "  2.5445889e-27 0.0000000e+00 4.4459552e-34 0.0000000e+00 0.0000000e+00\n",
      "  4.5088571e-35 0.0000000e+00 0.0000000e+00 0.0000000e+00 0.0000000e+00]]\n",
      "\n",
      "printing np.argmax(prediction) ======================= ================= ============  18\n",
      "\n",
      "printing last_prediction ======================= ================= ============  like\n"
     ]
    },
    {
     "name": "stderr",
     "output_type": "stream",
     "text": [
      "C:\\Users\\abhis\\anaconda3\\Lib\\site-packages\\google\\protobuf\\symbol_database.py:55: UserWarning: SymbolDatabase.GetPrototype() is deprecated. Please use message_factory.GetMessageClass() instead. SymbolDatabase.GetPrototype() will be removed soon.\n",
      "  warnings.warn('SymbolDatabase.GetPrototype() is deprecated. Please '\n"
     ]
    },
    {
     "name": "stdout",
     "output_type": "stream",
     "text": [
      "\n",
      "printing here ======================= ================= ============  [[0.00000000e+00 0.00000000e+00 0.00000000e+00 9.07978301e-06\n",
      "  0.00000000e+00 0.00000000e+00 1.26577771e-13 0.00000000e+00\n",
      "  0.00000000e+00 6.32690124e-12 0.00000000e+00 4.21337852e-16\n",
      "  6.65929082e-24 5.60630055e-37 0.00000000e+00 9.06489845e-29\n",
      "  0.00000000e+00 5.21853736e-36 9.99990940e-01 0.00000000e+00\n",
      "  3.47605312e-38 0.00000000e+00 0.00000000e+00 1.14367136e-26\n",
      "  0.00000000e+00 4.00402950e-22 0.00000000e+00 0.00000000e+00\n",
      "  8.69922352e-14 0.00000000e+00 5.64137074e-24 5.96274991e-24\n",
      "  1.17224495e-19 0.00000000e+00 0.00000000e+00 1.16452500e-27\n",
      "  0.00000000e+00 0.00000000e+00 0.00000000e+00 0.00000000e+00]]\n",
      "\n",
      "printing np.argmax(prediction) ======================= ================= ============  18\n",
      "\n",
      "printing last_prediction ======================= ================= ============  like\n"
     ]
    },
    {
     "name": "stderr",
     "output_type": "stream",
     "text": [
      "C:\\Users\\abhis\\anaconda3\\Lib\\site-packages\\google\\protobuf\\symbol_database.py:55: UserWarning: SymbolDatabase.GetPrototype() is deprecated. Please use message_factory.GetMessageClass() instead. SymbolDatabase.GetPrototype() will be removed soon.\n",
      "  warnings.warn('SymbolDatabase.GetPrototype() is deprecated. Please '\n"
     ]
    },
    {
     "name": "stdout",
     "output_type": "stream",
     "text": [
      "\n",
      "printing here ======================= ================= ============  [[0.0000000e+00 0.0000000e+00 0.0000000e+00 1.0887781e-04 0.0000000e+00\n",
      "  0.0000000e+00 6.5695810e-11 0.0000000e+00 0.0000000e+00 1.3897734e-09\n",
      "  0.0000000e+00 2.9034446e-13 1.2798195e-19 2.5256370e-36 0.0000000e+00\n",
      "  2.6798048e-27 0.0000000e+00 1.5238348e-34 9.9989116e-01 0.0000000e+00\n",
      "  5.5917732e-37 0.0000000e+00 0.0000000e+00 2.0949522e-22 3.1445012e-36\n",
      "  8.9432803e-19 0.0000000e+00 0.0000000e+00 3.0350548e-11 0.0000000e+00\n",
      "  1.3528292e-23 1.1558893e-20 2.9769899e-17 0.0000000e+00 0.0000000e+00\n",
      "  6.5794089e-27 0.0000000e+00 0.0000000e+00 0.0000000e+00 0.0000000e+00]]\n",
      "\n",
      "printing np.argmax(prediction) ======================= ================= ============  18\n",
      "\n",
      "printing last_prediction ======================= ================= ============  like\n"
     ]
    },
    {
     "name": "stderr",
     "output_type": "stream",
     "text": [
      "C:\\Users\\abhis\\anaconda3\\Lib\\site-packages\\google\\protobuf\\symbol_database.py:55: UserWarning: SymbolDatabase.GetPrototype() is deprecated. Please use message_factory.GetMessageClass() instead. SymbolDatabase.GetPrototype() will be removed soon.\n",
      "  warnings.warn('SymbolDatabase.GetPrototype() is deprecated. Please '\n"
     ]
    },
    {
     "name": "stdout",
     "output_type": "stream",
     "text": [
      "\n",
      "printing here ======================= ================= ============  [[0.00000000e+00 0.00000000e+00 0.00000000e+00 1.70554384e-04\n",
      "  0.00000000e+00 0.00000000e+00 1.83640311e-10 0.00000000e+00\n",
      "  0.00000000e+00 4.59457361e-09 0.00000000e+00 7.71789100e-13\n",
      "  4.96170022e-19 7.08591352e-36 0.00000000e+00 1.01115420e-26\n",
      "  0.00000000e+00 1.02423725e-33 9.99829412e-01 0.00000000e+00\n",
      "  2.12279400e-36 0.00000000e+00 0.00000000e+00 8.62706768e-22\n",
      "  1.77648535e-35 4.80448131e-18 0.00000000e+00 0.00000000e+00\n",
      "  2.06612602e-10 0.00000000e+00 1.69379354e-23 5.68464431e-20\n",
      "  6.79689479e-17 0.00000000e+00 0.00000000e+00 2.02262935e-26\n",
      "  0.00000000e+00 0.00000000e+00 0.00000000e+00 0.00000000e+00]]\n",
      "\n",
      "printing np.argmax(prediction) ======================= ================= ============  18\n",
      "\n",
      "printing last_prediction ======================= ================= ============  like\n"
     ]
    },
    {
     "name": "stderr",
     "output_type": "stream",
     "text": [
      "C:\\Users\\abhis\\anaconda3\\Lib\\site-packages\\google\\protobuf\\symbol_database.py:55: UserWarning: SymbolDatabase.GetPrototype() is deprecated. Please use message_factory.GetMessageClass() instead. SymbolDatabase.GetPrototype() will be removed soon.\n",
      "  warnings.warn('SymbolDatabase.GetPrototype() is deprecated. Please '\n"
     ]
    },
    {
     "name": "stdout",
     "output_type": "stream",
     "text": [
      "\n",
      "printing here ======================= ================= ============  [[0.0000000e+00 0.0000000e+00 0.0000000e+00 6.1089470e-04 0.0000000e+00\n",
      "  0.0000000e+00 5.2231339e-09 0.0000000e+00 0.0000000e+00 6.7490376e-08\n",
      "  0.0000000e+00 3.9948930e-11 1.5512999e-16 4.3891288e-34 0.0000000e+00\n",
      "  4.7390178e-25 4.1491223e-37 2.0000782e-31 9.9938905e-01 0.0000000e+00\n",
      "  3.6715097e-34 0.0000000e+00 0.0000000e+00 5.0665821e-19 5.9452603e-33\n",
      "  8.2105328e-16 0.0000000e+00 0.0000000e+00 6.4561338e-09 0.0000000e+00\n",
      "  3.9382731e-22 1.1157616e-17 5.5877269e-15 0.0000000e+00 0.0000000e+00\n",
      "  7.4598454e-25 0.0000000e+00 0.0000000e+00 1.3225566e-38 0.0000000e+00]]\n",
      "\n",
      "printing np.argmax(prediction) ======================= ================= ============  18\n",
      "\n",
      "printing last_prediction ======================= ================= ============  like\n"
     ]
    },
    {
     "name": "stderr",
     "output_type": "stream",
     "text": [
      "C:\\Users\\abhis\\anaconda3\\Lib\\site-packages\\google\\protobuf\\symbol_database.py:55: UserWarning: SymbolDatabase.GetPrototype() is deprecated. Please use message_factory.GetMessageClass() instead. SymbolDatabase.GetPrototype() will be removed soon.\n",
      "  warnings.warn('SymbolDatabase.GetPrototype() is deprecated. Please '\n"
     ]
    },
    {
     "name": "stdout",
     "output_type": "stream",
     "text": [
      "\n",
      "printing here ======================= ================= ============  [[0.0000000e+00 0.0000000e+00 0.0000000e+00 6.2415254e-04 0.0000000e+00\n",
      "  0.0000000e+00 4.2976134e-09 0.0000000e+00 0.0000000e+00 5.1178937e-08\n",
      "  0.0000000e+00 3.0831247e-11 1.3012452e-16 5.3092369e-34 0.0000000e+00\n",
      "  4.8801805e-25 4.5049387e-37 1.7039227e-31 9.9937588e-01 0.0000000e+00\n",
      "  4.0569667e-34 0.0000000e+00 0.0000000e+00 4.1595651e-19 5.8674518e-33\n",
      "  4.7761271e-16 0.0000000e+00 0.0000000e+00 3.3849139e-09 0.0000000e+00\n",
      "  5.8258446e-22 7.5946976e-18 5.5396670e-15 0.0000000e+00 0.0000000e+00\n",
      "  6.9473101e-25 0.0000000e+00 0.0000000e+00 1.8076554e-38 0.0000000e+00]]\n",
      "\n",
      "printing np.argmax(prediction) ======================= ================= ============  18\n",
      "\n",
      "printing last_prediction ======================= ================= ============  like\n"
     ]
    },
    {
     "name": "stderr",
     "output_type": "stream",
     "text": [
      "C:\\Users\\abhis\\anaconda3\\Lib\\site-packages\\google\\protobuf\\symbol_database.py:55: UserWarning: SymbolDatabase.GetPrototype() is deprecated. Please use message_factory.GetMessageClass() instead. SymbolDatabase.GetPrototype() will be removed soon.\n",
      "  warnings.warn('SymbolDatabase.GetPrototype() is deprecated. Please '\n"
     ]
    },
    {
     "name": "stdout",
     "output_type": "stream",
     "text": [
      "\n",
      "printing here ======================= ================= ============  [[3.0850012e-31 2.8316078e-36 7.4042949e-22 3.6253789e-10 1.0684349e-33\n",
      "  2.4258173e-13 1.0000000e+00 5.3355728e-38 0.0000000e+00 2.6245081e-11\n",
      "  1.5310950e-38 4.4700046e-10 2.0348261e-09 7.6473933e-26 2.8820633e-29\n",
      "  1.4180818e-28 7.3296687e-33 5.8908792e-26 2.6926191e-12 6.2258653e-30\n",
      "  3.5098026e-19 0.0000000e+00 1.6934510e-36 3.4055252e-11 2.6231439e-13\n",
      "  6.8856761e-15 3.8472592e-18 1.7052769e-34 2.6965174e-14 0.0000000e+00\n",
      "  1.0048584e-26 1.6802166e-19 3.0087457e-17 6.6681365e-27 2.5063865e-38\n",
      "  1.8966331e-21 1.7246613e-26 0.0000000e+00 1.1866940e-26 2.5193971e-21]]\n",
      "\n",
      "printing np.argmax(prediction) ======================= ================= ============  6\n",
      "\n",
      "printing last_prediction ======================= ================= ============  dislike\n"
     ]
    },
    {
     "name": "stderr",
     "output_type": "stream",
     "text": [
      "C:\\Users\\abhis\\anaconda3\\Lib\\site-packages\\google\\protobuf\\symbol_database.py:55: UserWarning: SymbolDatabase.GetPrototype() is deprecated. Please use message_factory.GetMessageClass() instead. SymbolDatabase.GetPrototype() will be removed soon.\n",
      "  warnings.warn('SymbolDatabase.GetPrototype() is deprecated. Please '\n"
     ]
    },
    {
     "name": "stdout",
     "output_type": "stream",
     "text": [
      "\n",
      "printing here ======================= ================= ============  [[0.0000000e+00 0.0000000e+00 0.0000000e+00 3.9619103e-26 0.0000000e+00\n",
      "  0.0000000e+00 1.0000000e+00 0.0000000e+00 0.0000000e+00 3.4563610e-28\n",
      "  0.0000000e+00 5.8461476e-27 1.7360469e-27 0.0000000e+00 0.0000000e+00\n",
      "  0.0000000e+00 0.0000000e+00 0.0000000e+00 4.7838543e-30 0.0000000e+00\n",
      "  0.0000000e+00 0.0000000e+00 0.0000000e+00 2.5367210e-33 3.0893524e-35\n",
      "  0.0000000e+00 0.0000000e+00 0.0000000e+00 0.0000000e+00 0.0000000e+00\n",
      "  0.0000000e+00 0.0000000e+00 0.0000000e+00 0.0000000e+00 0.0000000e+00\n",
      "  0.0000000e+00 0.0000000e+00 0.0000000e+00 0.0000000e+00 0.0000000e+00]]\n",
      "\n",
      "printing np.argmax(prediction) ======================= ================= ============  6\n",
      "\n",
      "printing last_prediction ======================= ================= ============  dislike\n"
     ]
    },
    {
     "name": "stderr",
     "output_type": "stream",
     "text": [
      "C:\\Users\\abhis\\anaconda3\\Lib\\site-packages\\google\\protobuf\\symbol_database.py:55: UserWarning: SymbolDatabase.GetPrototype() is deprecated. Please use message_factory.GetMessageClass() instead. SymbolDatabase.GetPrototype() will be removed soon.\n",
      "  warnings.warn('SymbolDatabase.GetPrototype() is deprecated. Please '\n"
     ]
    },
    {
     "name": "stdout",
     "output_type": "stream",
     "text": [
      "\n",
      "printing here ======================= ================= ============  [[0.0000000e+00 0.0000000e+00 0.0000000e+00 0.0000000e+00 0.0000000e+00\n",
      "  0.0000000e+00 1.0000000e+00 0.0000000e+00 0.0000000e+00 0.0000000e+00\n",
      "  0.0000000e+00 3.5366098e-37 0.0000000e+00 0.0000000e+00 0.0000000e+00\n",
      "  0.0000000e+00 0.0000000e+00 0.0000000e+00 0.0000000e+00 0.0000000e+00\n",
      "  0.0000000e+00 0.0000000e+00 0.0000000e+00 0.0000000e+00 0.0000000e+00\n",
      "  0.0000000e+00 0.0000000e+00 0.0000000e+00 0.0000000e+00 0.0000000e+00\n",
      "  0.0000000e+00 0.0000000e+00 0.0000000e+00 0.0000000e+00 0.0000000e+00\n",
      "  0.0000000e+00 0.0000000e+00 0.0000000e+00 0.0000000e+00 0.0000000e+00]]\n",
      "\n",
      "printing np.argmax(prediction) ======================= ================= ============  6\n",
      "\n",
      "printing last_prediction ======================= ================= ============  dislike\n"
     ]
    },
    {
     "name": "stderr",
     "output_type": "stream",
     "text": [
      "C:\\Users\\abhis\\anaconda3\\Lib\\site-packages\\google\\protobuf\\symbol_database.py:55: UserWarning: SymbolDatabase.GetPrototype() is deprecated. Please use message_factory.GetMessageClass() instead. SymbolDatabase.GetPrototype() will be removed soon.\n",
      "  warnings.warn('SymbolDatabase.GetPrototype() is deprecated. Please '\n"
     ]
    },
    {
     "name": "stdout",
     "output_type": "stream",
     "text": [
      "\n",
      "printing here ======================= ================= ============  [[0.0000000e+00 0.0000000e+00 0.0000000e+00 4.6664310e-36 0.0000000e+00\n",
      "  0.0000000e+00 1.0000000e+00 0.0000000e+00 0.0000000e+00 0.0000000e+00\n",
      "  0.0000000e+00 1.7191949e-35 1.1715652e-37 0.0000000e+00 0.0000000e+00\n",
      "  0.0000000e+00 0.0000000e+00 0.0000000e+00 0.0000000e+00 0.0000000e+00\n",
      "  0.0000000e+00 0.0000000e+00 0.0000000e+00 0.0000000e+00 0.0000000e+00\n",
      "  0.0000000e+00 0.0000000e+00 0.0000000e+00 0.0000000e+00 0.0000000e+00\n",
      "  0.0000000e+00 0.0000000e+00 0.0000000e+00 0.0000000e+00 0.0000000e+00\n",
      "  0.0000000e+00 0.0000000e+00 0.0000000e+00 0.0000000e+00 0.0000000e+00]]\n",
      "\n",
      "printing np.argmax(prediction) ======================= ================= ============  6\n",
      "\n",
      "printing last_prediction ======================= ================= ============  dislike\n"
     ]
    },
    {
     "name": "stderr",
     "output_type": "stream",
     "text": [
      "C:\\Users\\abhis\\anaconda3\\Lib\\site-packages\\google\\protobuf\\symbol_database.py:55: UserWarning: SymbolDatabase.GetPrototype() is deprecated. Please use message_factory.GetMessageClass() instead. SymbolDatabase.GetPrototype() will be removed soon.\n",
      "  warnings.warn('SymbolDatabase.GetPrototype() is deprecated. Please '\n"
     ]
    },
    {
     "name": "stdout",
     "output_type": "stream",
     "text": [
      "\n",
      "printing here ======================= ================= ============  [[0.0000000e+00 0.0000000e+00 0.0000000e+00 6.6424924e-35 0.0000000e+00\n",
      "  0.0000000e+00 1.0000000e+00 0.0000000e+00 0.0000000e+00 4.1564581e-38\n",
      "  0.0000000e+00 6.3433417e-35 6.0959528e-37 0.0000000e+00 0.0000000e+00\n",
      "  0.0000000e+00 0.0000000e+00 0.0000000e+00 1.5932656e-38 0.0000000e+00\n",
      "  0.0000000e+00 0.0000000e+00 0.0000000e+00 0.0000000e+00 0.0000000e+00\n",
      "  0.0000000e+00 0.0000000e+00 0.0000000e+00 0.0000000e+00 0.0000000e+00\n",
      "  0.0000000e+00 0.0000000e+00 0.0000000e+00 0.0000000e+00 0.0000000e+00\n",
      "  0.0000000e+00 0.0000000e+00 0.0000000e+00 0.0000000e+00 0.0000000e+00]]\n",
      "\n",
      "printing np.argmax(prediction) ======================= ================= ============  6\n",
      "\n",
      "printing last_prediction ======================= ================= ============  dislike\n"
     ]
    },
    {
     "name": "stderr",
     "output_type": "stream",
     "text": [
      "C:\\Users\\abhis\\anaconda3\\Lib\\site-packages\\google\\protobuf\\symbol_database.py:55: UserWarning: SymbolDatabase.GetPrototype() is deprecated. Please use message_factory.GetMessageClass() instead. SymbolDatabase.GetPrototype() will be removed soon.\n",
      "  warnings.warn('SymbolDatabase.GetPrototype() is deprecated. Please '\n"
     ]
    },
    {
     "name": "stdout",
     "output_type": "stream",
     "text": [
      "\n",
      "printing here ======================= ================= ============  [[0.00000000e+00 0.00000000e+00 0.00000000e+00 1.05425604e-19\n",
      "  0.00000000e+00 2.20862807e-34 1.00000000e+00 0.00000000e+00\n",
      "  0.00000000e+00 3.00828080e-21 0.00000000e+00 1.98750186e-22\n",
      "  5.30730358e-20 0.00000000e+00 0.00000000e+00 0.00000000e+00\n",
      "  0.00000000e+00 0.00000000e+00 2.26241363e-24 0.00000000e+00\n",
      "  0.00000000e+00 0.00000000e+00 0.00000000e+00 1.59084155e-24\n",
      "  1.27518474e-31 2.39144334e-33 0.00000000e+00 0.00000000e+00\n",
      "  1.80601481e-28 0.00000000e+00 0.00000000e+00 0.00000000e+00\n",
      "  0.00000000e+00 0.00000000e+00 0.00000000e+00 0.00000000e+00\n",
      "  0.00000000e+00 0.00000000e+00 0.00000000e+00 0.00000000e+00]]\n",
      "\n",
      "printing np.argmax(prediction) ======================= ================= ============  6\n",
      "\n",
      "printing last_prediction ======================= ================= ============  dislike\n"
     ]
    },
    {
     "name": "stderr",
     "output_type": "stream",
     "text": [
      "C:\\Users\\abhis\\anaconda3\\Lib\\site-packages\\google\\protobuf\\symbol_database.py:55: UserWarning: SymbolDatabase.GetPrototype() is deprecated. Please use message_factory.GetMessageClass() instead. SymbolDatabase.GetPrototype() will be removed soon.\n",
      "  warnings.warn('SymbolDatabase.GetPrototype() is deprecated. Please '\n"
     ]
    },
    {
     "name": "stdout",
     "output_type": "stream",
     "text": [
      "\n",
      "printing here ======================= ================= ============  [[9.3279822e-14 6.1756303e-08 5.6290358e-20 1.2988838e-17 6.3448845e-13\n",
      "  9.6734044e-29 7.0651961e-18 2.5734603e-10 4.4317516e-05 4.8436381e-12\n",
      "  1.1899148e-17 1.2710215e-07 2.3157821e-19 1.1097370e-12 2.0727735e-10\n",
      "  1.6915097e-21 2.8203312e-05 2.1341190e-15 2.2287725e-13 4.0162798e-10\n",
      "  1.6509565e-16 0.0000000e+00 3.2144901e-11 4.1748772e-17 5.6237647e-17\n",
      "  5.5954538e-06 1.8797112e-26 1.6882344e-03 1.1346166e-14 7.9867645e-13\n",
      "  9.0578017e-14 4.8288086e-07 1.5830934e-18 6.0122970e-12 8.4532642e-01\n",
      "  3.4068031e-03 1.4947146e-01 2.8055474e-05 2.4509093e-22 1.6889764e-07]]\n",
      "\n",
      "printing np.argmax(prediction) ======================= ================= ============  34\n",
      "\n",
      "printing last_prediction ======================= ================= ============  u\n"
     ]
    },
    {
     "name": "stderr",
     "output_type": "stream",
     "text": [
      "C:\\Users\\abhis\\anaconda3\\Lib\\site-packages\\google\\protobuf\\symbol_database.py:55: UserWarning: SymbolDatabase.GetPrototype() is deprecated. Please use message_factory.GetMessageClass() instead. SymbolDatabase.GetPrototype() will be removed soon.\n",
      "  warnings.warn('SymbolDatabase.GetPrototype() is deprecated. Please '\n"
     ]
    },
    {
     "name": "stdout",
     "output_type": "stream",
     "text": [
      "\n",
      "printing here ======================= ================= ============  [[2.8510194e-04 2.1916085e-11 2.5654991e-21 5.9126051e-11 5.5423190e-13\n",
      "  3.5121493e-14 5.4057654e-11 8.3166085e-10 2.1698505e-03 7.2149334e-07\n",
      "  7.1973631e-08 2.7140720e-10 1.8493017e-17 2.0448672e-10 1.5599985e-08\n",
      "  2.1575532e-18 2.6861623e-01 3.5063786e-07 5.3080731e-09 2.6395498e-04\n",
      "  2.1755681e-05 2.3231411e-38 3.5780207e-10 3.3343334e-20 5.1738609e-12\n",
      "  1.1475129e-10 1.4780015e-17 2.6698490e-03 9.6946546e-14 8.3515834e-09\n",
      "  1.1233447e-07 6.8789280e-12 1.1025711e-19 1.7323719e-05 7.0997649e-01\n",
      "  3.2874374e-04 1.2923733e-02 5.1813538e-04 1.1680261e-12 2.2075833e-03]]\n",
      "\n",
      "printing np.argmax(prediction) ======================= ================= ============  34\n",
      "\n",
      "printing last_prediction ======================= ================= ============  u\n"
     ]
    },
    {
     "name": "stderr",
     "output_type": "stream",
     "text": [
      "C:\\Users\\abhis\\anaconda3\\Lib\\site-packages\\google\\protobuf\\symbol_database.py:55: UserWarning: SymbolDatabase.GetPrototype() is deprecated. Please use message_factory.GetMessageClass() instead. SymbolDatabase.GetPrototype() will be removed soon.\n",
      "  warnings.warn('SymbolDatabase.GetPrototype() is deprecated. Please '\n"
     ]
    },
    {
     "name": "stdout",
     "output_type": "stream",
     "text": [
      "\n",
      "printing here ======================= ================= ============  [[4.7036074e-04 2.9599576e-04 1.4421153e-09 2.8588535e-04 3.2680627e-04\n",
      "  9.1994190e-09 6.1524223e-04 2.4421082e-05 1.9088065e-03 3.0766102e-03\n",
      "  2.6830654e-03 9.9619396e-04 4.5103779e-06 1.3152450e-04 7.6636546e-03\n",
      "  1.2108565e-06 1.8398623e-01 8.8076256e-02 6.5460843e-03 3.0283181e-03\n",
      "  8.4784077e-03 1.6160046e-13 4.2057443e-05 4.6877321e-07 3.3101758e-06\n",
      "  1.2219949e-03 9.9088016e-10 4.0706459e-02 4.0639926e-02 2.9112594e-05\n",
      "  3.1246050e-04 1.9986967e-03 2.0169234e-06 1.8690947e-02 3.9759883e-01\n",
      "  5.2187648e-02 5.8036719e-02 6.2972583e-02 1.7503576e-04 1.6782153e-02]]\n",
      "\n",
      "printing np.argmax(prediction) ======================= ================= ============  34\n",
      "\n",
      "printing last_prediction ======================= ================= ============  u\n"
     ]
    },
    {
     "name": "stderr",
     "output_type": "stream",
     "text": [
      "C:\\Users\\abhis\\anaconda3\\Lib\\site-packages\\google\\protobuf\\symbol_database.py:55: UserWarning: SymbolDatabase.GetPrototype() is deprecated. Please use message_factory.GetMessageClass() instead. SymbolDatabase.GetPrototype() will be removed soon.\n",
      "  warnings.warn('SymbolDatabase.GetPrototype() is deprecated. Please '\n"
     ]
    },
    {
     "name": "stdout",
     "output_type": "stream",
     "text": [
      "\n",
      "printing here ======================= ================= ============  [[4.3513599e-05 1.1234180e-03 6.3303240e-08 6.2559062e-04 1.3041469e-04\n",
      "  1.1987707e-08 1.5514527e-03 3.4905490e-05 6.1499962e-04 6.6531617e-03\n",
      "  2.1136095e-04 4.0586155e-02 1.5024703e-04 3.3246516e-04 1.9585676e-03\n",
      "  1.0179998e-06 9.8292530e-02 2.5829909e-02 3.6515333e-02 9.3792961e-04\n",
      "  2.8143807e-03 2.9658809e-13 1.3543837e-05 3.3917782e-05 3.2227067e-06\n",
      "  5.5085495e-02 1.9598716e-09 2.0270262e-02 1.9051355e-01 5.1157331e-06\n",
      "  5.4043013e-04 5.3032201e-02 8.0379650e-05 5.2690175e-03 1.6065629e-01\n",
      "  1.6019474e-01 8.7666295e-02 3.5438515e-02 6.4157348e-06 1.2783192e-02]]\n",
      "\n",
      "printing np.argmax(prediction) ======================= ================= ============  28\n",
      "\n",
      "printing last_prediction ======================= ================= ============  rock\n"
     ]
    },
    {
     "name": "stderr",
     "output_type": "stream",
     "text": [
      "C:\\Users\\abhis\\anaconda3\\Lib\\site-packages\\google\\protobuf\\symbol_database.py:55: UserWarning: SymbolDatabase.GetPrototype() is deprecated. Please use message_factory.GetMessageClass() instead. SymbolDatabase.GetPrototype() will be removed soon.\n",
      "  warnings.warn('SymbolDatabase.GetPrototype() is deprecated. Please '\n"
     ]
    },
    {
     "name": "stdout",
     "output_type": "stream",
     "text": [
      "\n",
      "printing here ======================= ================= ============  [[3.74162187e-06 5.96743121e-05 5.26547972e-11 6.37023943e-04\n",
      "  1.85130393e-05 5.17780097e-10 8.30572797e-04 1.49252435e-06\n",
      "  1.22039899e-04 5.46494173e-03 1.00899977e-03 1.12539791e-02\n",
      "  1.58469757e-05 2.60664063e-04 1.31151779e-03 8.11364657e-07\n",
      "  1.45055458e-01 1.44697484e-02 4.65689637e-02 4.86358011e-04\n",
      "  2.33684503e-03 1.31082822e-16 6.83824851e-07 1.42674469e-06\n",
      "  2.11053725e-06 1.17048528e-02 9.42898710e-12 2.88936496e-02\n",
      "  2.51641065e-01 2.05640981e-06 8.41637375e-05 1.17541896e-02\n",
      "  5.18220349e-06 1.43412279e-03 2.80291885e-01 1.07261404e-01\n",
      "  3.66261154e-02 3.81958969e-02 2.10428288e-06 2.19193660e-03]]\n",
      "\n",
      "printing np.argmax(prediction) ======================= ================= ============  34\n",
      "\n",
      "printing last_prediction ======================= ================= ============  u\n"
     ]
    },
    {
     "name": "stderr",
     "output_type": "stream",
     "text": [
      "C:\\Users\\abhis\\anaconda3\\Lib\\site-packages\\google\\protobuf\\symbol_database.py:55: UserWarning: SymbolDatabase.GetPrototype() is deprecated. Please use message_factory.GetMessageClass() instead. SymbolDatabase.GetPrototype() will be removed soon.\n",
      "  warnings.warn('SymbolDatabase.GetPrototype() is deprecated. Please '\n"
     ]
    },
    {
     "name": "stdout",
     "output_type": "stream",
     "text": [
      "\n",
      "printing here ======================= ================= ============  [[3.3207150e-05 3.9263046e-05 8.7631125e-11 8.5481699e-04 2.6009591e-05\n",
      "  6.5193662e-10 1.6403011e-03 2.5670495e-06 2.2282843e-04 7.1002538e-03\n",
      "  2.8606306e-04 3.2716556e-03 2.1365217e-05 2.8513579e-05 1.2760942e-03\n",
      "  1.9063332e-07 1.4706485e-01 1.1753951e-01 2.0646203e-02 9.6722040e-04\n",
      "  3.6927091e-03 6.0039559e-16 1.3015576e-06 6.9785523e-07 1.1633111e-06\n",
      "  2.6161589e-03 1.1808239e-10 1.6107129e-02 2.5492465e-01 2.7342235e-06\n",
      "  6.8701578e-05 2.1389134e-03 8.8648039e-07 5.5668512e-03 2.0374687e-01\n",
      "  9.5018759e-02 5.0127566e-02 5.0103948e-02 1.0042165e-05 1.4850013e-02]]\n",
      "\n",
      "printing np.argmax(prediction) ======================= ================= ============  28\n",
      "\n",
      "printing last_prediction ======================= ================= ============  rock\n"
     ]
    },
    {
     "name": "stderr",
     "output_type": "stream",
     "text": [
      "C:\\Users\\abhis\\anaconda3\\Lib\\site-packages\\google\\protobuf\\symbol_database.py:55: UserWarning: SymbolDatabase.GetPrototype() is deprecated. Please use message_factory.GetMessageClass() instead. SymbolDatabase.GetPrototype() will be removed soon.\n",
      "  warnings.warn('SymbolDatabase.GetPrototype() is deprecated. Please '\n"
     ]
    },
    {
     "name": "stdout",
     "output_type": "stream",
     "text": [
      "\n",
      "printing here ======================= ================= ============  [[3.36698758e-05 4.87851503e-06 1.11396048e-08 4.95048180e-09\n",
      "  5.08389312e-05 1.75244357e-14 1.32538446e-07 3.84477153e-06\n",
      "  8.33701924e-04 9.14880366e-06 2.47972196e-07 3.49765578e-05\n",
      "  7.81448961e-10 1.35556178e-07 1.11916233e-04 8.80752583e-14\n",
      "  1.00967422e-01 4.00423910e-03 1.21992537e-06 2.26272732e-05\n",
      "  1.83266056e-05 2.73271030e-21 2.12224177e-06 7.77418338e-11\n",
      "  8.63698904e-11 1.16505944e-04 1.76860106e-11 4.64191195e-03\n",
      "  1.66962745e-05 3.07160448e-08 1.23812413e-06 3.88079161e-06\n",
      "  1.34155751e-11 2.62314826e-02 5.50201356e-01 4.91581969e-02\n",
      "  2.30168745e-01 2.19770949e-02 2.84039203e-07 1.13830380e-02]]\n",
      "\n",
      "printing np.argmax(prediction) ======================= ================= ============  34\n",
      "\n",
      "printing last_prediction ======================= ================= ============  u\n"
     ]
    },
    {
     "name": "stderr",
     "output_type": "stream",
     "text": [
      "C:\\Users\\abhis\\anaconda3\\Lib\\site-packages\\google\\protobuf\\symbol_database.py:55: UserWarning: SymbolDatabase.GetPrototype() is deprecated. Please use message_factory.GetMessageClass() instead. SymbolDatabase.GetPrototype() will be removed soon.\n",
      "  warnings.warn('SymbolDatabase.GetPrototype() is deprecated. Please '\n"
     ]
    },
    {
     "name": "stdout",
     "output_type": "stream",
     "text": [
      "\n",
      "printing here ======================= ================= ============  [[6.3139532e-10 2.9310320e-08 4.3507691e-09 5.8961537e-04 5.3322169e-10\n",
      "  3.0680736e-10 1.5230219e-04 4.7259846e-06 3.3003153e-07 4.8657982e-03\n",
      "  1.0410286e-09 9.4388819e-01 9.6368353e-04 1.2998818e-07 4.9406882e-08\n",
      "  7.9745693e-10 2.0166604e-04 2.0201289e-06 1.0873015e-02 5.8828144e-05\n",
      "  3.6095094e-05 2.1482801e-21 1.5984618e-10 1.4824576e-05 4.6810408e-07\n",
      "  3.1065995e-02 2.0076066e-10 2.1585569e-04 1.8485729e-03 3.9283911e-08\n",
      "  2.9351386e-06 1.7642680e-03 4.5080476e-08 4.4696674e-07 3.5185556e-04\n",
      "  1.8099870e-03 7.4402452e-04 4.6466425e-04 1.8478875e-12 7.9423415e-05]]\n",
      "\n",
      "printing np.argmax(prediction) ======================= ================= ============  11\n",
      "\n",
      "printing last_prediction ======================= ================= ============  grabbing\n"
     ]
    },
    {
     "name": "stderr",
     "output_type": "stream",
     "text": [
      "C:\\Users\\abhis\\anaconda3\\Lib\\site-packages\\google\\protobuf\\symbol_database.py:55: UserWarning: SymbolDatabase.GetPrototype() is deprecated. Please use message_factory.GetMessageClass() instead. SymbolDatabase.GetPrototype() will be removed soon.\n",
      "  warnings.warn('SymbolDatabase.GetPrototype() is deprecated. Please '\n"
     ]
    },
    {
     "name": "stdout",
     "output_type": "stream",
     "text": [
      "\n",
      "printing here ======================= ================= ============  [[2.5040094e-21 7.3474002e-30 0.0000000e+00 1.0018694e-18 1.5290603e-20\n",
      "  4.9740087e-28 4.8245171e-24 0.0000000e+00 1.2766872e-11 9.2336354e-26\n",
      "  8.5459258e-22 1.0241197e-24 0.0000000e+00 1.3953658e-15 8.6804007e-23\n",
      "  2.8559235e-25 4.4289519e-15 6.2449564e-18 1.4231035e-12 9.0466740e-21\n",
      "  4.2522619e-14 0.0000000e+00 3.2365960e-23 9.3600262e-34 2.8741439e-24\n",
      "  3.8504443e-26 7.8667775e-38 1.1088037e-25 6.9549342e-26 0.0000000e+00\n",
      "  1.0000000e+00 5.8384235e-24 9.9054515e-11 2.0858568e-23 1.1074226e-23\n",
      "  7.1422015e-14 2.9751777e-33 1.3293584e-34 2.1435626e-17 3.0458646e-30]]\n",
      "\n",
      "printing np.argmax(prediction) ======================= ================= ============  30\n",
      "\n",
      "printing last_prediction ======================= ================= ============  space\n"
     ]
    },
    {
     "name": "stderr",
     "output_type": "stream",
     "text": [
      "C:\\Users\\abhis\\anaconda3\\Lib\\site-packages\\google\\protobuf\\symbol_database.py:55: UserWarning: SymbolDatabase.GetPrototype() is deprecated. Please use message_factory.GetMessageClass() instead. SymbolDatabase.GetPrototype() will be removed soon.\n",
      "  warnings.warn('SymbolDatabase.GetPrototype() is deprecated. Please '\n"
     ]
    },
    {
     "name": "stdout",
     "output_type": "stream",
     "text": [
      "\n",
      "printing here ======================= ================= ============  [[1.4971171e-23 5.5395667e-33 0.0000000e+00 6.5339465e-21 2.2658102e-22\n",
      "  1.7099110e-31 1.0054758e-26 0.0000000e+00 1.1291028e-12 8.4728592e-29\n",
      "  2.8002590e-24 1.1693879e-27 0.0000000e+00 2.1856989e-17 2.0508312e-25\n",
      "  3.7875049e-29 1.8754498e-16 1.4135032e-19 8.7758969e-14 1.6775553e-23\n",
      "  5.9786121e-16 0.0000000e+00 1.4312959e-25 1.0873466e-37 2.6737653e-27\n",
      "  8.5775762e-29 0.0000000e+00 8.4259941e-29 1.4076154e-28 0.0000000e+00\n",
      "  1.0000000e+00 2.0477267e-26 1.0666205e-11 7.0255712e-26 3.7170322e-26\n",
      "  4.0120152e-15 9.0963965e-37 1.2359423e-38 2.3871675e-19 2.1087515e-33]]\n",
      "\n",
      "printing np.argmax(prediction) ======================= ================= ============  30\n",
      "\n",
      "printing last_prediction ======================= ================= ============  space\n"
     ]
    },
    {
     "name": "stderr",
     "output_type": "stream",
     "text": [
      "C:\\Users\\abhis\\anaconda3\\Lib\\site-packages\\google\\protobuf\\symbol_database.py:55: UserWarning: SymbolDatabase.GetPrototype() is deprecated. Please use message_factory.GetMessageClass() instead. SymbolDatabase.GetPrototype() will be removed soon.\n",
      "  warnings.warn('SymbolDatabase.GetPrototype() is deprecated. Please '\n"
     ]
    },
    {
     "name": "stdout",
     "output_type": "stream",
     "text": [
      "\n",
      "printing here ======================= ================= ============  [[2.93784842e-25 2.12033955e-36 0.00000000e+00 1.01149468e-22\n",
      "  1.22326324e-24 4.96091860e-34 4.14993396e-29 0.00000000e+00\n",
      "  1.12335820e-13 3.43304465e-31 2.21214486e-26 1.42660985e-30\n",
      "  0.00000000e+00 6.00106351e-19 1.50390843e-27 9.17591596e-32\n",
      "  8.24489877e-18 1.75040243e-21 5.08204268e-15 1.44974293e-25\n",
      "  2.49567041e-17 0.00000000e+00 6.76686512e-28 0.00000000e+00\n",
      "  1.11059202e-29 6.83651645e-32 0.00000000e+00 2.23873604e-31\n",
      "  2.86454526e-31 0.00000000e+00 1.00000000e+00 2.86675605e-29\n",
      "  6.54242773e-13 4.47776353e-28 1.59271457e-28 1.31867320e-16\n",
      "  0.00000000e+00 0.00000000e+00 6.51813799e-21 3.35539065e-36]]\n",
      "\n",
      "printing np.argmax(prediction) ======================= ================= ============  30\n",
      "\n",
      "printing last_prediction ======================= ================= ============  space\n"
     ]
    },
    {
     "name": "stderr",
     "output_type": "stream",
     "text": [
      "C:\\Users\\abhis\\anaconda3\\Lib\\site-packages\\google\\protobuf\\symbol_database.py:55: UserWarning: SymbolDatabase.GetPrototype() is deprecated. Please use message_factory.GetMessageClass() instead. SymbolDatabase.GetPrototype() will be removed soon.\n",
      "  warnings.warn('SymbolDatabase.GetPrototype() is deprecated. Please '\n"
     ]
    },
    {
     "name": "stdout",
     "output_type": "stream",
     "text": [
      "\n",
      "printing here ======================= ================= ============  [[2.48910260e-23 5.79189760e-34 0.00000000e+00 2.99902268e-21\n",
      "  4.33893219e-23 1.25912701e-31 4.51236835e-27 0.00000000e+00\n",
      "  1.00464710e-12 4.56619874e-29 1.42231059e-24 1.17754318e-28\n",
      "  0.00000000e+00 1.44798016e-17 6.50808398e-26 3.89851479e-30\n",
      "  1.89572644e-16 5.48267330e-20 6.03116596e-14 5.22969697e-24\n",
      "  2.45094198e-16 0.00000000e+00 4.83813169e-26 0.00000000e+00\n",
      "  1.03751907e-27 1.08071813e-29 0.00000000e+00 3.33052269e-29\n",
      "  2.25702017e-29 0.00000000e+00 1.00000000e+00 2.11475929e-27\n",
      "  2.73943325e-12 4.40053360e-26 2.60513240e-26 2.09928370e-15\n",
      "  2.36105428e-37 0.00000000e+00 1.08228725e-19 1.34307567e-33]]\n",
      "\n",
      "printing np.argmax(prediction) ======================= ================= ============  30\n",
      "\n",
      "printing last_prediction ======================= ================= ============  space\n"
     ]
    },
    {
     "name": "stderr",
     "output_type": "stream",
     "text": [
      "C:\\Users\\abhis\\anaconda3\\Lib\\site-packages\\google\\protobuf\\symbol_database.py:55: UserWarning: SymbolDatabase.GetPrototype() is deprecated. Please use message_factory.GetMessageClass() instead. SymbolDatabase.GetPrototype() will be removed soon.\n",
      "  warnings.warn('SymbolDatabase.GetPrototype() is deprecated. Please '\n"
     ]
    },
    {
     "name": "stdout",
     "output_type": "stream",
     "text": [
      "\n",
      "printing here ======================= ================= ============  [[3.8917979e-23 1.9410283e-33 0.0000000e+00 5.0541107e-21 5.4301089e-23\n",
      "  4.1602320e-31 1.4837708e-26 0.0000000e+00 1.3222346e-12 8.8149519e-29\n",
      "  1.7623391e-24 3.3670853e-28 0.0000000e+00 2.2367205e-17 3.2482796e-26\n",
      "  2.6393770e-30 4.3750639e-16 1.2338486e-19 1.0600361e-13 1.1758451e-23\n",
      "  3.5441836e-16 0.0000000e+00 5.3581442e-26 2.3290549e-38 1.5849755e-27\n",
      "  3.7384702e-29 0.0000000e+00 4.8300475e-29 2.0116209e-29 0.0000000e+00\n",
      "  1.0000000e+00 3.5403399e-27 2.5452687e-12 5.0314753e-26 9.3350681e-26\n",
      "  4.9618940e-15 2.2463013e-36 0.0000000e+00 5.9330473e-20 5.1167774e-33]]\n",
      "\n",
      "printing np.argmax(prediction) ======================= ================= ============  30\n",
      "\n",
      "printing last_prediction ======================= ================= ============  space\n"
     ]
    },
    {
     "name": "stderr",
     "output_type": "stream",
     "text": [
      "C:\\Users\\abhis\\anaconda3\\Lib\\site-packages\\google\\protobuf\\symbol_database.py:55: UserWarning: SymbolDatabase.GetPrototype() is deprecated. Please use message_factory.GetMessageClass() instead. SymbolDatabase.GetPrototype() will be removed soon.\n",
      "  warnings.warn('SymbolDatabase.GetPrototype() is deprecated. Please '\n"
     ]
    },
    {
     "name": "stdout",
     "output_type": "stream",
     "text": [
      "\n",
      "printing here ======================= ================= ============  [[6.3011658e-26 4.5564164e-38 0.0000000e+00 1.6746973e-23 1.0951544e-25\n",
      "  3.3950355e-35 2.5917651e-30 0.0000000e+00 4.7553639e-14 2.8611691e-32\n",
      "  3.5746192e-27 5.5880239e-32 0.0000000e+00 1.4043394e-19 2.7740452e-28\n",
      "  1.1087744e-32 2.1032885e-18 2.0676369e-22 1.4711544e-15 1.8332402e-26\n",
      "  6.6359146e-18 0.0000000e+00 7.6381395e-29 0.0000000e+00 1.0956321e-30\n",
      "  1.9533438e-33 0.0000000e+00 1.9322012e-32 2.1851153e-32 0.0000000e+00\n",
      "  1.0000000e+00 1.3760561e-30 1.9389095e-13 6.2011935e-29 1.2109935e-29\n",
      "  2.3978024e-17 0.0000000e+00 0.0000000e+00 2.1320516e-21 1.4675114e-37]]\n",
      "\n",
      "printing np.argmax(prediction) ======================= ================= ============  30\n",
      "\n",
      "printing last_prediction ======================= ================= ============  space\n"
     ]
    },
    {
     "name": "stderr",
     "output_type": "stream",
     "text": [
      "C:\\Users\\abhis\\anaconda3\\Lib\\site-packages\\google\\protobuf\\symbol_database.py:55: UserWarning: SymbolDatabase.GetPrototype() is deprecated. Please use message_factory.GetMessageClass() instead. SymbolDatabase.GetPrototype() will be removed soon.\n",
      "  warnings.warn('SymbolDatabase.GetPrototype() is deprecated. Please '\n"
     ]
    },
    {
     "name": "stdout",
     "output_type": "stream",
     "text": [
      "\n",
      "printing here ======================= ================= ============  [[1.05102944e-23 2.11289714e-34 0.00000000e+00 1.50296668e-21\n",
      "  9.22920795e-24 6.12148499e-32 2.19859906e-27 0.00000000e+00\n",
      "  7.22702985e-13 1.51314282e-29 3.88402224e-25 5.96303841e-29\n",
      "  0.00000000e+00 6.78667571e-18 7.71613509e-27 7.43789207e-31\n",
      "  1.52067547e-16 2.44936677e-20 4.32885844e-14 4.56535697e-24\n",
      "  1.86681297e-16 0.00000000e+00 1.11441317e-26 0.00000000e+00\n",
      "  2.77015363e-28 4.55330727e-30 0.00000000e+00 7.21579596e-30\n",
      "  2.99411652e-30 0.00000000e+00 1.00000000e+00 6.07483275e-28\n",
      "  1.37270544e-12 9.31866134e-27 1.32351970e-26 1.53966418e-15\n",
      "  1.76098342e-37 0.00000000e+00 2.14215335e-20 5.30643588e-34]]\n",
      "\n",
      "printing np.argmax(prediction) ======================= ================= ============  30\n",
      "\n",
      "printing last_prediction ======================= ================= ============  space\n"
     ]
    },
    {
     "name": "stderr",
     "output_type": "stream",
     "text": [
      "C:\\Users\\abhis\\anaconda3\\Lib\\site-packages\\google\\protobuf\\symbol_database.py:55: UserWarning: SymbolDatabase.GetPrototype() is deprecated. Please use message_factory.GetMessageClass() instead. SymbolDatabase.GetPrototype() will be removed soon.\n",
      "  warnings.warn('SymbolDatabase.GetPrototype() is deprecated. Please '\n"
     ]
    },
    {
     "name": "stdout",
     "output_type": "stream",
     "text": [
      "\n",
      "printing here ======================= ================= ============  [[4.7986527e-25 5.1649705e-37 0.0000000e+00 8.8618097e-23 4.0236430e-25\n",
      "  5.6849882e-34 2.3122191e-29 0.0000000e+00 1.1751133e-13 2.7504591e-31\n",
      "  2.0292427e-26 4.3691761e-31 0.0000000e+00 5.5656387e-19 1.0770440e-27\n",
      "  6.8832529e-32 8.6387343e-18 1.0028888e-21 4.4661070e-15 1.2041002e-25\n",
      "  2.2155163e-17 0.0000000e+00 3.8902887e-28 0.0000000e+00 7.8476266e-30\n",
      "  1.6693254e-32 0.0000000e+00 1.5247648e-31 1.1437661e-31 0.0000000e+00\n",
      "  1.0000000e+00 7.4263565e-30 3.2597582e-13 3.9420365e-28 1.1597825e-28\n",
      "  8.1160871e-17 0.0000000e+00 0.0000000e+00 6.1168508e-21 2.2657681e-36]]\n",
      "\n",
      "printing np.argmax(prediction) ======================= ================= ============  30\n",
      "\n",
      "printing last_prediction ======================= ================= ============  space\n"
     ]
    },
    {
     "name": "stderr",
     "output_type": "stream",
     "text": [
      "C:\\Users\\abhis\\anaconda3\\Lib\\site-packages\\google\\protobuf\\symbol_database.py:55: UserWarning: SymbolDatabase.GetPrototype() is deprecated. Please use message_factory.GetMessageClass() instead. SymbolDatabase.GetPrototype() will be removed soon.\n",
      "  warnings.warn('SymbolDatabase.GetPrototype() is deprecated. Please '\n"
     ]
    },
    {
     "name": "stdout",
     "output_type": "stream",
     "text": [
      "\n",
      "printing here ======================= ================= ============  [[3.8044938e-20 1.1700387e-28 0.0000000e+00 3.0720801e-18 6.0639292e-20\n",
      "  7.0713029e-27 4.4378976e-23 0.0000000e+00 3.5040311e-11 4.1484228e-25\n",
      "  1.8511858e-21 3.3766879e-24 1.7141302e-38 3.0546611e-15 5.4240012e-23\n",
      "  2.4910080e-26 5.3583911e-14 1.1027009e-16 6.0368230e-12 2.0745283e-20\n",
      "  7.2137222e-14 0.0000000e+00 1.3981634e-22 3.7820976e-33 5.1467920e-24\n",
      "  5.6120985e-25 9.1388291e-37 1.8597252e-25 1.2953786e-25 0.0000000e+00\n",
      "  1.0000000e+00 2.0978983e-23 1.0641277e-10 1.3635261e-22 2.2491810e-22\n",
      "  5.5810695e-13 5.1600624e-31 5.7180908e-34 1.7465775e-17 1.1859189e-28]]\n",
      "\n",
      "printing np.argmax(prediction) ======================= ================= ============  30\n",
      "\n",
      "printing last_prediction ======================= ================= ============  space\n"
     ]
    },
    {
     "name": "stderr",
     "output_type": "stream",
     "text": [
      "C:\\Users\\abhis\\anaconda3\\Lib\\site-packages\\google\\protobuf\\symbol_database.py:55: UserWarning: SymbolDatabase.GetPrototype() is deprecated. Please use message_factory.GetMessageClass() instead. SymbolDatabase.GetPrototype() will be removed soon.\n",
      "  warnings.warn('SymbolDatabase.GetPrototype() is deprecated. Please '\n"
     ]
    },
    {
     "name": "stdout",
     "output_type": "stream",
     "text": [
      "\n",
      "printing here ======================= ================= ============  [[6.30921614e-34 1.44425785e-21 1.18962950e-27 1.16546285e-13\n",
      "  7.41268233e-22 0.00000000e+00 1.20333897e-14 1.48723043e-28\n",
      "  1.69788789e-20 1.67215252e-11 0.00000000e+00 8.69344658e-05\n",
      "  2.22503981e-12 3.18004506e-27 2.70585787e-20 2.30615855e-20\n",
      "  1.16991006e-25 2.55259770e-27 5.03791731e-10 8.83647844e-32\n",
      "  4.64636759e-31 0.00000000e+00 3.70042152e-25 6.04586992e-10\n",
      "  3.23821662e-27 3.89098823e-01 0.00000000e+00 8.01988762e-21\n",
      "  9.54274215e-10 1.34266985e-33 1.14763361e-15 6.10814035e-01\n",
      "  2.44943209e-07 1.98412508e-26 5.45177818e-21 1.87428171e-13\n",
      "  1.22841915e-18 2.64604695e-31 3.79597975e-28 6.15233945e-23]]\n",
      "\n",
      "printing np.argmax(prediction) ======================= ================= ============  31\n",
      "\n",
      "printing last_prediction ======================= ================= ============  stop\n"
     ]
    },
    {
     "name": "stderr",
     "output_type": "stream",
     "text": [
      "C:\\Users\\abhis\\anaconda3\\Lib\\site-packages\\google\\protobuf\\symbol_database.py:55: UserWarning: SymbolDatabase.GetPrototype() is deprecated. Please use message_factory.GetMessageClass() instead. SymbolDatabase.GetPrototype() will be removed soon.\n",
      "  warnings.warn('SymbolDatabase.GetPrototype() is deprecated. Please '\n"
     ]
    },
    {
     "name": "stdout",
     "output_type": "stream",
     "text": [
      "\n",
      "printing here ======================= ================= ============  [[0.0000000e+00 3.9401741e-35 4.3213410e-38 6.8847881e-14 0.0000000e+00\n",
      "  1.1721557e-37 1.7391683e-13 2.4736928e-38 1.2602672e-37 1.2378315e-13\n",
      "  0.0000000e+00 9.9673259e-01 1.4219026e-11 7.8582937e-30 3.0119888e-37\n",
      "  4.3403146e-27 1.9828859e-34 0.0000000e+00 9.4614683e-10 1.8314469e-38\n",
      "  3.6252885e-37 0.0000000e+00 0.0000000e+00 1.9179741e-07 1.2958904e-29\n",
      "  3.2521186e-03 0.0000000e+00 5.5707251e-31 8.5624284e-17 0.0000000e+00\n",
      "  7.7850035e-25 1.5124635e-05 5.2990828e-12 0.0000000e+00 1.1983146e-30\n",
      "  7.6274899e-20 9.6585094e-27 0.0000000e+00 0.0000000e+00 7.9697436e-32]]\n",
      "\n",
      "printing np.argmax(prediction) ======================= ================= ============  11\n",
      "\n",
      "printing last_prediction ======================= ================= ============  grabbing\n"
     ]
    },
    {
     "name": "stderr",
     "output_type": "stream",
     "text": [
      "C:\\Users\\abhis\\anaconda3\\Lib\\site-packages\\google\\protobuf\\symbol_database.py:55: UserWarning: SymbolDatabase.GetPrototype() is deprecated. Please use message_factory.GetMessageClass() instead. SymbolDatabase.GetPrototype() will be removed soon.\n",
      "  warnings.warn('SymbolDatabase.GetPrototype() is deprecated. Please '\n"
     ]
    },
    {
     "name": "stdout",
     "output_type": "stream",
     "text": [
      "\n",
      "printing here ======================= ================= ============  [[0.0000000e+00 0.0000000e+00 0.0000000e+00 5.5139463e-18 0.0000000e+00\n",
      "  0.0000000e+00 2.3587523e-18 0.0000000e+00 0.0000000e+00 6.7066811e-18\n",
      "  0.0000000e+00 9.9996471e-01 5.0597513e-16 3.5938405e-34 0.0000000e+00\n",
      "  1.7714469e-35 1.3270694e-38 0.0000000e+00 3.6222477e-12 0.0000000e+00\n",
      "  0.0000000e+00 0.0000000e+00 0.0000000e+00 2.5713898e-13 2.9106345e-35\n",
      "  3.5296522e-05 0.0000000e+00 4.2352253e-34 8.1100546e-22 0.0000000e+00\n",
      "  6.1866037e-31 4.0591459e-09 5.9219618e-20 0.0000000e+00 1.1949516e-33\n",
      "  9.7452677e-23 1.3809611e-30 0.0000000e+00 0.0000000e+00 0.0000000e+00]]\n",
      "\n",
      "printing np.argmax(prediction) ======================= ================= ============  11\n",
      "\n",
      "printing last_prediction ======================= ================= ============  grabbing\n"
     ]
    },
    {
     "name": "stderr",
     "output_type": "stream",
     "text": [
      "C:\\Users\\abhis\\anaconda3\\Lib\\site-packages\\google\\protobuf\\symbol_database.py:55: UserWarning: SymbolDatabase.GetPrototype() is deprecated. Please use message_factory.GetMessageClass() instead. SymbolDatabase.GetPrototype() will be removed soon.\n",
      "  warnings.warn('SymbolDatabase.GetPrototype() is deprecated. Please '\n"
     ]
    },
    {
     "name": "stdout",
     "output_type": "stream",
     "text": [
      "\n",
      "printing here ======================= ================= ============  [[0.0000000e+00 0.0000000e+00 0.0000000e+00 1.3249569e-22 0.0000000e+00\n",
      "  0.0000000e+00 9.5537564e-24 0.0000000e+00 0.0000000e+00 8.1291075e-23\n",
      "  0.0000000e+00 1.0000000e+00 3.3519384e-20 0.0000000e+00 0.0000000e+00\n",
      "  0.0000000e+00 0.0000000e+00 0.0000000e+00 2.0180672e-16 0.0000000e+00\n",
      "  0.0000000e+00 0.0000000e+00 0.0000000e+00 2.1991220e-17 0.0000000e+00\n",
      "  7.6549460e-09 0.0000000e+00 2.7700776e-37 2.2746876e-29 0.0000000e+00\n",
      "  1.4915429e-37 1.1760035e-13 6.9630010e-27 0.0000000e+00 8.9208263e-38\n",
      "  6.1484778e-29 5.4321264e-35 0.0000000e+00 0.0000000e+00 0.0000000e+00]]\n",
      "\n",
      "printing np.argmax(prediction) ======================= ================= ============  11\n",
      "\n",
      "printing last_prediction ======================= ================= ============  grabbing\n"
     ]
    },
    {
     "name": "stderr",
     "output_type": "stream",
     "text": [
      "C:\\Users\\abhis\\anaconda3\\Lib\\site-packages\\google\\protobuf\\symbol_database.py:55: UserWarning: SymbolDatabase.GetPrototype() is deprecated. Please use message_factory.GetMessageClass() instead. SymbolDatabase.GetPrototype() will be removed soon.\n",
      "  warnings.warn('SymbolDatabase.GetPrototype() is deprecated. Please '\n"
     ]
    },
    {
     "name": "stdout",
     "output_type": "stream",
     "text": [
      "\n",
      "printing here ======================= ================= ============  [[0.0000000e+00 0.0000000e+00 0.0000000e+00 2.3789369e-22 0.0000000e+00\n",
      "  0.0000000e+00 1.8419211e-23 0.0000000e+00 0.0000000e+00 1.4233922e-22\n",
      "  0.0000000e+00 1.0000000e+00 5.5536952e-20 0.0000000e+00 0.0000000e+00\n",
      "  0.0000000e+00 0.0000000e+00 0.0000000e+00 3.3560904e-16 0.0000000e+00\n",
      "  0.0000000e+00 0.0000000e+00 0.0000000e+00 3.3506906e-17 0.0000000e+00\n",
      "  1.0416834e-08 0.0000000e+00 3.7500529e-37 4.9788473e-29 0.0000000e+00\n",
      "  3.6596912e-37 1.7732907e-13 1.5790562e-26 0.0000000e+00 1.4253047e-37\n",
      "  1.2798406e-28 9.5483828e-35 0.0000000e+00 0.0000000e+00 0.0000000e+00]]\n",
      "\n",
      "printing np.argmax(prediction) ======================= ================= ============  11\n",
      "\n",
      "printing last_prediction ======================= ================= ============  grabbing\n"
     ]
    },
    {
     "name": "stderr",
     "output_type": "stream",
     "text": [
      "C:\\Users\\abhis\\anaconda3\\Lib\\site-packages\\google\\protobuf\\symbol_database.py:55: UserWarning: SymbolDatabase.GetPrototype() is deprecated. Please use message_factory.GetMessageClass() instead. SymbolDatabase.GetPrototype() will be removed soon.\n",
      "  warnings.warn('SymbolDatabase.GetPrototype() is deprecated. Please '\n"
     ]
    },
    {
     "name": "stdout",
     "output_type": "stream",
     "text": [
      "\n",
      "printing here ======================= ================= ============  [[0.0000000e+00 0.0000000e+00 0.0000000e+00 1.9266540e-22 0.0000000e+00\n",
      "  0.0000000e+00 1.1555196e-23 0.0000000e+00 0.0000000e+00 1.2907095e-22\n",
      "  0.0000000e+00 1.0000000e+00 4.0256800e-20 0.0000000e+00 0.0000000e+00\n",
      "  0.0000000e+00 0.0000000e+00 0.0000000e+00 2.5798577e-16 0.0000000e+00\n",
      "  0.0000000e+00 0.0000000e+00 0.0000000e+00 1.1441321e-17 0.0000000e+00\n",
      "  6.1399503e-09 0.0000000e+00 1.5480577e-36 4.0216709e-29 0.0000000e+00\n",
      "  2.5223384e-37 8.6158626e-14 3.2098465e-27 0.0000000e+00 4.0290864e-37\n",
      "  1.2410889e-28 1.5793268e-34 0.0000000e+00 0.0000000e+00 0.0000000e+00]]\n",
      "\n",
      "printing np.argmax(prediction) ======================= ================= ============  11\n",
      "\n",
      "printing last_prediction ======================= ================= ============  grabbing\n"
     ]
    },
    {
     "name": "stderr",
     "output_type": "stream",
     "text": [
      "C:\\Users\\abhis\\anaconda3\\Lib\\site-packages\\google\\protobuf\\symbol_database.py:55: UserWarning: SymbolDatabase.GetPrototype() is deprecated. Please use message_factory.GetMessageClass() instead. SymbolDatabase.GetPrototype() will be removed soon.\n",
      "  warnings.warn('SymbolDatabase.GetPrototype() is deprecated. Please '\n"
     ]
    },
    {
     "name": "stdout",
     "output_type": "stream",
     "text": [
      "\n",
      "printing here ======================= ================= ============  [[0.0000000e+00 0.0000000e+00 0.0000000e+00 1.5921610e-17 0.0000000e+00\n",
      "  0.0000000e+00 2.4236181e-18 0.0000000e+00 0.0000000e+00 3.4290825e-17\n",
      "  0.0000000e+00 9.9999774e-01 1.3807063e-15 2.0900409e-31 0.0000000e+00\n",
      "  1.1746349e-33 3.7209378e-34 0.0000000e+00 1.5759887e-12 1.1426709e-35\n",
      "  4.9154989e-38 0.0000000e+00 0.0000000e+00 2.6812382e-14 1.4812923e-31\n",
      "  2.2898491e-06 0.0000000e+00 8.6370519e-29 1.0496498e-21 0.0000000e+00\n",
      "  1.9353053e-29 1.6773546e-10 4.1958792e-22 0.0000000e+00 3.2416696e-29\n",
      "  6.7370185e-22 6.3679133e-27 0.0000000e+00 0.0000000e+00 1.4195898e-34]]\n",
      "\n",
      "printing np.argmax(prediction) ======================= ================= ============  11\n",
      "\n",
      "printing last_prediction ======================= ================= ============  grabbing\n"
     ]
    },
    {
     "name": "stderr",
     "output_type": "stream",
     "text": [
      "C:\\Users\\abhis\\anaconda3\\Lib\\site-packages\\google\\protobuf\\symbol_database.py:55: UserWarning: SymbolDatabase.GetPrototype() is deprecated. Please use message_factory.GetMessageClass() instead. SymbolDatabase.GetPrototype() will be removed soon.\n",
      "  warnings.warn('SymbolDatabase.GetPrototype() is deprecated. Please '\n"
     ]
    },
    {
     "name": "stdout",
     "output_type": "stream",
     "text": [
      "\n",
      "printing here ======================= ================= ============  [[0.0000000e+00 0.0000000e+00 0.0000000e+00 5.0808116e-19 0.0000000e+00\n",
      "  0.0000000e+00 3.0099122e-20 0.0000000e+00 0.0000000e+00 6.1763658e-19\n",
      "  0.0000000e+00 1.0000000e+00 6.1182401e-17 3.2111822e-34 0.0000000e+00\n",
      "  5.7734067e-36 7.1741582e-38 0.0000000e+00 2.9817965e-14 6.4365187e-38\n",
      "  0.0000000e+00 0.0000000e+00 0.0000000e+00 1.3954616e-15 6.3919989e-34\n",
      "  3.5446309e-08 0.0000000e+00 6.0372370e-31 1.6212839e-24 0.0000000e+00\n",
      "  2.1119485e-32 1.5612335e-12 1.1569789e-24 0.0000000e+00 3.1887250e-32\n",
      "  5.2123442e-26 4.3944015e-30 0.0000000e+00 0.0000000e+00 1.8353071e-38]]\n",
      "\n",
      "printing np.argmax(prediction) ======================= ================= ============  11\n",
      "\n",
      "printing last_prediction ======================= ================= ============  grabbing\n"
     ]
    },
    {
     "name": "stderr",
     "output_type": "stream",
     "text": [
      "C:\\Users\\abhis\\anaconda3\\Lib\\site-packages\\google\\protobuf\\symbol_database.py:55: UserWarning: SymbolDatabase.GetPrototype() is deprecated. Please use message_factory.GetMessageClass() instead. SymbolDatabase.GetPrototype() will be removed soon.\n",
      "  warnings.warn('SymbolDatabase.GetPrototype() is deprecated. Please '\n"
     ]
    },
    {
     "name": "stdout",
     "output_type": "stream",
     "text": [
      "\n",
      "printing here ======================= ================= ============  [[0.0000000e+00 0.0000000e+00 0.0000000e+00 3.0615434e-15 0.0000000e+00\n",
      "  0.0000000e+00 3.8769026e-17 0.0000000e+00 0.0000000e+00 9.7928672e-15\n",
      "  0.0000000e+00 9.9999988e-01 3.1078364e-14 1.7457446e-32 0.0000000e+00\n",
      "  1.6613390e-33 2.5444631e-34 0.0000000e+00 3.8317034e-11 6.0838053e-36\n",
      "  6.5136880e-36 0.0000000e+00 0.0000000e+00 4.2390844e-15 2.2164311e-30\n",
      "  9.9415409e-08 0.0000000e+00 3.5675992e-29 2.4068539e-19 0.0000000e+00\n",
      "  8.1014943e-30 3.1905350e-11 5.8955406e-23 0.0000000e+00 2.3185582e-31\n",
      "  6.9229876e-25 1.3039826e-29 0.0000000e+00 0.0000000e+00 3.1817576e-35]]\n",
      "\n",
      "printing np.argmax(prediction) ======================= ================= ============  11\n",
      "\n",
      "printing last_prediction ======================= ================= ============  grabbing\n"
     ]
    },
    {
     "name": "stderr",
     "output_type": "stream",
     "text": [
      "C:\\Users\\abhis\\anaconda3\\Lib\\site-packages\\google\\protobuf\\symbol_database.py:55: UserWarning: SymbolDatabase.GetPrototype() is deprecated. Please use message_factory.GetMessageClass() instead. SymbolDatabase.GetPrototype() will be removed soon.\n",
      "  warnings.warn('SymbolDatabase.GetPrototype() is deprecated. Please '\n"
     ]
    },
    {
     "name": "stdout",
     "output_type": "stream",
     "text": [
      "\n",
      "printing here ======================= ================= ============  [[0.0000000e+00 0.0000000e+00 0.0000000e+00 1.9577079e-14 0.0000000e+00\n",
      "  0.0000000e+00 8.6698375e-17 3.2808765e-37 0.0000000e+00 2.0081821e-14\n",
      "  0.0000000e+00 1.0000000e+00 8.0640518e-14 5.2535152e-30 0.0000000e+00\n",
      "  2.1456673e-30 3.0526181e-33 0.0000000e+00 3.9010746e-11 1.9217777e-32\n",
      "  7.4392460e-33 0.0000000e+00 0.0000000e+00 4.7096336e-15 4.5493364e-28\n",
      "  2.0675797e-09 0.0000000e+00 1.8743461e-26 8.1250274e-20 0.0000000e+00\n",
      "  2.3888144e-28 2.0509033e-12 8.1963349e-23 0.0000000e+00 1.2374287e-30\n",
      "  7.7758528e-27 9.3409987e-30 8.0567745e-38 0.0000000e+00 6.9143226e-35]]\n",
      "\n",
      "printing np.argmax(prediction) ======================= ================= ============  11\n",
      "\n",
      "printing last_prediction ======================= ================= ============  grabbing\n"
     ]
    },
    {
     "name": "stderr",
     "output_type": "stream",
     "text": [
      "C:\\Users\\abhis\\anaconda3\\Lib\\site-packages\\google\\protobuf\\symbol_database.py:55: UserWarning: SymbolDatabase.GetPrototype() is deprecated. Please use message_factory.GetMessageClass() instead. SymbolDatabase.GetPrototype() will be removed soon.\n",
      "  warnings.warn('SymbolDatabase.GetPrototype() is deprecated. Please '\n"
     ]
    },
    {
     "name": "stdout",
     "output_type": "stream",
     "text": [
      "\n",
      "printing here ======================= ================= ============  [[2.23702462e-30 7.88152248e-34 1.24621880e-36 2.92124724e-07\n",
      "  0.00000000e+00 1.07588043e-25 1.89913682e-10 7.00836736e-19\n",
      "  9.78867607e-27 1.02009368e-03 1.37298540e-30 9.98971939e-01\n",
      "  3.18437287e-07 1.26089848e-22 1.65029070e-22 1.40004080e-19\n",
      "  1.52518857e-20 2.69796384e-31 7.44260888e-06 3.34307294e-17\n",
      "  9.96897110e-16 0.00000000e+00 6.42350597e-37 4.23522945e-14\n",
      "  1.19192878e-15 1.41329659e-09 4.27662637e-30 2.73949937e-16\n",
      "  4.20712576e-09 2.43502456e-19 1.55968443e-20 2.30056294e-08\n",
      "  5.35557467e-19 5.26081292e-26 5.79946142e-21 1.02211224e-22\n",
      "  1.22245511e-21 8.04669616e-19 4.66142990e-32 1.22259156e-19]]\n",
      "\n",
      "printing np.argmax(prediction) ======================= ================= ============  11\n",
      "\n",
      "printing last_prediction ======================= ================= ============  grabbing\n"
     ]
    },
    {
     "name": "stderr",
     "output_type": "stream",
     "text": [
      "C:\\Users\\abhis\\anaconda3\\Lib\\site-packages\\google\\protobuf\\symbol_database.py:55: UserWarning: SymbolDatabase.GetPrototype() is deprecated. Please use message_factory.GetMessageClass() instead. SymbolDatabase.GetPrototype() will be removed soon.\n",
      "  warnings.warn('SymbolDatabase.GetPrototype() is deprecated. Please '\n"
     ]
    },
    {
     "name": "stdout",
     "output_type": "stream",
     "text": [
      "\n",
      "printing here ======================= ================= ============  [[3.02323211e-16 8.28807954e-38 9.45554053e-38 7.54440618e-13\n",
      "  0.00000000e+00 2.47977105e-35 1.31323242e-11 2.45242773e-17\n",
      "  3.57512946e-24 1.00000000e+00 3.88085404e-32 9.03290335e-16\n",
      "  2.21739155e-11 2.80572852e-35 2.01679858e-15 4.57063796e-16\n",
      "  1.70973179e-27 3.71017814e-32 7.52307389e-15 2.04051457e-14\n",
      "  2.52567755e-16 0.00000000e+00 3.74796983e-27 2.13151055e-25\n",
      "  6.46806177e-19 1.83108760e-26 9.45202274e-27 6.54517878e-19\n",
      "  1.94682326e-11 1.90301483e-13 5.49213590e-27 4.10609742e-20\n",
      "  1.72343459e-30 7.30731766e-15 3.33963204e-29 2.63575823e-35\n",
      "  1.09669064e-29 2.40593991e-16 2.85772240e-17 7.73336961e-13]]\n",
      "\n",
      "printing np.argmax(prediction) ======================= ================= ============  9\n",
      "\n",
      "printing last_prediction ======================= ================= ============  fist\n"
     ]
    },
    {
     "name": "stderr",
     "output_type": "stream",
     "text": [
      "C:\\Users\\abhis\\anaconda3\\Lib\\site-packages\\google\\protobuf\\symbol_database.py:55: UserWarning: SymbolDatabase.GetPrototype() is deprecated. Please use message_factory.GetMessageClass() instead. SymbolDatabase.GetPrototype() will be removed soon.\n",
      "  warnings.warn('SymbolDatabase.GetPrototype() is deprecated. Please '\n"
     ]
    },
    {
     "name": "stdout",
     "output_type": "stream",
     "text": [
      "\n",
      "printing here ======================= ================= ============  [[2.2859844e-24 0.0000000e+00 0.0000000e+00 1.6581688e-16 0.0000000e+00\n",
      "  0.0000000e+00 1.3855781e-17 2.2058445e-31 2.3927970e-38 1.0000000e+00\n",
      "  0.0000000e+00 4.6871916e-31 3.6428102e-22 0.0000000e+00 2.5326815e-24\n",
      "  8.6765986e-22 0.0000000e+00 0.0000000e+00 2.2323017e-20 6.6046014e-25\n",
      "  1.7739395e-25 0.0000000e+00 0.0000000e+00 0.0000000e+00 1.8342645e-30\n",
      "  0.0000000e+00 0.0000000e+00 1.2626479e-31 1.6860103e-16 8.9693832e-23\n",
      "  0.0000000e+00 0.0000000e+00 0.0000000e+00 1.5293847e-23 0.0000000e+00\n",
      "  0.0000000e+00 0.0000000e+00 4.3199283e-28 6.1553904e-25 2.2475271e-21]]\n",
      "\n",
      "printing np.argmax(prediction) ======================= ================= ============  9\n",
      "\n",
      "printing last_prediction ======================= ================= ============  fist\n"
     ]
    },
    {
     "name": "stderr",
     "output_type": "stream",
     "text": [
      "C:\\Users\\abhis\\anaconda3\\Lib\\site-packages\\google\\protobuf\\symbol_database.py:55: UserWarning: SymbolDatabase.GetPrototype() is deprecated. Please use message_factory.GetMessageClass() instead. SymbolDatabase.GetPrototype() will be removed soon.\n",
      "  warnings.warn('SymbolDatabase.GetPrototype() is deprecated. Please '\n"
     ]
    },
    {
     "name": "stdout",
     "output_type": "stream",
     "text": [
      "\n",
      "printing here ======================= ================= ============  [[9.2017641e-29 0.0000000e+00 0.0000000e+00 1.1314319e-18 0.0000000e+00\n",
      "  0.0000000e+00 3.9128528e-20 2.5905993e-37 0.0000000e+00 1.0000000e+00\n",
      "  0.0000000e+00 2.8700178e-36 4.5627927e-26 0.0000000e+00 5.7201780e-29\n",
      "  1.4051283e-25 0.0000000e+00 0.0000000e+00 2.8632240e-23 2.3845070e-29\n",
      "  8.3854907e-30 0.0000000e+00 0.0000000e+00 0.0000000e+00 2.5647218e-35\n",
      "  0.0000000e+00 0.0000000e+00 4.0032564e-37 3.7399015e-19 5.0537865e-27\n",
      "  0.0000000e+00 0.0000000e+00 0.0000000e+00 6.3968487e-28 0.0000000e+00\n",
      "  0.0000000e+00 0.0000000e+00 3.5701247e-33 8.4207518e-30 5.4476767e-25]]\n",
      "\n",
      "printing np.argmax(prediction) ======================= ================= ============  9\n",
      "\n",
      "printing last_prediction ======================= ================= ============  fist\n"
     ]
    },
    {
     "name": "stderr",
     "output_type": "stream",
     "text": [
      "C:\\Users\\abhis\\anaconda3\\Lib\\site-packages\\google\\protobuf\\symbol_database.py:55: UserWarning: SymbolDatabase.GetPrototype() is deprecated. Please use message_factory.GetMessageClass() instead. SymbolDatabase.GetPrototype() will be removed soon.\n",
      "  warnings.warn('SymbolDatabase.GetPrototype() is deprecated. Please '\n"
     ]
    },
    {
     "name": "stdout",
     "output_type": "stream",
     "text": [
      "\n",
      "printing here ======================= ================= ============  [[1.07819559e-26 0.00000000e+00 0.00000000e+00 1.02131675e-20\n",
      "  0.00000000e+00 0.00000000e+00 9.01070752e-23 3.81538999e-37\n",
      "  0.00000000e+00 1.00000000e+00 0.00000000e+00 0.00000000e+00\n",
      "  6.10730968e-30 0.00000000e+00 1.11973815e-29 1.00186529e-26\n",
      "  0.00000000e+00 0.00000000e+00 2.40908691e-26 4.36049173e-28\n",
      "  1.80739817e-30 0.00000000e+00 0.00000000e+00 0.00000000e+00\n",
      "  6.18982454e-37 0.00000000e+00 0.00000000e+00 0.00000000e+00\n",
      "  2.18048853e-22 6.70518014e-25 0.00000000e+00 0.00000000e+00\n",
      "  0.00000000e+00 4.48030913e-28 0.00000000e+00 0.00000000e+00\n",
      "  0.00000000e+00 3.80783689e-33 8.61926023e-30 1.64194692e-25]]\n",
      "\n",
      "printing np.argmax(prediction) ======================= ================= ============  9\n",
      "\n",
      "printing last_prediction ======================= ================= ============  fist\n"
     ]
    },
    {
     "name": "stderr",
     "output_type": "stream",
     "text": [
      "C:\\Users\\abhis\\anaconda3\\Lib\\site-packages\\google\\protobuf\\symbol_database.py:55: UserWarning: SymbolDatabase.GetPrototype() is deprecated. Please use message_factory.GetMessageClass() instead. SymbolDatabase.GetPrototype() will be removed soon.\n",
      "  warnings.warn('SymbolDatabase.GetPrototype() is deprecated. Please '\n"
     ]
    },
    {
     "name": "stdout",
     "output_type": "stream",
     "text": [
      "\n",
      "printing here ======================= ================= ============  [[5.3840279e-31 0.0000000e+00 0.0000000e+00 2.3884220e-21 0.0000000e+00\n",
      "  0.0000000e+00 3.6541635e-24 0.0000000e+00 0.0000000e+00 1.0000000e+00\n",
      "  0.0000000e+00 0.0000000e+00 4.7886852e-33 0.0000000e+00 1.7677984e-33\n",
      "  5.5046520e-29 0.0000000e+00 0.0000000e+00 2.7050351e-27 7.2341686e-33\n",
      "  1.3483985e-34 0.0000000e+00 0.0000000e+00 0.0000000e+00 0.0000000e+00\n",
      "  0.0000000e+00 0.0000000e+00 0.0000000e+00 1.4780553e-24 1.4782102e-28\n",
      "  0.0000000e+00 0.0000000e+00 0.0000000e+00 3.2049198e-32 0.0000000e+00\n",
      "  0.0000000e+00 0.0000000e+00 1.5062539e-38 3.9747784e-33 8.8704361e-30]]\n",
      "\n",
      "printing np.argmax(prediction) ======================= ================= ============  9\n",
      "\n",
      "printing last_prediction ======================= ================= ============  fist\n"
     ]
    },
    {
     "name": "stderr",
     "output_type": "stream",
     "text": [
      "C:\\Users\\abhis\\anaconda3\\Lib\\site-packages\\google\\protobuf\\symbol_database.py:55: UserWarning: SymbolDatabase.GetPrototype() is deprecated. Please use message_factory.GetMessageClass() instead. SymbolDatabase.GetPrototype() will be removed soon.\n",
      "  warnings.warn('SymbolDatabase.GetPrototype() is deprecated. Please '\n"
     ]
    },
    {
     "name": "stdout",
     "output_type": "stream",
     "text": [
      "\n",
      "printing here ======================= ================= ============  [[4.2595437e-29 0.0000000e+00 0.0000000e+00 4.1134344e-20 0.0000000e+00\n",
      "  0.0000000e+00 8.6087109e-23 0.0000000e+00 0.0000000e+00 1.0000000e+00\n",
      "  0.0000000e+00 0.0000000e+00 1.0267134e-31 0.0000000e+00 1.3492496e-31\n",
      "  4.2841707e-27 0.0000000e+00 0.0000000e+00 1.1573094e-25 3.7653738e-31\n",
      "  7.5592229e-33 0.0000000e+00 0.0000000e+00 0.0000000e+00 1.9866300e-37\n",
      "  0.0000000e+00 0.0000000e+00 0.0000000e+00 1.0931062e-23 1.0655123e-26\n",
      "  0.0000000e+00 0.0000000e+00 0.0000000e+00 1.1730318e-30 0.0000000e+00\n",
      "  0.0000000e+00 0.0000000e+00 9.1366678e-37 6.1532117e-31 1.4250666e-28]]\n",
      "\n",
      "printing np.argmax(prediction) ======================= ================= ============  9\n",
      "\n",
      "printing last_prediction ======================= ================= ============  fist\n",
      "\n",
      "printing here ======================= ================= ============  [[2.1069868e-29 0.0000000e+00 0.0000000e+00 4.9374113e-20 0.0000000e+00\n",
      "  0.0000000e+00 7.7002430e-23 0.0000000e+00 0.0000000e+00 1.0000000e+00\n",
      "  0.0000000e+00 0.0000000e+00 5.6240369e-32 0.0000000e+00 6.5681963e-32\n",
      "  2.7703876e-27 0.0000000e+00 0.0000000e+00 1.4405366e-25 1.9404085e-31\n",
      "  4.9065112e-33 0.0000000e+00 0.0000000e+00 0.0000000e+00 8.3228037e-38\n",
      "  0.0000000e+00 0.0000000e+00 0.0000000e+00 1.1427329e-23 4.5264534e-27\n",
      "  0.0000000e+00 0.0000000e+00 0.0000000e+00 4.8231930e-31 0.0000000e+00\n",
      "  0.0000000e+00 0.0000000e+00 4.0314850e-37 2.5655489e-31 9.1462600e-29]]\n",
      "\n",
      "printing np.argmax(prediction) ======================= ================= ============  9\n",
      "\n",
      "printing last_prediction ======================= ================= ============  fist\n"
     ]
    },
    {
     "name": "stderr",
     "output_type": "stream",
     "text": [
      "C:\\Users\\abhis\\anaconda3\\Lib\\site-packages\\google\\protobuf\\symbol_database.py:55: UserWarning: SymbolDatabase.GetPrototype() is deprecated. Please use message_factory.GetMessageClass() instead. SymbolDatabase.GetPrototype() will be removed soon.\n",
      "  warnings.warn('SymbolDatabase.GetPrototype() is deprecated. Please '\n",
      "C:\\Users\\abhis\\anaconda3\\Lib\\site-packages\\google\\protobuf\\symbol_database.py:55: UserWarning: SymbolDatabase.GetPrototype() is deprecated. Please use message_factory.GetMessageClass() instead. SymbolDatabase.GetPrototype() will be removed soon.\n",
      "  warnings.warn('SymbolDatabase.GetPrototype() is deprecated. Please '\n"
     ]
    },
    {
     "name": "stdout",
     "output_type": "stream",
     "text": [
      "\n",
      "printing here ======================= ================= ============  [[1.0763231e-31 0.0000000e+00 0.0000000e+00 3.8482239e-20 0.0000000e+00\n",
      "  0.0000000e+00 3.6500137e-23 0.0000000e+00 0.0000000e+00 1.0000000e+00\n",
      "  0.0000000e+00 0.0000000e+00 4.1112581e-33 0.0000000e+00 3.3695693e-33\n",
      "  1.0321780e-27 0.0000000e+00 0.0000000e+00 1.2958532e-25 6.0146767e-34\n",
      "  4.7499649e-35 0.0000000e+00 0.0000000e+00 0.0000000e+00 1.6462509e-38\n",
      "  0.0000000e+00 0.0000000e+00 0.0000000e+00 1.8764727e-24 1.0550196e-28\n",
      "  0.0000000e+00 0.0000000e+00 0.0000000e+00 6.2048256e-33 0.0000000e+00\n",
      "  0.0000000e+00 0.0000000e+00 0.0000000e+00 2.4854097e-32 3.5477278e-31]]\n",
      "\n",
      "printing np.argmax(prediction) ======================= ================= ============  9\n",
      "\n",
      "printing last_prediction ======================= ================= ============  fist\n"
     ]
    },
    {
     "name": "stderr",
     "output_type": "stream",
     "text": [
      "C:\\Users\\abhis\\anaconda3\\Lib\\site-packages\\google\\protobuf\\symbol_database.py:55: UserWarning: SymbolDatabase.GetPrototype() is deprecated. Please use message_factory.GetMessageClass() instead. SymbolDatabase.GetPrototype() will be removed soon.\n",
      "  warnings.warn('SymbolDatabase.GetPrototype() is deprecated. Please '\n"
     ]
    },
    {
     "name": "stdout",
     "output_type": "stream",
     "text": [
      "\n",
      "printing here ======================= ================= ============  [[1.1595867e-30 0.0000000e+00 0.0000000e+00 5.8695198e-20 0.0000000e+00\n",
      "  0.0000000e+00 3.3647316e-23 0.0000000e+00 0.0000000e+00 1.0000000e+00\n",
      "  0.0000000e+00 0.0000000e+00 2.6943782e-33 0.0000000e+00 7.8196742e-33\n",
      "  2.1964865e-27 0.0000000e+00 0.0000000e+00 1.4487146e-25 3.5057764e-33\n",
      "  1.4347059e-34 0.0000000e+00 0.0000000e+00 0.0000000e+00 3.5759904e-38\n",
      "  0.0000000e+00 0.0000000e+00 0.0000000e+00 9.2278306e-25 9.0120945e-28\n",
      "  0.0000000e+00 0.0000000e+00 0.0000000e+00 1.7772452e-32 0.0000000e+00\n",
      "  0.0000000e+00 0.0000000e+00 0.0000000e+00 1.0714890e-31 8.9387412e-31]]\n",
      "\n",
      "printing np.argmax(prediction) ======================= ================= ============  9\n",
      "\n",
      "printing last_prediction ======================= ================= ============  fist\n"
     ]
    },
    {
     "name": "stderr",
     "output_type": "stream",
     "text": [
      "C:\\Users\\abhis\\anaconda3\\Lib\\site-packages\\google\\protobuf\\symbol_database.py:55: UserWarning: SymbolDatabase.GetPrototype() is deprecated. Please use message_factory.GetMessageClass() instead. SymbolDatabase.GetPrototype() will be removed soon.\n",
      "  warnings.warn('SymbolDatabase.GetPrototype() is deprecated. Please '\n"
     ]
    },
    {
     "name": "stdout",
     "output_type": "stream",
     "text": [
      "\n",
      "printing here ======================= ================= ============  [[2.9959162e-26 0.0000000e+00 0.0000000e+00 5.5246471e-18 0.0000000e+00\n",
      "  0.0000000e+00 4.7472453e-21 4.0694950e-37 0.0000000e+00 1.0000000e+00\n",
      "  0.0000000e+00 0.0000000e+00 1.8958142e-30 0.0000000e+00 1.2869591e-28\n",
      "  2.3663086e-24 0.0000000e+00 0.0000000e+00 3.4693948e-23 2.8971444e-28\n",
      "  4.3863291e-30 0.0000000e+00 0.0000000e+00 0.0000000e+00 3.1120997e-34\n",
      "  0.0000000e+00 0.0000000e+00 2.5741875e-37 2.4196742e-22 1.2668408e-23\n",
      "  0.0000000e+00 0.0000000e+00 0.0000000e+00 2.3784395e-28 0.0000000e+00\n",
      "  0.0000000e+00 0.0000000e+00 2.3168410e-33 5.4995127e-28 1.4557995e-26]]\n",
      "\n",
      "printing np.argmax(prediction) ======================= ================= ============  9\n",
      "\n",
      "printing last_prediction ======================= ================= ============  fist\n"
     ]
    },
    {
     "name": "stderr",
     "output_type": "stream",
     "text": [
      "C:\\Users\\abhis\\anaconda3\\Lib\\site-packages\\google\\protobuf\\symbol_database.py:55: UserWarning: SymbolDatabase.GetPrototype() is deprecated. Please use message_factory.GetMessageClass() instead. SymbolDatabase.GetPrototype() will be removed soon.\n",
      "  warnings.warn('SymbolDatabase.GetPrototype() is deprecated. Please '\n"
     ]
    },
    {
     "name": "stdout",
     "output_type": "stream",
     "text": [
      "\n",
      "printing here ======================= ================= ============  [[7.8391720e-27 0.0000000e+00 0.0000000e+00 3.1918949e-21 0.0000000e+00\n",
      "  0.0000000e+00 1.6757389e-23 1.5351839e-37 0.0000000e+00 1.0000000e+00\n",
      "  0.0000000e+00 0.0000000e+00 4.8507969e-31 0.0000000e+00 4.7677859e-30\n",
      "  2.4497224e-27 0.0000000e+00 0.0000000e+00 4.9073126e-27 5.7947443e-28\n",
      "  7.9489467e-31 0.0000000e+00 0.0000000e+00 0.0000000e+00 1.2234044e-37\n",
      "  0.0000000e+00 0.0000000e+00 0.0000000e+00 4.6634014e-23 9.8130865e-25\n",
      "  0.0000000e+00 0.0000000e+00 0.0000000e+00 1.3881732e-28 0.0000000e+00\n",
      "  0.0000000e+00 0.0000000e+00 5.0806394e-33 1.2222566e-30 1.2523384e-25]]\n",
      "\n",
      "printing np.argmax(prediction) ======================= ================= ============  9\n",
      "\n",
      "printing last_prediction ======================= ================= ============  fist\n"
     ]
    },
    {
     "name": "stderr",
     "output_type": "stream",
     "text": [
      "C:\\Users\\abhis\\anaconda3\\Lib\\site-packages\\google\\protobuf\\symbol_database.py:55: UserWarning: SymbolDatabase.GetPrototype() is deprecated. Please use message_factory.GetMessageClass() instead. SymbolDatabase.GetPrototype() will be removed soon.\n",
      "  warnings.warn('SymbolDatabase.GetPrototype() is deprecated. Please '\n"
     ]
    },
    {
     "name": "stdout",
     "output_type": "stream",
     "text": [
      "\n",
      "printing here ======================= ================= ============  [[1.18496570e-19 0.00000000e+00 0.00000000e+00 4.46708066e-14\n",
      "  0.00000000e+00 0.00000000e+00 3.37092143e-13 1.51940606e-23\n",
      "  2.47752573e-31 1.00000000e+00 4.59827762e-35 4.75363519e-24\n",
      "  4.31234565e-17 0.00000000e+00 3.52437464e-18 1.25891092e-16\n",
      "  3.38614005e-33 0.00000000e+00 2.16172787e-16 6.34078090e-19\n",
      "  9.49042169e-21 0.00000000e+00 1.25401336e-37 1.32795514e-33\n",
      "  1.97979964e-21 2.59388238e-37 1.35394461e-34 1.27491274e-23\n",
      "  9.12151654e-15 3.10416055e-16 1.33936572e-34 1.59782464e-30\n",
      "  0.00000000e+00 8.13467612e-19 1.42638633e-38 0.00000000e+00\n",
      "  0.00000000e+00 1.75968155e-21 9.15314316e-20 2.93089745e-17]]\n",
      "\n",
      "printing np.argmax(prediction) ======================= ================= ============  9\n",
      "\n",
      "printing last_prediction ======================= ================= ============  fist\n"
     ]
    },
    {
     "name": "stderr",
     "output_type": "stream",
     "text": [
      "C:\\Users\\abhis\\anaconda3\\Lib\\site-packages\\google\\protobuf\\symbol_database.py:55: UserWarning: SymbolDatabase.GetPrototype() is deprecated. Please use message_factory.GetMessageClass() instead. SymbolDatabase.GetPrototype() will be removed soon.\n",
      "  warnings.warn('SymbolDatabase.GetPrototype() is deprecated. Please '\n"
     ]
    },
    {
     "name": "stdout",
     "output_type": "stream",
     "text": [
      "\n",
      "printing here ======================= ================= ============  [[6.7493702e-23 7.5678168e-32 1.6052881e-31 6.2034374e-06 0.0000000e+00\n",
      "  9.4199292e-22 8.7414683e-08 1.8509847e-15 1.1323815e-24 9.8693579e-01\n",
      "  4.4191591e-30 1.3031124e-02 2.5587924e-05 3.0520701e-24 1.1381708e-18\n",
      "  4.9016821e-17 8.8661289e-23 4.6059342e-32 1.1537401e-06 4.7214290e-15\n",
      "  1.4007142e-14 0.0000000e+00 2.2379420e-29 7.1679229e-13 5.5084491e-14\n",
      "  6.7571370e-12 5.2593179e-25 7.0262156e-16 2.1164604e-08 6.1150197e-15\n",
      "  1.8802507e-20 1.0706098e-08 1.1489069e-17 1.2117834e-20 8.6250098e-22\n",
      "  2.1130066e-28 3.0380046e-23 3.0979672e-18 1.6471286e-23 4.3427681e-16]]\n",
      "\n",
      "printing np.argmax(prediction) ======================= ================= ============  9\n",
      "\n",
      "printing last_prediction ======================= ================= ============  fist\n"
     ]
    },
    {
     "name": "stderr",
     "output_type": "stream",
     "text": [
      "C:\\Users\\abhis\\anaconda3\\Lib\\site-packages\\google\\protobuf\\symbol_database.py:55: UserWarning: SymbolDatabase.GetPrototype() is deprecated. Please use message_factory.GetMessageClass() instead. SymbolDatabase.GetPrototype() will be removed soon.\n",
      "  warnings.warn('SymbolDatabase.GetPrototype() is deprecated. Please '\n"
     ]
    },
    {
     "name": "stdout",
     "output_type": "stream",
     "text": [
      "\n",
      "printing here ======================= ================= ============  [[2.3200702e-17 0.0000000e+00 0.0000000e+00 1.4451658e-17 0.0000000e+00\n",
      "  0.0000000e+00 3.6535489e-17 4.5325694e-20 5.8643676e-29 1.0000000e+00\n",
      "  0.0000000e+00 1.2279351e-22 4.0953725e-17 0.0000000e+00 2.3046414e-18\n",
      "  1.2851254e-19 8.4790777e-34 0.0000000e+00 3.9107190e-20 1.8247036e-15\n",
      "  3.8649531e-19 0.0000000e+00 2.0238000e-34 4.5814795e-38 1.1483294e-25\n",
      "  8.8079534e-38 1.9389479e-34 1.8075220e-23 4.3306321e-15 1.3748054e-14\n",
      "  5.0132894e-35 3.3000083e-28 0.0000000e+00 8.4135791e-18 1.7510904e-36\n",
      "  0.0000000e+00 0.0000000e+00 5.3852317e-19 1.4645433e-20 7.8464251e-16]]\n",
      "\n",
      "printing np.argmax(prediction) ======================= ================= ============  9\n",
      "\n",
      "printing last_prediction ======================= ================= ============  fist\n"
     ]
    },
    {
     "name": "stderr",
     "output_type": "stream",
     "text": [
      "C:\\Users\\abhis\\anaconda3\\Lib\\site-packages\\google\\protobuf\\symbol_database.py:55: UserWarning: SymbolDatabase.GetPrototype() is deprecated. Please use message_factory.GetMessageClass() instead. SymbolDatabase.GetPrototype() will be removed soon.\n",
      "  warnings.warn('SymbolDatabase.GetPrototype() is deprecated. Please '\n",
      "C:\\Users\\abhis\\anaconda3\\Lib\\site-packages\\google\\protobuf\\symbol_database.py:55: UserWarning: SymbolDatabase.GetPrototype() is deprecated. Please use message_factory.GetMessageClass() instead. SymbolDatabase.GetPrototype() will be removed soon.\n",
      "  warnings.warn('SymbolDatabase.GetPrototype() is deprecated. Please '\n"
     ]
    },
    {
     "name": "stdout",
     "output_type": "stream",
     "text": [
      "\n",
      "printing here ======================= ================= ============  [[2.1244058e-02 8.5366373e-05 1.1191760e-05 2.6630657e-03 9.1623282e-05\n",
      "  4.1724589e-02 8.3228544e-04 1.3468861e-04 4.1095382e-03 3.7133752e-03\n",
      "  1.1254244e-02 1.9536869e-04 2.5102754e-06 2.0195423e-03 4.8885279e-04\n",
      "  7.4439065e-04 4.2018633e-02 1.1195014e-02 3.8950127e-03 2.7810207e-01\n",
      "  3.4369451e-01 4.0002820e-07 5.2872463e-04 3.6123481e-07 2.7298699e-03\n",
      "  4.5698558e-05 1.6592992e-03 1.4748081e-03 6.7651032e-05 2.2442944e-03\n",
      "  1.9768697e-01 3.5641770e-05 1.8521592e-05 5.1860153e-03 5.1343660e-03\n",
      "  4.1841879e-03 2.8088014e-03 3.5091708e-03 1.1467135e-03 3.3186427e-03]]\n",
      "\n",
      "printing np.argmax(prediction) ======================= ================= ============  20\n",
      "\n",
      "printing last_prediction ======================= ================= ============  n\n",
      "\n",
      "printing here ======================= ================= ============  [[2.2006852e-06 5.2913674e-13 1.1047079e-13 1.6199110e-08 6.1908914e-08\n",
      "  2.7844649e-09 1.5391537e-09 7.1450290e-18 3.6814232e-05 1.4648464e-09\n",
      "  5.2431286e-08 6.3568338e-11 1.1844738e-16 3.5907227e-08 5.2124940e-09\n",
      "  1.7551119e-13 2.0487636e-04 2.6842105e-04 1.6224374e-06 1.5135008e-05\n",
      "  1.0806594e-02 5.3543097e-29 3.7637776e-08 2.9473762e-17 6.2764567e-09\n",
      "  1.5991986e-11 3.6327573e-12 1.5505493e-11 3.8760853e-10 7.1985278e-14\n",
      "  9.8864669e-01 2.4675414e-11 9.4602044e-08 2.0823591e-06 1.9469351e-09\n",
      "  1.4866082e-05 2.0417044e-10 1.7648764e-10 3.4026141e-07 2.3747164e-09]]\n",
      "\n",
      "printing np.argmax(prediction) ======================= ================= ============  30\n",
      "\n",
      "printing last_prediction ======================= ================= ============  space\n"
     ]
    },
    {
     "name": "stderr",
     "output_type": "stream",
     "text": [
      "C:\\Users\\abhis\\anaconda3\\Lib\\site-packages\\google\\protobuf\\symbol_database.py:55: UserWarning: SymbolDatabase.GetPrototype() is deprecated. Please use message_factory.GetMessageClass() instead. SymbolDatabase.GetPrototype() will be removed soon.\n",
      "  warnings.warn('SymbolDatabase.GetPrototype() is deprecated. Please '\n"
     ]
    },
    {
     "name": "stdout",
     "output_type": "stream",
     "text": [
      "\n",
      "printing here ======================= ================= ============  [[2.12553423e-04 5.98019342e-11 4.63197839e-12 3.89996501e-07\n",
      "  4.13569478e-06 4.53408973e-07 1.59187543e-08 6.40525806e-15\n",
      "  4.01572877e-04 4.90274132e-08 7.90361228e-05 5.48834422e-10\n",
      "  3.27554396e-15 3.27856560e-06 4.78775178e-07 3.68900153e-11\n",
      "  9.20686405e-03 5.02781756e-03 2.06051245e-05 2.73276091e-04\n",
      "  5.90192303e-02 6.00033164e-24 2.81699522e-06 5.95822722e-16\n",
      "  4.36473044e-07 2.54389454e-10 6.21887097e-10 6.37576836e-09\n",
      "  2.50443364e-08 1.19030438e-10 9.25334632e-01 6.62378097e-10\n",
      "  2.14934133e-07 2.28304605e-04 3.50661765e-07 1.61131611e-04\n",
      "  1.73656822e-08 1.07348804e-07 2.20881611e-05 1.66259085e-07]]\n",
      "\n",
      "printing np.argmax(prediction) ======================= ================= ============  30\n",
      "\n",
      "printing last_prediction ======================= ================= ============  space\n"
     ]
    },
    {
     "name": "stderr",
     "output_type": "stream",
     "text": [
      "C:\\Users\\abhis\\anaconda3\\Lib\\site-packages\\google\\protobuf\\symbol_database.py:55: UserWarning: SymbolDatabase.GetPrototype() is deprecated. Please use message_factory.GetMessageClass() instead. SymbolDatabase.GetPrototype() will be removed soon.\n",
      "  warnings.warn('SymbolDatabase.GetPrototype() is deprecated. Please '\n"
     ]
    },
    {
     "name": "stdout",
     "output_type": "stream",
     "text": [
      "\n",
      "printing here ======================= ================= ============  [[2.10598562e-04 7.06839275e-12 1.32417905e-11 2.17931671e-07\n",
      "  2.24263440e-05 2.12697813e-07 1.31103750e-08 3.71178985e-15\n",
      "  2.66792398e-04 5.36413580e-08 2.13660154e-04 1.24872765e-10\n",
      "  1.84520283e-15 1.94608810e-06 1.68232714e-06 7.03066294e-12\n",
      "  1.41482009e-02 2.10194830e-02 1.28465217e-05 1.16975549e-04\n",
      "  8.69632661e-02 1.45198843e-24 4.43065937e-06 7.23349792e-17\n",
      "  7.21430013e-07 7.28812705e-11 7.02153113e-10 3.29936145e-09\n",
      "  1.90319170e-07 7.28647281e-11 8.75624537e-01 2.06052411e-10\n",
      "  7.05711827e-08 1.17790909e-03 2.03800198e-07 1.41525714e-04\n",
      "  1.12829603e-08 4.17746776e-07 7.13372792e-05 2.66836253e-07]]\n",
      "\n",
      "printing np.argmax(prediction) ======================= ================= ============  30\n",
      "\n",
      "printing last_prediction ======================= ================= ============  space\n",
      "\n",
      "printing here ======================= ================= ============  [[2.4414121e-04 7.2871278e-09 1.4570269e-07 2.2175823e-06 2.7689121e-03\n",
      "  2.7929116e-06 5.8231296e-07 1.5723344e-12 5.4612203e-04 5.3939596e-07\n",
      "  1.0172210e-03 6.9613655e-08 4.6374011e-12 5.5659199e-05 6.0938637e-05\n",
      "  7.5848422e-10 1.0422217e-02 4.7437862e-02 8.5076630e-05 2.1511284e-04\n",
      "  8.1986420e-02 1.8072501e-18 1.4841434e-04 1.4320803e-12 3.4181456e-05\n",
      "  7.7491407e-08 3.5220793e-08 3.3886838e-07 1.9093297e-05 2.5128797e-09\n",
      "  8.4755945e-01 1.7463557e-07 9.1883012e-06 5.1687481e-03 4.3474920e-06\n",
      "  1.5088450e-03 4.2945294e-07 1.0722470e-05 6.8800407e-04 2.0093983e-06]]\n",
      "\n",
      "printing np.argmax(prediction) ======================= ================= ============  30\n",
      "\n",
      "printing last_prediction ======================= ================= ============  space\n"
     ]
    },
    {
     "name": "stderr",
     "output_type": "stream",
     "text": [
      "C:\\Users\\abhis\\anaconda3\\Lib\\site-packages\\google\\protobuf\\symbol_database.py:55: UserWarning: SymbolDatabase.GetPrototype() is deprecated. Please use message_factory.GetMessageClass() instead. SymbolDatabase.GetPrototype() will be removed soon.\n",
      "  warnings.warn('SymbolDatabase.GetPrototype() is deprecated. Please '\n",
      "C:\\Users\\abhis\\anaconda3\\Lib\\site-packages\\google\\protobuf\\symbol_database.py:55: UserWarning: SymbolDatabase.GetPrototype() is deprecated. Please use message_factory.GetMessageClass() instead. SymbolDatabase.GetPrototype() will be removed soon.\n",
      "  warnings.warn('SymbolDatabase.GetPrototype() is deprecated. Please '\n"
     ]
    },
    {
     "name": "stdout",
     "output_type": "stream",
     "text": [
      "\n",
      "printing here ======================= ================= ============  [[5.4606929e-04 2.6446481e-08 4.7435105e-07 1.1280329e-05 6.1680796e-03\n",
      "  1.0376478e-05 3.3989350e-06 1.6651873e-11 1.2582318e-03 3.5319881e-06\n",
      "  4.0979632e-03 4.2342384e-07 8.9227542e-11 2.2705729e-04 9.1237845e-05\n",
      "  1.6120707e-09 3.1411726e-02 8.7676711e-02 3.0731692e-04 4.8161548e-04\n",
      "  1.0098681e-01 5.0144843e-17 2.7729847e-04 1.4565998e-11 1.1765533e-04\n",
      "  4.0547479e-07 2.0885793e-07 1.9562867e-06 5.1326133e-05 1.1759351e-08\n",
      "  7.4680871e-01 6.2352029e-07 1.0955879e-05 1.4383876e-02 3.9851486e-05\n",
      "  4.0064640e-03 3.1491088e-06 5.3454376e-05 9.5289771e-04 8.8028673e-06]]\n",
      "\n",
      "printing np.argmax(prediction) ======================= ================= ============  30\n",
      "\n",
      "printing last_prediction ======================= ================= ============  space\n"
     ]
    },
    {
     "name": "stderr",
     "output_type": "stream",
     "text": [
      "C:\\Users\\abhis\\anaconda3\\Lib\\site-packages\\google\\protobuf\\symbol_database.py:55: UserWarning: SymbolDatabase.GetPrototype() is deprecated. Please use message_factory.GetMessageClass() instead. SymbolDatabase.GetPrototype() will be removed soon.\n",
      "  warnings.warn('SymbolDatabase.GetPrototype() is deprecated. Please '\n"
     ]
    },
    {
     "name": "stdout",
     "output_type": "stream",
     "text": [
      "\n",
      "printing here ======================= ================= ============  [[2.06830053e-04 2.71778178e-09 1.90698355e-08 2.80922109e-06\n",
      "  7.10633700e-04 2.89672880e-06 5.36139510e-07 1.97011244e-12\n",
      "  7.02701567e-04 9.37036361e-07 1.78415258e-03 5.36430775e-08\n",
      "  3.81190305e-12 5.13479026e-05 2.65922117e-05 7.68391961e-10\n",
      "  1.69909969e-02 3.19667086e-02 7.69408798e-05 4.14311333e-04\n",
      "  1.00495115e-01 2.29784984e-19 5.43656752e-05 4.20107227e-13\n",
      "  2.55630694e-05 2.50816061e-08 2.87785902e-08 3.42424443e-07\n",
      "  5.26563736e-06 2.91388624e-09 8.41068268e-01 6.39787743e-08\n",
      "  2.34368918e-06 4.00489429e-03 7.93508116e-06 1.10735768e-03\n",
      "  3.44443947e-07 1.23369491e-05 2.75626837e-04 1.66623477e-06]]\n",
      "\n",
      "printing np.argmax(prediction) ======================= ================= ============  30\n",
      "\n",
      "printing last_prediction ======================= ================= ============  space\n"
     ]
    },
    {
     "name": "stderr",
     "output_type": "stream",
     "text": [
      "C:\\Users\\abhis\\anaconda3\\Lib\\site-packages\\google\\protobuf\\symbol_database.py:55: UserWarning: SymbolDatabase.GetPrototype() is deprecated. Please use message_factory.GetMessageClass() instead. SymbolDatabase.GetPrototype() will be removed soon.\n",
      "  warnings.warn('SymbolDatabase.GetPrototype() is deprecated. Please '\n"
     ]
    },
    {
     "name": "stdout",
     "output_type": "stream",
     "text": [
      "\n",
      "printing here ======================= ================= ============  [[2.3776037e-03 5.0905894e-04 2.1235635e-04 9.5986761e-04 8.5512791e-03\n",
      "  1.6505130e-03 6.9161702e-04 9.2562783e-07 4.1905968e-03 3.6165651e-04\n",
      "  7.4231769e-03 7.2778016e-04 4.6820981e-07 1.3125573e-02 1.3040493e-03\n",
      "  2.7790840e-04 1.3639764e-02 2.9302355e-02 7.6788347e-03 8.7814303e-03\n",
      "  6.9222972e-02 5.8701715e-08 2.1207291e-03 2.0758147e-05 4.8178607e-03\n",
      "  9.4020576e-04 2.3527469e-05 5.6066754e-04 5.2320329e-04 9.0748435e-06\n",
      "  7.7938628e-01 1.1301357e-03 6.4282478e-03 3.5756754e-03 1.2973181e-03\n",
      "  2.2881737e-02 5.3591904e-04 2.8636260e-04 4.2417818e-03 2.3063354e-04]]\n",
      "\n",
      "printing np.argmax(prediction) ======================= ================= ============  30\n",
      "\n",
      "printing last_prediction ======================= ================= ============  space\n",
      "\n",
      "printing here ======================= ================= ============  [[1.46732116e-02 2.81836372e-02 6.11218298e-03 3.65662668e-03\n",
      "  1.09799122e-02 4.32034768e-03 7.71017093e-03 1.02747588e-04\n",
      "  1.42558692e-02 3.57396365e-03 9.09136259e-04 9.52999294e-03\n",
      "  1.51499742e-04 9.16816015e-03 9.05623753e-03 6.22276566e-04\n",
      "  1.12564806e-02 2.82363016e-02 1.61608104e-02 8.47418234e-03\n",
      "  3.83022465e-02 1.02265385e-05 2.42270157e-02 1.56196638e-03\n",
      "  4.91895480e-03 1.83895510e-02 1.28413041e-04 3.57663864e-03\n",
      "  3.10834753e-03 5.89121664e-05 5.40315211e-01 2.00656988e-02\n",
      "  5.88258505e-02 8.20356421e-03 8.02217331e-03 4.76516262e-02\n",
      "  1.62624344e-02 6.76796713e-04 1.28617426e-02 5.69892256e-03]]\n",
      "\n",
      "printing np.argmax(prediction) ======================= ================= ============  30\n",
      "\n",
      "printing last_prediction ======================= ================= ============  space\n"
     ]
    },
    {
     "name": "stderr",
     "output_type": "stream",
     "text": [
      "C:\\Users\\abhis\\anaconda3\\Lib\\site-packages\\google\\protobuf\\symbol_database.py:55: UserWarning: SymbolDatabase.GetPrototype() is deprecated. Please use message_factory.GetMessageClass() instead. SymbolDatabase.GetPrototype() will be removed soon.\n",
      "  warnings.warn('SymbolDatabase.GetPrototype() is deprecated. Please '\n",
      "C:\\Users\\abhis\\anaconda3\\Lib\\site-packages\\google\\protobuf\\symbol_database.py:55: UserWarning: SymbolDatabase.GetPrototype() is deprecated. Please use message_factory.GetMessageClass() instead. SymbolDatabase.GetPrototype() will be removed soon.\n",
      "  warnings.warn('SymbolDatabase.GetPrototype() is deprecated. Please '\n",
      "C:\\Users\\abhis\\anaconda3\\Lib\\site-packages\\google\\protobuf\\symbol_database.py:55: UserWarning: SymbolDatabase.GetPrototype() is deprecated. Please use message_factory.GetMessageClass() instead. SymbolDatabase.GetPrototype() will be removed soon.\n",
      "  warnings.warn('SymbolDatabase.GetPrototype() is deprecated. Please '\n"
     ]
    },
    {
     "name": "stdout",
     "output_type": "stream",
     "text": [
      "\n",
      "printing here ======================= ================= ============  [[7.7771787e-05 7.7201606e-05 1.2484369e-04 3.9820254e-04 3.2614046e-04\n",
      "  1.1148664e-05 3.5982104e-03 5.9983002e-08 2.7314583e-03 2.8080889e-04\n",
      "  9.1094455e-07 6.5195970e-03 1.9544954e-05 2.0513561e-04 4.0811865e-05\n",
      "  2.0975385e-06 4.8779679e-04 3.6579545e-03 9.1300467e-03 4.9623038e-04\n",
      "  4.4591129e-03 3.0934957e-12 1.7186633e-04 1.1447739e-04 1.0348979e-04\n",
      "  4.5674597e-03 1.8552942e-07 1.6593158e-05 2.3049548e-04 3.2557854e-09\n",
      "  9.0647388e-01 3.0305907e-03 3.7341252e-02 1.1681812e-04 5.8867809e-05\n",
      "  1.4715438e-02 1.6425771e-04 9.4935410e-07 1.2926813e-04 1.1891397e-04]]\n",
      "\n",
      "printing np.argmax(prediction) ======================= ================= ============  30\n",
      "\n",
      "printing last_prediction ======================= ================= ============  space\n",
      "\n",
      "printing here ======================= ================= ============  [[0.03239576 0.02215444 0.00818644 0.01149237 0.00954011 0.04108368\n",
      "  0.01131579 0.00178537 0.01106009 0.00962325 0.0103976  0.01613654\n",
      "  0.00137364 0.02384141 0.00862816 0.00819591 0.02170269 0.02988896\n",
      "  0.02423704 0.08069099 0.13390338 0.00246324 0.01762722 0.00306734\n",
      "  0.02597278 0.00899565 0.00578747 0.00911379 0.00540513 0.00281577\n",
      "  0.24578878 0.01004404 0.01846866 0.01697703 0.01596795 0.0398603\n",
      "  0.02132702 0.00761076 0.01267404 0.01239933]]\n",
      "\n",
      "printing np.argmax(prediction) ======================= ================= ============  30\n",
      "\n",
      "printing last_prediction ======================= ================= ============  space\n"
     ]
    },
    {
     "name": "stderr",
     "output_type": "stream",
     "text": [
      "C:\\Users\\abhis\\anaconda3\\Lib\\site-packages\\google\\protobuf\\symbol_database.py:55: UserWarning: SymbolDatabase.GetPrototype() is deprecated. Please use message_factory.GetMessageClass() instead. SymbolDatabase.GetPrototype() will be removed soon.\n",
      "  warnings.warn('SymbolDatabase.GetPrototype() is deprecated. Please '\n",
      "C:\\Users\\abhis\\anaconda3\\Lib\\site-packages\\google\\protobuf\\symbol_database.py:55: UserWarning: SymbolDatabase.GetPrototype() is deprecated. Please use message_factory.GetMessageClass() instead. SymbolDatabase.GetPrototype() will be removed soon.\n",
      "  warnings.warn('SymbolDatabase.GetPrototype() is deprecated. Please '\n"
     ]
    },
    {
     "name": "stdout",
     "output_type": "stream",
     "text": [
      "\n",
      "printing here ======================= ================= ============  [[9.6181507e-11 1.3896743e-09 2.2137838e-08 8.0635287e-02 5.4344524e-09\n",
      "  2.5679625e-05 9.7004510e-02 2.3917932e-10 8.9829720e-11 9.2200637e-02\n",
      "  3.8695165e-11 1.8724671e-01 1.0018780e-01 1.5359805e-07 7.4489250e-08\n",
      "  1.6185915e-05 1.0393941e-08 1.9955519e-06 8.7724529e-02 1.3794614e-10\n",
      "  9.9944214e-07 2.5488524e-15 2.3412677e-10 7.5517163e-02 6.1908086e-06\n",
      "  5.1493745e-02 1.7698697e-09 2.0998889e-09 9.2860378e-02 3.6117201e-12\n",
      "  1.4880762e-04 6.1261382e-02 7.3655546e-02 3.8090512e-08 3.5471890e-09\n",
      "  1.1850623e-05 3.8105046e-08 7.9019282e-12 8.7317531e-08 1.3882544e-07]]\n",
      "\n",
      "printing np.argmax(prediction) ======================= ================= ============  11\n",
      "\n",
      "printing last_prediction ======================= ================= ============  grabbing\n",
      "\n",
      "printing here ======================= ================= ============  [[3.9714533e-31 5.7023680e-28 1.3338209e-18 1.6564270e-04 3.6849422e-21\n",
      "  8.5868968e-19 4.4113085e-02 3.8835813e-26 3.2460229e-30 7.5912010e-04\n",
      "  0.0000000e+00 7.5911973e-03 9.2154676e-01 2.1588331e-28 6.7910510e-21\n",
      "  1.3461404e-17 3.1951859e-30 2.4168641e-22 1.5257203e-06 3.5974208e-31\n",
      "  4.5123369e-21 0.0000000e+00 2.9047776e-25 2.5438763e-02 8.9299904e-17\n",
      "  5.9908223e-05 8.3614535e-22 1.7523838e-27 1.2943892e-04 8.4459401e-33\n",
      "  1.7057307e-16 1.5541352e-04 3.9224829e-05 2.4453919e-21 8.0371379e-31\n",
      "  1.7694926e-20 3.8129040e-24 2.4359255e-34 3.9738383e-21 2.5447375e-20]]\n",
      "\n",
      "printing np.argmax(prediction) ======================= ================= ============  12\n",
      "\n",
      "printing last_prediction ======================= ================= ============  grip\n"
     ]
    },
    {
     "name": "stderr",
     "output_type": "stream",
     "text": [
      "C:\\Users\\abhis\\anaconda3\\Lib\\site-packages\\google\\protobuf\\symbol_database.py:55: UserWarning: SymbolDatabase.GetPrototype() is deprecated. Please use message_factory.GetMessageClass() instead. SymbolDatabase.GetPrototype() will be removed soon.\n",
      "  warnings.warn('SymbolDatabase.GetPrototype() is deprecated. Please '\n"
     ]
    },
    {
     "name": "stdout",
     "output_type": "stream",
     "text": [
      "\n",
      "printing here ======================= ================= ============  [[6.5956918e-15 1.0349785e-16 6.6541052e-12 7.4221562e-03 9.2476609e-18\n",
      "  6.6342334e-05 9.3689299e-01 2.1786573e-15 2.1342900e-19 4.8870137e-03\n",
      "  7.6215905e-17 2.9133488e-03 4.0775247e-02 1.2721754e-10 7.9601395e-12\n",
      "  3.1319146e-08 1.6820649e-16 2.0127775e-15 7.1961535e-05 1.0286936e-14\n",
      "  4.1885735e-09 2.8555504e-33 4.0289884e-16 6.8468307e-03 3.5433426e-05\n",
      "  1.3828761e-06 5.4941105e-09 1.4747304e-14 3.9563769e-05 8.8890570e-16\n",
      "  3.3176364e-11 1.7681840e-06 4.5887071e-05 2.1120772e-12 6.9553523e-19\n",
      "  6.6426040e-12 8.5622012e-15 6.1386794e-21 7.3131987e-11 8.3915461e-12]]\n",
      "\n",
      "printing np.argmax(prediction) ======================= ================= ============  6\n",
      "\n",
      "printing last_prediction ======================= ================= ============  dislike\n"
     ]
    },
    {
     "name": "stderr",
     "output_type": "stream",
     "text": [
      "C:\\Users\\abhis\\anaconda3\\Lib\\site-packages\\google\\protobuf\\symbol_database.py:55: UserWarning: SymbolDatabase.GetPrototype() is deprecated. Please use message_factory.GetMessageClass() instead. SymbolDatabase.GetPrototype() will be removed soon.\n",
      "  warnings.warn('SymbolDatabase.GetPrototype() is deprecated. Please '\n"
     ]
    },
    {
     "name": "stdout",
     "output_type": "stream",
     "text": [
      "\n",
      "printing here ======================= ================= ============  [[3.1657196e-21 5.8878670e-22 2.7157086e-20 3.5415400e-02 1.1227737e-19\n",
      "  5.0123870e-13 6.7739666e-02 2.5371012e-19 7.6115208e-18 1.9873016e-01\n",
      "  2.3596825e-20 7.2927006e-02 2.6325420e-01 4.2815206e-13 3.3793598e-13\n",
      "  2.1254181e-08 7.9223078e-19 6.7026561e-18 2.0029709e-02 8.6842605e-22\n",
      "  9.6846274e-15 1.8165937e-38 8.3351525e-21 3.7901133e-02 1.5755335e-10\n",
      "  8.8813175e-03 4.7480154e-20 1.5797640e-14 1.6928519e-01 5.5008028e-20\n",
      "  7.1273836e-09 8.7729216e-02 3.8106944e-02 6.7374239e-16 1.8517272e-19\n",
      "  8.5017562e-13 6.8678570e-20 4.2285434e-23 3.1762318e-13 2.1254661e-16]]\n",
      "\n",
      "printing np.argmax(prediction) ======================= ================= ============  12\n",
      "\n",
      "printing last_prediction ======================= ================= ============  grip\n"
     ]
    },
    {
     "name": "stderr",
     "output_type": "stream",
     "text": [
      "C:\\Users\\abhis\\anaconda3\\Lib\\site-packages\\google\\protobuf\\symbol_database.py:55: UserWarning: SymbolDatabase.GetPrototype() is deprecated. Please use message_factory.GetMessageClass() instead. SymbolDatabase.GetPrototype() will be removed soon.\n",
      "  warnings.warn('SymbolDatabase.GetPrototype() is deprecated. Please '\n"
     ]
    },
    {
     "name": "stdout",
     "output_type": "stream",
     "text": [
      "\n",
      "printing here ======================= ================= ============  [[2.64780721e-18 2.09302234e-18 3.03602570e-15 3.66593488e-02\n",
      "  4.39062916e-15 2.88814439e-09 2.37648934e-01 2.17781792e-19\n",
      "  2.75557437e-18 3.89412791e-02 8.17524894e-20 1.94066629e-01\n",
      "  5.38120307e-02 3.19698776e-13 1.13664706e-13 6.38085210e-11\n",
      "  1.24260051e-15 1.54520910e-11 7.44815692e-02 7.86170032e-20\n",
      "  5.15277274e-12 2.99587854e-31 1.66900222e-18 1.84345227e-02\n",
      "  4.61193944e-10 8.85790437e-02 1.65672948e-16 1.75349690e-16\n",
      "  2.07905814e-01 3.71937062e-22 1.12453037e-07 4.01883386e-02\n",
      "  9.28237662e-03 4.47815172e-14 6.74549444e-17 8.50936044e-10\n",
      "  3.11376681e-15 1.12325185e-22 2.84250683e-12 2.96265779e-13]]\n",
      "\n",
      "printing np.argmax(prediction) ======================= ================= ============  6\n",
      "\n",
      "printing last_prediction ======================= ================= ============  dislike\n"
     ]
    },
    {
     "name": "stderr",
     "output_type": "stream",
     "text": [
      "C:\\Users\\abhis\\anaconda3\\Lib\\site-packages\\google\\protobuf\\symbol_database.py:55: UserWarning: SymbolDatabase.GetPrototype() is deprecated. Please use message_factory.GetMessageClass() instead. SymbolDatabase.GetPrototype() will be removed soon.\n",
      "  warnings.warn('SymbolDatabase.GetPrototype() is deprecated. Please '\n"
     ]
    },
    {
     "name": "stdout",
     "output_type": "stream",
     "text": [
      "\n",
      "printing here ======================= ================= ============  [[2.36600815e-14 8.30376282e-14 6.87072469e-13 1.12841234e-01\n",
      "  1.40958230e-12 3.72925200e-07 1.07481495e-01 1.26587981e-14\n",
      "  3.49820101e-14 1.13463774e-01 1.30655654e-14 1.37567163e-01\n",
      "  7.87553117e-02 1.17487098e-09 2.46043325e-10 1.50755977e-06\n",
      "  2.23155197e-12 7.63433539e-10 9.04959887e-02 1.85954585e-15\n",
      "  1.36967315e-09 2.56544082e-23 1.86401035e-14 7.62210563e-02\n",
      "  8.20490982e-08 5.06936908e-02 2.41656196e-13 2.68755374e-12\n",
      "  9.72933248e-02 4.57021762e-16 5.44077966e-06 6.78974167e-02\n",
      "  6.72820583e-02 2.53448981e-11 5.72554916e-13 2.90742168e-08\n",
      "  4.05984578e-12 2.07145431e-17 1.57763913e-09 6.68223116e-11]]\n",
      "\n",
      "printing np.argmax(prediction) ======================= ================= ============  11\n",
      "\n",
      "printing last_prediction ======================= ================= ============  grabbing\n"
     ]
    }
   ],
   "source": [
    "# For real-time prediction with 3d\n",
    "try:\n",
    "    real_time_prediction_3d(model, scaler, reverse_label_map)\n",
    "except:\n",
    "    print(\"Something else went wrong\")\n",
    "    cv2.destroyAllWindows()\n",
    "finally:\n",
    "    cv2.destroyAllWindows()"
   ]
  },
  {
   "cell_type": "markdown",
   "id": "55a68092-c02d-4a51-b7fe-4d6feb2bf896",
   "metadata": {},
   "source": [
    "<h3> Run it for 2d Testing</h3>"
   ]
  },
  {
   "cell_type": "code",
   "execution_count": 15,
   "id": "21c6ed55-aa94-4e08-82c9-e2c02fccf4dc",
   "metadata": {},
   "outputs": [],
   "source": [
    "def extract_hand_landmarks(image):\n",
    "    \"\"\"Extract hand landmarks from an image.\"\"\"\n",
    "    image_rgb = cv2.cvtColor(image, cv2.COLOR_BGR2RGB)\n",
    "    results = hands.process(image_rgb)\n",
    "    \n",
    "    if results.multi_hand_landmarks:\n",
    "        for hand_landmarks in results.multi_hand_landmarks:\n",
    "            # Draw landmarks on the image\n",
    "            mp_drawing.draw_landmarks(\n",
    "                image, hand_landmarks, mp_hands.HAND_CONNECTIONS)\n",
    "            \n",
    "            # Extract landmark coordinates\n",
    "            landmark_array = np.array([[lm.x, lm.y, lm.z] \n",
    "                                     for lm in hand_landmarks.landmark])\n",
    "            return landmark_array.flatten()\n",
    "    return np.zeros(21 * 3)"
   ]
  },
  {
   "cell_type": "code",
   "execution_count": 17,
   "id": "b7ce4877-8fb5-45e4-b4aa-ed3773bd87e5",
   "metadata": {},
   "outputs": [],
   "source": [
    "def predict_gesture(image, model, scaler, reverse_label_map):\n",
    "    \"\"\"Predict gesture from an image.\"\"\"\n",
    "    # Extract landmarks\n",
    "    hand_landmarks = extract_hand_landmarks(image)\n",
    "    \n",
    "    if np.any(hand_landmarks):\n",
    "        # Preprocess the landmarks\n",
    "        input_data = scaler.transform(hand_landmarks.reshape(1, -1))\n",
    "        input_data = input_data.reshape(1, 21, 3)\n",
    "        \n",
    "        # Make prediction\n",
    "        prediction = model.predict(input_data, verbose=0)\n",
    "        predicted_class = np.argmax(prediction)\n",
    "        confidence = np.max(prediction)\n",
    "        \n",
    "        # Get predicted label\n",
    "        predicted_label = reverse_label_map[predicted_class]\n",
    "        \n",
    "        return predicted_label, confidence\n",
    "    \n",
    "    return None, 0.0"
   ]
  },
  {
   "cell_type": "code",
   "execution_count": 13,
   "id": "cc594a16-55f1-45b8-8a43-6ad7b48e0cda",
   "metadata": {},
   "outputs": [],
   "source": [
    "def real_time_prediction(model, scaler, reverse_label_map):\n",
    "    \"\"\"Perform real-time gesture recognition using webcam.\"\"\"\n",
    "    cap = cv2.VideoCapture(0)\n",
    "    \n",
    "    # Set up real-time hand detection\n",
    "    hands_video = mp_hands.Hands(\n",
    "        static_image_mode=False,\n",
    "        max_num_hands=1,\n",
    "        min_detection_confidence=0.7,\n",
    "        min_tracking_confidence=0.5\n",
    "    )\n",
    "    \n",
    "    print(\"Starting real-time prediction... Press 'q' to quit.\")\n",
    "    \n",
    "    while cap.isOpened():\n",
    "        ret, frame = cap.read()\n",
    "        if not ret:\n",
    "            print(\"Failed to grab frame\")\n",
    "            break\n",
    "\n",
    "        # Flip the frame horizontally for a later selfie-view display\n",
    "        frame = cv2.flip(frame, 1)\n",
    "        \n",
    "        # Make prediction\n",
    "        predicted_label, confidence = predict_gesture(\n",
    "            frame, model, scaler, reverse_label_map)\n",
    "        \n",
    "        # Display prediction\n",
    "        if predicted_label is not None:\n",
    "            text = f\"{predicted_label.upper()} ({confidence:.2f})\"\n",
    "            cv2.putText(frame, text, (10, 30), \n",
    "                       cv2.FONT_HERSHEY_SIMPLEX, 1, (0, 255, 0), 2)\n",
    "        \n",
    "        # Show the frame\n",
    "        cv2.imshow('Real-time Gesture Recognition', frame)\n",
    "        \n",
    "        # Break the loop if 'q' is pressed\n",
    "        if cv2.waitKey(1) & 0xFF == ord('q'):\n",
    "            break\n",
    "    \n",
    "    # Clean up\n",
    "    cap.release()\n",
    "    cv2.destroyAllWindows()\n",
    "    hands_video.close()"
   ]
  },
  {
   "cell_type": "code",
   "execution_count": null,
   "id": "0fd88fa5-51b6-4e72-9e58-d137b7d02bf2",
   "metadata": {
    "scrolled": true
   },
   "outputs": [],
   "source": [
    "# For real-time prediction\n",
    "try:\n",
    "    real_time_prediction(model, scaler, reverse_label_map)\n",
    "except:\n",
    "    print(\"Something else went wrong\")\n",
    "    cv2.destroyAllWindows()\n",
    "finally:\n",
    "    cv2.destroyAllWindows()"
   ]
  },
  {
   "cell_type": "code",
   "execution_count": null,
   "id": "94ae0701-c9ad-4780-9103-c21d620e6ac1",
   "metadata": {},
   "outputs": [],
   "source": []
  }
 ],
 "metadata": {
  "kernelspec": {
   "display_name": "Python 3 (ipykernel)",
   "language": "python",
   "name": "python3"
  },
  "language_info": {
   "codemirror_mode": {
    "name": "ipython",
    "version": 3
   },
   "file_extension": ".py",
   "mimetype": "text/x-python",
   "name": "python",
   "nbconvert_exporter": "python",
   "pygments_lexer": "ipython3",
   "version": "3.11.7"
  }
 },
 "nbformat": 4,
 "nbformat_minor": 5
}
