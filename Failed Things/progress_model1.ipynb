{
 "cells": [
  {
   "cell_type": "code",
   "execution_count": 58,
   "id": "f2c54bc1-e02b-4da5-89b9-6fa34d75250d",
   "metadata": {},
   "outputs": [],
   "source": [
    "import mediapipe as mp\n",
    "import cv2\n",
    "import numpy as np\n",
    "import os\n",
    "import tensorflow as tf\n",
    "from tensorflow.keras.models import Sequential\n",
    "from tensorflow.keras.layers import LSTM, Dense, Conv1D, MaxPooling1D, Flatten\n",
    "from tensorflow.keras.callbacks import EarlyStopping, ModelCheckpoint\n",
    "from sklearn.model_selection import train_test_split\n",
    "from sklearn.preprocessing import LabelBinarizer, StandardScaler\n",
    "from matplotlib import pyplot as plt"
   ]
  },
  {
   "cell_type": "code",
   "execution_count": 3,
   "id": "fa6663be-8ca8-453e-bf5b-38f2dc3e5e89",
   "metadata": {},
   "outputs": [],
   "source": [
    "# Set up MediaPipe Holistic\n",
    "mp_holistic = mp.solutions.holistic\n",
    "mp_drawing = mp.solutions.drawing_utils"
   ]
  },
  {
   "cell_type": "code",
   "execution_count": 6,
   "id": "124500cf-7d33-4968-a28e-32570d49b6cf",
   "metadata": {},
   "outputs": [],
   "source": [
    "# Function to extract keypoints using MediaPipe Holistic\n",
    "def extract_keypoints(results):\n",
    "    pose = np.array([[res.x, res.y, res.z] for res in results.pose_landmarks.landmark]).flatten() if results.pose_landmarks else np.zeros(33*3)\n",
    "    face = np.array([[res.x, res.y, res.z] for res in results.face_landmarks.landmark]).flatten() if results.face_landmarks else np.zeros(468*3)\n",
    "    lh = np.array([[res.x, res.y, res.z] for res in results.left_hand_landmarks.landmark]).flatten() if results.left_hand_landmarks else np.zeros(21*3)\n",
    "    rh = np.array([[res.x, res.y, res.z] for res in results.right_hand_landmarks.landmark]).flatten() if results.right_hand_landmarks else np.zeros(21*3)\n",
    "    return np.concatenate([pose, face, lh, rh])"
   ]
  },
  {
   "cell_type": "code",
   "execution_count": 8,
   "id": "50b02280-56c3-404c-b344-55196176cbd4",
   "metadata": {},
   "outputs": [],
   "source": [
    "# Load ASL Alphabet dataset (downloaded from Kaggle)\n",
    "DATA_PATH = \"./dataset/asl_alphabet_train/asl_alphabet_train/\"  # Change this to your dataset's local path\n",
    "actions = np.array(['A', 'B', 'C', 'D', 'E', 'F', 'G', 'H', 'I', 'J', 'K', 'L', 'M', 'N', 'O', 'P', 'Q', 'R', 'S', 'T', 'U', 'V', 'W', 'X', 'Y', 'Z'])"
   ]
  },
  {
   "cell_type": "code",
   "execution_count": 62,
   "id": "f8c8519d-5755-4e29-ba1a-2a7252c4e473",
   "metadata": {},
   "outputs": [],
   "source": [
    "# Initialize empty lists to store data and labels\n",
    "X_data, y_data = [], []"
   ]
  },
  {
   "cell_type": "code",
   "execution_count": 64,
   "id": "5af3eea3-2c95-4d0f-8108-6e56a5efb92c",
   "metadata": {},
   "outputs": [],
   "source": [
    "# Loop through each action (A-Z) to process images\n",
    "for action in actions:\n",
    "    action_folder = os.path.join(DATA_PATH, action)\n",
    "    for filename in os.listdir(action_folder):\n",
    "        img_path = os.path.join(action_folder, filename)\n",
    "        image = cv2.imread(img_path)\n",
    "        image_rgb = cv2.cvtColor(image, cv2.COLOR_BGR2RGB)\n",
    "\n",
    "        # Process the image with MediaPipe Holistic\n",
    "        with mp_holistic.Holistic(static_image_mode=True) as holistic:\n",
    "            results = holistic.process(image_rgb)\n",
    "            if results.pose_landmarks or results.face_landmarks or results.left_hand_landmarks or results.right_hand_landmarks:\n",
    "                keypoints = extract_keypoints(results)\n",
    "                X_data.append(keypoints)\n",
    "                y_data.append(action)"
   ]
  },
  {
   "cell_type": "code",
   "execution_count": 73,
   "id": "ec89f0d5-18e0-4d77-96ab-2bed912f83d6",
   "metadata": {},
   "outputs": [],
   "source": [
    "# Convert lists to NumPy arrays\n",
    "X_data = np.array(X_data)\n",
    "y_data = np.array(y_data)"
   ]
  },
  {
   "cell_type": "code",
   "execution_count": 75,
   "id": "c294c26c-a766-4e77-b3dc-5f6a286decb3",
   "metadata": {},
   "outputs": [],
   "source": [
    "# Normalize/Standardize the keypoints data to prevent NaN loss\n",
    "scaler = StandardScaler()\n",
    "X_data_scaled = scaler.fit_transform(X_data)"
   ]
  },
  {
   "cell_type": "code",
   "execution_count": 77,
   "id": "1773d5fa-3a97-4cb4-b4de-709797dbbe04",
   "metadata": {},
   "outputs": [],
   "source": [
    "# Encode labels\n",
    "lb = LabelBinarizer()\n",
    "y_data_encoded = lb.fit_transform(y_data)"
   ]
  },
  {
   "cell_type": "code",
   "execution_count": 79,
   "id": "7f9bff97-ac70-4f4b-8bf5-be4a9932ee4c",
   "metadata": {},
   "outputs": [],
   "source": [
    "# Split the dataset into training and testing sets\n",
    "X_train, X_test, y_train, y_test = train_test_split(X_data, y_data_encoded, test_size=0.2, random_state=42)"
   ]
  },
  {
   "cell_type": "code",
   "execution_count": 81,
   "id": "3fb8def3-42f2-4840-9392-f40422fb0bbe",
   "metadata": {},
   "outputs": [],
   "source": [
    "# Reshape data for CNN input (add a third dimension)\n",
    "X_train_cnn = np.expand_dims(X_train, axis=-1)\n",
    "X_test_cnn = np.expand_dims(X_test, axis=-1)"
   ]
  },
  {
   "cell_type": "code",
   "execution_count": 83,
   "id": "06950cb8-801e-47d3-8bd0-a5edb390598c",
   "metadata": {},
   "outputs": [],
   "source": [
    "### Step 2: Build and Compile the Model\n",
    "\n",
    "# LSTM-CNN hybrid model architecture\n",
    "model = Sequential()\n",
    "\n",
    "# 1D CNN Layer to extract spatial features from the keypoints\n",
    "model.add(Conv1D(64, 3, activation='relu', input_shape=(X_train.shape[1], 1)))\n",
    "model.add(MaxPooling1D(pool_size=2))\n",
    "\n",
    "# LSTM Layer to capture temporal patterns\n",
    "model.add(LSTM(128, return_sequences=False, activation='relu'))\n",
    "\n",
    "# Dense layers for classification\n",
    "model.add(Dense(64, activation='relu'))\n",
    "model.add(Dense(len(actions), activation='softmax'))\n",
    "\n",
    "# Use a lower learning rate and clip gradients to prevent NaN loss\n",
    "optimizer = tf.keras.optimizers.Adam(learning_rate=1e-4, clipvalue=1.0)\n",
    "\n",
    "# Compile the model\n",
    "model.compile(optimizer='adam', loss='categorical_crossentropy', metrics=['accuracy'])"
   ]
  },
  {
   "cell_type": "code",
   "execution_count": 85,
   "id": "0a587227-5197-4e3c-871b-84cf7b98da32",
   "metadata": {},
   "outputs": [
    {
     "name": "stdout",
     "output_type": "stream",
     "text": [
      "Model: \"sequential_1\"\n",
      "_________________________________________________________________\n",
      " Layer (type)                Output Shape              Param #   \n",
      "=================================================================\n",
      " conv1d_1 (Conv1D)           (None, 1627, 64)          256       \n",
      "                                                                 \n",
      " max_pooling1d_1 (MaxPoolin  (None, 813, 64)           0         \n",
      " g1D)                                                            \n",
      "                                                                 \n",
      " lstm_1 (LSTM)               (None, 128)               98816     \n",
      "                                                                 \n",
      " dense_2 (Dense)             (None, 64)                8256      \n",
      "                                                                 \n",
      " dense_3 (Dense)             (None, 26)                1690      \n",
      "                                                                 \n",
      "=================================================================\n",
      "Total params: 109018 (425.85 KB)\n",
      "Trainable params: 109018 (425.85 KB)\n",
      "Non-trainable params: 0 (0.00 Byte)\n",
      "_________________________________________________________________\n"
     ]
    }
   ],
   "source": [
    "# Print model summary\n",
    "model.summary()"
   ]
  },
  {
   "cell_type": "code",
   "execution_count": 87,
   "id": "e14b0c1a-4a94-42a8-a226-d573de79e309",
   "metadata": {},
   "outputs": [],
   "source": [
    "### Step 3: Add Callbacks for Training\n",
    "\n",
    "# Callbacks: Early stopping and saving the best model\n",
    "early_stopping = EarlyStopping(monitor='val_loss', patience=10, restore_best_weights=True)\n",
    "model_checkpoint = ModelCheckpoint('best_asl_model.h5', monitor='val_loss', save_best_only=True)"
   ]
  },
  {
   "cell_type": "code",
   "execution_count": 89,
   "id": "d92b102f-028d-4ab9-98dc-958f1ac00b05",
   "metadata": {},
   "outputs": [
    {
     "name": "stdout",
     "output_type": "stream",
     "text": [
      "Epoch 1/100\n",
      "695/695 [==============================] - 714s 1s/step - loss: nan - accuracy: 0.0225 - val_loss: nan - val_accuracy: 0.0207\n",
      "Epoch 2/100\n",
      "695/695 [==============================] - 703s 1s/step - loss: nan - accuracy: 0.0210 - val_loss: nan - val_accuracy: 0.0207\n",
      "Epoch 3/100\n",
      "695/695 [==============================] - 701s 1s/step - loss: nan - accuracy: 0.0210 - val_loss: nan - val_accuracy: 0.0207\n",
      "Epoch 4/100\n",
      "695/695 [==============================] - 695s 1000ms/step - loss: nan - accuracy: 0.0210 - val_loss: nan - val_accuracy: 0.0207\n",
      "Epoch 5/100\n",
      "695/695 [==============================] - 690s 992ms/step - loss: nan - accuracy: 0.0210 - val_loss: nan - val_accuracy: 0.0207\n",
      "Epoch 6/100\n",
      "695/695 [==============================] - 895s 1s/step - loss: nan - accuracy: 0.0210 - val_loss: nan - val_accuracy: 0.0207\n",
      "Epoch 7/100\n",
      "695/695 [==============================] - 1094s 2s/step - loss: nan - accuracy: 0.0210 - val_loss: nan - val_accuracy: 0.0207\n",
      "Epoch 8/100\n",
      "695/695 [==============================] - 1099s 2s/step - loss: nan - accuracy: 0.0210 - val_loss: nan - val_accuracy: 0.0207\n",
      "Epoch 9/100\n",
      "695/695 [==============================] - 1096s 2s/step - loss: nan - accuracy: 0.0210 - val_loss: nan - val_accuracy: 0.0207\n",
      "Epoch 10/100\n",
      "695/695 [==============================] - 1093s 2s/step - loss: nan - accuracy: 0.0210 - val_loss: nan - val_accuracy: 0.0207\n"
     ]
    }
   ],
   "source": [
    "### Step 4: Train the Model with Callbacks\n",
    "\n",
    "# Training the model with early stopping and checkpointing\n",
    "history = model.fit(\n",
    "    X_train_cnn, y_train,\n",
    "    validation_data=(X_test_cnn, y_test),\n",
    "    epochs=100,  # Feel free to adjust epochs based on your system's performance\n",
    "    batch_size=32,\n",
    "    callbacks=[early_stopping, model_checkpoint]\n",
    ")"
   ]
  },
  {
   "cell_type": "code",
   "execution_count": 50,
   "id": "65f4fa89-22d5-47f1-b89c-df6b5c52a366",
   "metadata": {},
   "outputs": [
    {
     "name": "stdout",
     "output_type": "stream",
     "text": [
      "174/174 - 80s - loss: nan - accuracy: 0.0207 - 80s/epoch - 461ms/step\n",
      "\n",
      "Test Accuracy: 2.07%\n"
     ]
    }
   ],
   "source": [
    "### Step 5: Evaluate and Visualize the Training Process\n",
    "\n",
    "# Evaluate the model on the test set\n",
    "test_loss, test_acc = model.evaluate(X_test_cnn, y_test, verbose=2)\n",
    "print(f\"\\nTest Accuracy: {test_acc*100:.2f}%\")"
   ]
  },
  {
   "cell_type": "code",
   "execution_count": 53,
   "id": "cf671149-154b-469c-8536-3d6a3127e57b",
   "metadata": {},
   "outputs": [
    {
     "data": {
      "image/png": "[encoded data removed]",
      "text/plain": [
       "<Figure size 640x480 with 1 Axes>"
      ]
     },
     "metadata": {},
     "output_type": "display_data"
    }
   ],
   "source": [
    "# Plot the training history\n",
    "plt.plot(history.history['accuracy'], label='Train Accuracy')\n",
    "plt.plot(history.history['val_accuracy'], label='Validation Accuracy')\n",
    "plt.plot(history.history['loss'], label='Train Loss')\n",
    "plt.plot(history.history['val_loss'], label='Validation Loss')\n",
    "plt.legend()\n",
    "plt.title('Training and Validation Metrics')\n",
    "plt.show()"
   ]
  },
  {
   "cell_type": "code",
   "execution_count": null,
   "id": "8804de83-c607-4fce-9cb0-69f502001cc6",
   "metadata": {},
   "outputs": [],
   "source": [
    "### Step 6: Convert the Model for Edge Devices\n",
    "\n",
    "# Save the trained model in TensorFlow Lite format\n",
    "converter = tf.lite.TFLiteConverter.from_keras_model(model)\n",
    "tflite_model = converter.convert()"
   ]
  },
  {
   "cell_type": "code",
   "execution_count": null,
   "id": "52e06430-e229-4dbf-8597-6a74afcd4445",
   "metadata": {},
   "outputs": [],
   "source": [
    "# Save the TFLite model\n",
    "with open('asl_model.tflite', 'wb') as f:\n",
    "    f.write(tflite_model)\n",
    "\n",
    "print(\"Model has been saved as 'asl_model.tflite' for edge device deployment.\")"
   ]
  }
 ],
 "metadata": {
  "kernelspec": {
   "display_name": "Python 3 (ipykernel)",
   "language": "python",
   "name": "python3"
  },
  "language_info": {
   "codemirror_mode": {
    "name": "ipython",
    "version": 3
   },
   "file_extension": ".py",
   "mimetype": "text/x-python",
   "name": "python",
   "nbconvert_exporter": "python",
   "pygments_lexer": "ipython3",
   "version": "3.11.7"
  }
 },
 "nbformat": 4,
 "nbformat_minor": 5
}
