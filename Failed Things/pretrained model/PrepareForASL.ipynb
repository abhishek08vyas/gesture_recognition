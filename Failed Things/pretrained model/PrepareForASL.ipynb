{
 "cells": [
  {
   "cell_type": "code",
   "execution_count": 11,
   "id": "b33f73e1-f898-464b-bead-85ca19e8ee3f",
   "metadata": {},
   "outputs": [],
   "source": [
    "import os\n",
    "import json\n",
    "import shutil\n",
    "from pathlib import Path\n",
    "import yaml\n",
    "from sklearn.model_selection import train_test_split\n",
    "import cv2\n",
    "import numpy as np"
   ]
  },
  {
   "cell_type": "code",
   "execution_count": 13,
   "id": "52f96f97-03ae-49dd-b781-7c8d6749cb64",
   "metadata": {},
   "outputs": [],
   "source": [
    "class ASLDatasetPreparator:\n",
    "    def __init__(self, dataset_path, output_path):\n",
    "        \"\"\"\n",
    "        Initialize the dataset preparator\n",
    "        dataset_path: Path to the Kaggle ASL dataset\n",
    "        output_path: Path where the YOLO format dataset will be saved\n",
    "        \"\"\"\n",
    "        self.dataset_path = Path(dataset_path)\n",
    "        self.output_path = Path(output_path)\n",
    "        \n",
    "        # Create ASL label map\n",
    "        self.asl_label_map = self._create_label_map()\n",
    "\n",
    "    def _create_label_map(self):\n",
    "        \"\"\"Create label map from dataset directory structure\"\"\"\n",
    "        # Get all subdirectories in the dataset path - each should be a letter/class\n",
    "        class_dirs = [d for d in self.dataset_path.iterdir() if d.is_dir()]\n",
    "        label_map = {}\n",
    "        \n",
    "        for idx, class_dir in enumerate(sorted(class_dirs)):\n",
    "            label_map[class_dir.name] = idx\n",
    "            \n",
    "        return label_map\n",
    "\n",
    "    def create_directory_structure(self):\n",
    "        \"\"\"Create YOLO directory structure\"\"\"\n",
    "        dirs = ['images/train', 'images/val', 'images/test',\n",
    "                'labels/train', 'labels/val', 'labels/test']\n",
    "        \n",
    "        for dir_path in dirs:\n",
    "            (self.output_path / dir_path).mkdir(parents=True, exist_ok=True)\n",
    "\n",
    "    def get_all_images(self):\n",
    "        \"\"\"Get all images from the dataset with their corresponding labels\"\"\"\n",
    "        image_data = []\n",
    "        \n",
    "        # Iterate through each class directory\n",
    "        for class_dir in self.dataset_path.iterdir():\n",
    "            if class_dir.is_dir():\n",
    "                class_label = class_dir.name\n",
    "                class_idx = self.asl_label_map[class_label]\n",
    "                \n",
    "                # Get all images for this class\n",
    "                for img_path in class_dir.glob('*.jpg'):  # Adjust extension if needed\n",
    "                    image_data.append((img_path, class_idx))\n",
    "        \n",
    "        return image_data\n",
    "\n",
    "    def create_yolo_annotation(self, img_path, label):\n",
    "        \"\"\"Create YOLO format annotation for a single image\"\"\"\n",
    "        # Read image to get dimensions\n",
    "        img = cv2.imread(str(img_path))\n",
    "        if img is None:\n",
    "            print(f\"Warning: Could not read image {img_path}\")\n",
    "            return None\n",
    "            \n",
    "        img_height, img_width = img.shape[:2]\n",
    "        \n",
    "        # For ASL, we'll consider the hand takes up most of the image\n",
    "        # You might want to adjust these values based on your dataset\n",
    "        x_center = 0.5  # center of image\n",
    "        y_center = 0.5\n",
    "        width = 0.8     # 80% of image width\n",
    "        height = 0.8    # 80% of image height\n",
    "        \n",
    "        return f\"{label} {x_center} {y_center} {width} {height}\"\n",
    "\n",
    "    def process_dataset(self, train_split=0.8, val_split=0.1):\n",
    "        \"\"\"Process the dataset and convert to YOLO format\"\"\"\n",
    "        # Create directory structure\n",
    "        self.create_directory_structure()\n",
    "        \n",
    "        # Get all images with their labels\n",
    "        image_data = self.get_all_images()\n",
    "        \n",
    "        if not image_data:\n",
    "            raise ValueError(\"No images found in the dataset directory!\")\n",
    "        \n",
    "        # Split dataset\n",
    "        train_data, temp_data = train_test_split(image_data, train_size=train_split, random_state=42)\n",
    "        val_data, test_data = train_test_split(temp_data, \n",
    "                                             train_size=val_split/(1-train_split), \n",
    "                                             random_state=42)\n",
    "        \n",
    "        # Process each split\n",
    "        splits = {\n",
    "            'train': train_data,\n",
    "            'val': val_data,\n",
    "            'test': test_data\n",
    "        }\n",
    "        \n",
    "        # Process and save each split\n",
    "        for split_name, split_data in splits.items():\n",
    "            print(f\"Processing {split_name} split: {len(split_data)} images\")\n",
    "            for img_path, label in split_data:\n",
    "                # Create destination paths\n",
    "                dest_img_path = self.output_path / f'images/{split_name}' / img_path.name\n",
    "                dest_label_path = self.output_path / f'labels/{split_name}' / f'{img_path.stem}.txt'\n",
    "                \n",
    "                # Copy image\n",
    "                shutil.copy2(img_path, dest_img_path)\n",
    "                \n",
    "                # Create and save annotation\n",
    "                annotation = self.create_yolo_annotation(img_path, label)\n",
    "                if annotation:\n",
    "                    with open(dest_label_path, 'w') as f:\n",
    "                        f.write(annotation)\n",
    "\n",
    "    def create_data_yaml(self):\n",
    "        \"\"\"Create data.yaml configuration file\"\"\"\n",
    "        data_yaml = {\n",
    "            'path': str(self.output_path.absolute()),\n",
    "            'train': 'images/train',\n",
    "            'val': 'images/val',\n",
    "            'test': 'images/test',\n",
    "            'names': {v: k for k, v in self.asl_label_map.items()},\n",
    "            'nc': len(self.asl_label_map)\n",
    "        }\n",
    "        \n",
    "        with open(self.output_path / 'data.yaml', 'w') as f:\n",
    "            yaml.dump(data_yaml, f, sort_keys=False)"
   ]
  },
  {
   "cell_type": "code",
   "execution_count": 15,
   "id": "3199f5f6-3889-46fb-aba5-5e182df96b98",
   "metadata": {},
   "outputs": [],
   "source": [
    "def create_training_config():\n",
    "    \"\"\"Create training configuration file\"\"\"\n",
    "    config = {\n",
    "        'path': './asl_dataset',  # Path to data.yaml\n",
    "        'train': {\n",
    "            'epochs': 100,\n",
    "            'batch_size': 16,\n",
    "            'imgsz': 640,\n",
    "            'device': '',  # auto-detect\n",
    "            'workers': 8,\n",
    "            'optimizer': 'SGD',\n",
    "            'lr0': 0.01,\n",
    "            'lrf': 0.01,\n",
    "            'momentum': 0.937,\n",
    "            'weight_decay': 0.0005,\n",
    "            'warmup_epochs': 3.0,\n",
    "            'warmup_momentum': 0.8,\n",
    "            'warmup_bias_lr': 0.1,\n",
    "            'box': 0.05,\n",
    "            'cls': 0.5,\n",
    "            'hsv_h': 0.015,\n",
    "            'hsv_s': 0.7,\n",
    "            'hsv_v': 0.4,\n",
    "            'degrees': 0.0,\n",
    "            'translate': 0.1,\n",
    "            'scale': 0.5,\n",
    "            'shear': 0.0,\n",
    "            'perspective': 0.0,\n",
    "            'flipud': 0.0,\n",
    "            'fliplr': 0.5,\n",
    "            'mosaic': 1.0,\n",
    "            'mixup': 0.0,\n",
    "            'copy_paste': 0.0\n",
    "        }\n",
    "    }\n",
    "    \n",
    "    with open('training_config.yaml', 'w') as f:\n",
    "        yaml.dump(config, f, sort_keys=False)"
   ]
  },
  {
   "cell_type": "code",
   "execution_count": 17,
   "id": "c06df6d1-2ac3-43d3-8de8-264f5288b5c9",
   "metadata": {},
   "outputs": [
    {
     "name": "stdout",
     "output_type": "stream",
     "text": [
      "Looking for dataset in: ../dataset/asl_alphabet_train/asl_alphabet_train/\n",
      "Output will be saved to: ../dataset/asl_alphabet_train/output/\n"
     ]
    }
   ],
   "source": [
    "# Initialize dataset preparator\n",
    "dataset_path = '../dataset/asl_alphabet_train/asl_alphabet_train/'  # Update this path\n",
    "output_path = '../dataset/asl_alphabet_train/output/'  # Update this path\n",
    "\n",
    "print(f\"Looking for dataset in: {dataset_path}\")\n",
    "print(f\"Output will be saved to: {output_path}\")\n",
    "\n",
    "preparator = ASLDatasetPreparator(dataset_path, output_path)"
   ]
  },
  {
   "cell_type": "code",
   "execution_count": 19,
   "id": "5ada7e0c-b26c-4261-a87e-f8d7947514fb",
   "metadata": {},
   "outputs": [
    {
     "name": "stdout",
     "output_type": "stream",
     "text": [
      "Converting dataset to YOLO format...\n",
      "Processing train split: 69600 images\n",
      "Processing val split: 8700 images\n",
      "Processing test split: 8700 images\n"
     ]
    }
   ],
   "source": [
    "# Process dataset\n",
    "print(\"Converting dataset to YOLO format...\")\n",
    "preparator.process_dataset()"
   ]
  },
  {
   "cell_type": "code",
   "execution_count": 21,
   "id": "fb54f3be-b030-41ed-804c-5e8effb4bd59",
   "metadata": {},
   "outputs": [
    {
     "name": "stdout",
     "output_type": "stream",
     "text": [
      "Creating data.yaml...\n"
     ]
    }
   ],
   "source": [
    "# Create data.yaml\n",
    "print(\"Creating data.yaml...\")\n",
    "preparator.create_data_yaml()"
   ]
  },
  {
   "cell_type": "code",
   "execution_count": 23,
   "id": "2e27da7f-68cb-401b-8d44-6997de63e815",
   "metadata": {},
   "outputs": [
    {
     "name": "stdout",
     "output_type": "stream",
     "text": [
      "Creating training configuration...\n"
     ]
    }
   ],
   "source": [
    "# Create training configuration\n",
    "print(\"Creating training configuration...\")\n",
    "create_training_config()"
   ]
  },
  {
   "cell_type": "code",
   "execution_count": null,
   "id": "12c063c9-4348-4e8f-a15a-aa3eb18d3835",
   "metadata": {},
   "outputs": [
    {
     "name": "stdout",
     "output_type": "stream",
     "text": [
      "New https://pypi.org/project/ultralytics/8.3.22 available  Update with 'pip install -U ultralytics'\n",
      "Ultralytics 8.3.18  Python-3.11.7 torch-2.4.1+cu118 CUDA:0 (NVIDIA GeForce GTX 1650, 4096MiB)\n",
      "\u001b[34m\u001b[1mengine\\trainer: \u001b[0mtask=detect, mode=train, model=YOLOv10n_gestures.pt, data=../dataset/asl_alphabet_train/output/data.yaml, epochs=100, time=None, patience=100, batch=16, imgsz=640, save=True, save_period=-1, cache=False, device=None, workers=8, project=None, name=asl_model, exist_ok=False, pretrained=True, optimizer=auto, verbose=True, seed=0, deterministic=True, single_cls=False, rect=False, cos_lr=False, close_mosaic=10, resume=False, amp=True, fraction=1.0, profile=False, freeze=None, multi_scale=False, overlap_mask=True, mask_ratio=4, dropout=0.0, val=True, split=val, save_json=False, save_hybrid=False, conf=None, iou=0.7, max_det=300, half=False, dnn=False, plots=True, source=None, vid_stride=1, stream_buffer=False, visualize=False, augment=False, agnostic_nms=False, classes=None, retina_masks=False, embed=None, show=False, save_frames=False, save_txt=False, save_conf=False, save_crop=False, show_labels=True, show_conf=True, show_boxes=True, line_width=None, format=torchscript, keras=False, optimize=False, int8=False, dynamic=False, simplify=True, opset=None, workspace=4, nms=False, lr0=0.01, lrf=0.01, momentum=0.937, weight_decay=0.0005, warmup_epochs=3.0, warmup_momentum=0.8, warmup_bias_lr=0.1, box=7.5, cls=0.5, dfl=1.5, pose=12.0, kobj=1.0, label_smoothing=0.0, nbs=64, hsv_h=0.015, hsv_s=0.7, hsv_v=0.4, degrees=0.0, translate=0.1, scale=0.5, shear=0.0, perspective=0.0, flipud=0.0, fliplr=0.5, bgr=0.0, mosaic=1.0, mixup=0.0, copy_paste=0.0, copy_paste_mode=flip, auto_augment=randaugment, erasing=0.4, crop_fraction=1.0, cfg=None, tracker=botsort.yaml, save_dir=runs\\detect\\asl_model\n",
      "Downloading https://ultralytics.com/assets/Arial.ttf to 'C:\\Users\\abhis\\AppData\\Roaming\\Ultralytics\\Arial.ttf'...\n"
     ]
    },
    {
     "name": "stderr",
     "output_type": "stream",
     "text": [
      "100%|███████████████████████████████████████████████████████████████████████████████| 755k/755k [00:00<00:00, 1.99MB/s]"
     ]
    },
    {
     "name": "stdout",
     "output_type": "stream",
     "text": [
      "Overriding model.yaml nc=34 with nc=29\n",
      "\n",
      "                   from  n    params  module                                       arguments                     \n",
      "  0                  -1  1       464  ultralytics.nn.modules.conv.Conv             [3, 16, 3, 2]                 \n"
     ]
    },
    {
     "name": "stderr",
     "output_type": "stream",
     "text": [
      "\n"
     ]
    },
    {
     "name": "stdout",
     "output_type": "stream",
     "text": [
      "  1                  -1  1      4672  ultralytics.nn.modules.conv.Conv             [16, 32, 3, 2]                \n",
      "  2                  -1  1      7360  ultralytics.nn.modules.block.C2f             [32, 32, 1, True]             \n",
      "  3                  -1  1     18560  ultralytics.nn.modules.conv.Conv             [32, 64, 3, 2]                \n",
      "  4                  -1  2     49664  ultralytics.nn.modules.block.C2f             [64, 64, 2, True]             \n",
      "  5                  -1  1      9856  ultralytics.nn.modules.block.SCDown          [64, 128, 3, 2]               \n",
      "  6                  -1  2    197632  ultralytics.nn.modules.block.C2f             [128, 128, 2, True]           \n",
      "  7                  -1  1     36096  ultralytics.nn.modules.block.SCDown          [128, 256, 3, 2]              \n",
      "  8                  -1  1    460288  ultralytics.nn.modules.block.C2f             [256, 256, 1, True]           \n",
      "  9                  -1  1    164608  ultralytics.nn.modules.block.SPPF            [256, 256, 5]                 \n",
      " 10                  -1  1    249728  ultralytics.nn.modules.block.PSA             [256, 256]                    \n",
      " 11                  -1  1         0  torch.nn.modules.upsampling.Upsample         [None, 2, 'nearest']          \n",
      " 12             [-1, 6]  1         0  ultralytics.nn.modules.conv.Concat           [1]                           \n",
      " 13                  -1  1    148224  ultralytics.nn.modules.block.C2f             [384, 128, 1]                 \n",
      " 14                  -1  1         0  torch.nn.modules.upsampling.Upsample         [None, 2, 'nearest']          \n",
      " 15             [-1, 4]  1         0  ultralytics.nn.modules.conv.Concat           [1]                           \n",
      " 16                  -1  1     37248  ultralytics.nn.modules.block.C2f             [192, 64, 1]                  \n",
      " 17                  -1  1     36992  ultralytics.nn.modules.conv.Conv             [64, 64, 3, 2]                \n",
      " 18            [-1, 13]  1         0  ultralytics.nn.modules.conv.Concat           [1]                           \n",
      " 19                  -1  1    123648  ultralytics.nn.modules.block.C2f             [192, 128, 1]                 \n",
      " 20                  -1  1     18048  ultralytics.nn.modules.block.SCDown          [128, 128, 3, 2]              \n",
      " 21            [-1, 10]  1         0  ultralytics.nn.modules.conv.Concat           [1]                           \n",
      " 22                  -1  1    282624  ultralytics.nn.modules.block.C2fCIB          [384, 256, 1, True, True]     \n",
      " 23        [16, 19, 22]  1    872638  ultralytics.nn.modules.head.v10Detect        [29, [64, 128, 256]]          \n",
      "YOLOv10n summary: 385 layers, 2,718,350 parameters, 2,718,334 gradients, 8.5 GFLOPs\n",
      "\n",
      "Transferred 583/595 items from pretrained weights\n",
      "\u001b[34m\u001b[1mTensorBoard: \u001b[0mStart with 'tensorboard --logdir runs\\detect\\asl_model', view at http://localhost:6006/\n",
      "Freezing layer 'model.23.dfl.conv.weight'\n",
      "\u001b[34m\u001b[1mAMP: \u001b[0mrunning Automatic Mixed Precision (AMP) checks with YOLO11n...\n",
      "Downloading https://github.com/ultralytics/assets/releases/download/v8.3.0/yolo11n.pt to 'yolo11n.pt'...\n"
     ]
    },
    {
     "name": "stderr",
     "output_type": "stream",
     "text": [
      "100%|█████████████████████████████████████████████████████████████████████████████| 5.35M/5.35M [00:01<00:00, 5.07MB/s]\n"
     ]
    },
    {
     "name": "stdout",
     "output_type": "stream",
     "text": [
      "\u001b[34m\u001b[1mAMP: \u001b[0mchecks passed \n"
     ]
    },
    {
     "name": "stderr",
     "output_type": "stream",
     "text": [
      "\u001b[34m\u001b[1mtrain: \u001b[0mScanning C:\\Users\\abhis\\Documents\\981B\\dataset\\asl_alphabet_train\\output\\labels\\train... 69600 images, 0 backgro\u001b[0m\n"
     ]
    },
    {
     "name": "stdout",
     "output_type": "stream",
     "text": [
      "\u001b[34m\u001b[1mtrain: \u001b[0mNew cache created: C:\\Users\\abhis\\Documents\\981B\\dataset\\asl_alphabet_train\\output\\labels\\train.cache\n"
     ]
    },
    {
     "name": "stderr",
     "output_type": "stream",
     "text": [
      "\u001b[34m\u001b[1mval: \u001b[0mScanning C:\\Users\\abhis\\Documents\\981B\\dataset\\asl_alphabet_train\\output\\labels\\val... 8700 images, 0 backgrounds,\u001b[0m\n"
     ]
    },
    {
     "name": "stdout",
     "output_type": "stream",
     "text": [
      "\u001b[34m\u001b[1mval: \u001b[0mNew cache created: C:\\Users\\abhis\\Documents\\981B\\dataset\\asl_alphabet_train\\output\\labels\\val.cache\n",
      "Plotting labels to runs\\detect\\asl_model\\labels.jpg... \n",
      "\u001b[34m\u001b[1moptimizer:\u001b[0m 'optimizer=auto' found, ignoring 'lr0=0.01' and 'momentum=0.937' and determining best 'optimizer', 'lr0' and 'momentum' automatically... \n",
      "\u001b[34m\u001b[1moptimizer:\u001b[0m SGD(lr=0.01, momentum=0.9) with parameter groups 95 weight(decay=0.0), 108 weight(decay=0.0005), 107 bias(decay=0.0)\n",
      "\u001b[34m\u001b[1mTensorBoard: \u001b[0mmodel graph visualization added \n",
      "Image sizes 640 train, 640 val\n",
      "Using 8 dataloader workers\n",
      "Logging results to \u001b[1mruns\\detect\\asl_model\u001b[0m\n",
      "Starting training for 100 epochs...\n",
      "\n",
      "      Epoch    GPU_mem   box_loss   cls_loss   dfl_loss  Instances       Size\n"
     ]
    },
    {
     "name": "stderr",
     "output_type": "stream",
     "text": [
      "      1/100      3.11G        nan        nan        nan         48        640:  25%|██▌       | 1094/4350 [24:10<1:28:0"
     ]
    }
   ],
   "source": [
    "from ultralytics import YOLO\n",
    "\n",
    "# Load a model\n",
    "model = YOLO('YOLOv10n_gestures.pt')  # load a pretrained model (recommended for training)\n",
    "\n",
    "# Train the model\n",
    "results = model.train(\n",
    "    data='../dataset/asl_alphabet_train/output/data.yaml',\n",
    "    epochs=100,\n",
    "    imgsz=640,\n",
    "    batch=16,\n",
    "    name='asl_model'\n",
    ")"
   ]
  },
  {
   "cell_type": "code",
   "execution_count": null,
   "id": "5c8a459f-7437-4eca-a492-536116161862",
   "metadata": {},
   "outputs": [],
   "source": []
  }
 ],
 "metadata": {
  "kernelspec": {
   "display_name": "Python 3 (ipykernel)",
   "language": "python",
   "name": "python3"
  },
  "language_info": {
   "codemirror_mode": {
    "name": "ipython",
    "version": 3
   },
   "file_extension": ".py",
   "mimetype": "text/x-python",
   "name": "python",
   "nbconvert_exporter": "python",
   "pygments_lexer": "ipython3",
   "version": "3.11.7"
  }
 },
 "nbformat": 4,
 "nbformat_minor": 5
}
