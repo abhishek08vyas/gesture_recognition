{
 "cells": [
  {
   "cell_type": "code",
   "execution_count": 77,
   "id": "624a4b16-42e8-4d1b-b6a4-ed1910d7daff",
   "metadata": {},
   "outputs": [],
   "source": [
    "# ASL Alphabet Recognition using MediaPipe Holistic - Improved Version\n",
    "import os\n",
    "import cv2\n",
    "import numpy as np\n",
    "import tensorflow as tf\n",
    "from tensorflow.keras.models import Sequential\n",
    "from tensorflow.keras.layers import LSTM, Dense, Dropout, BatchNormalization, Conv1D, MaxPooling1D, Flatten\n",
    "from tensorflow.keras.callbacks import ModelCheckpoint, EarlyStopping, ReduceLROnPlateau\n",
    "from tensorflow.keras.optimizers import Adam\n",
    "import mediapipe as mp\n",
    "from sklearn.model_selection import train_test_split\n",
    "from sklearn.preprocessing import StandardScaler\n",
    "from tqdm import tqdm"
   ]
  },
  {
   "cell_type": "code",
   "execution_count": 79,
   "id": "e1e8a38e-c280-4b5d-b653-da168510cf15",
   "metadata": {},
   "outputs": [],
   "source": [
    "# Set random seed for reproducibility\n",
    "tf.random.set_seed(42)\n",
    "np.random.seed(42)\n",
    "\n",
    "# MediaPipe Holistic setup\n",
    "mp_holistic = mp.solutions.holistic\n",
    "mp_drawing = mp.solutions.drawing_utils"
   ]
  },
  {
   "cell_type": "code",
   "execution_count": 81,
   "id": "1cd5eb89-31b0-44ba-aa3f-e980cbbb601d",
   "metadata": {},
   "outputs": [],
   "source": [
    "def extract_landmarks(image):\n",
    "    \"\"\"Extract hand landmarks using MediaPipe Holistic with improved preprocessing\"\"\"\n",
    "    with mp_holistic.Holistic(static_image_mode=True, \n",
    "                             min_detection_confidence=0.5,\n",
    "                             model_complexity=2) as holistic:  # Increased model complexity\n",
    "        image_rgb = cv2.cvtColor(image, cv2.COLOR_BGR2RGB)\n",
    "        results = holistic.process(image_rgb)\n",
    "        \n",
    "        landmarks = []\n",
    "        if results.right_hand_landmarks:\n",
    "            for landmark in results.right_hand_landmarks.landmark:\n",
    "                landmarks.extend([landmark.x, landmark.y, landmark.z])\n",
    "        elif results.left_hand_landmarks:  # Also check for left hand\n",
    "            for landmark in results.left_hand_landmarks.landmark:\n",
    "                landmarks.extend([landmark.x, landmark.y, landmark.z])\n",
    "        else:\n",
    "            landmarks = [0] * (21 * 3)\n",
    "        \n",
    "        return np.array(landmarks)"
   ]
  },
  {
   "cell_type": "code",
   "execution_count": 9,
   "id": "4edff75e-a886-4707-849a-12613407bf2f",
   "metadata": {},
   "outputs": [],
   "source": [
    "# 3. Custom Callback\n",
    "class F1ScoreCallback(tf.keras.callbacks.Callback):\n",
    "    def __init__(self, patience=5):\n",
    "        super(F1ScoreCallback, self).__init__()\n",
    "        self.patience = patience\n",
    "        self.best_f1 = 0\n",
    "        self.wait = 0\n",
    "    \n",
    "    def on_epoch_end(self, epoch, logs={}):\n",
    "        val_predict = np.argmax(self.model.predict(self.validation_data[0]), axis=1)\n",
    "        val_true = np.argmax(self.validation_data[1], axis=1)\n",
    "        \n",
    "        # Calculate F1 Score\n",
    "        f1_scores = []\n",
    "        for i in range(NUM_CLASSES):\n",
    "            true_positives = np.sum((val_predict == i) & (val_true == i))\n",
    "            false_positives = np.sum((val_predict == i) & (val_true != i))\n",
    "            false_negatives = np.sum((val_predict != i) & (val_true == i))\n",
    "            \n",
    "            precision = true_positives / (true_positives + false_positives + 1e-7)\n",
    "            recall = true_positives / (true_positives + false_negatives + 1e-7)\n",
    "            \n",
    "            f1 = 2 * (precision * recall) / (precision + recall + 1e-7)\n",
    "            f1_scores.append(f1)\n",
    "        \n",
    "        current_f1 = np.mean(f1_scores)\n",
    "        logs['val_f1'] = current_f1\n",
    "        \n",
    "        if current_f1 > self.best_f1:\n",
    "            self.best_f1 = current_f1\n",
    "            self.wait = 0\n",
    "        else:\n",
    "            self.wait += 1\n",
    "            if self.wait >= self.patience:\n",
    "                self.model.stop_training = True\n",
    "                print(f'\\nF1 score did not improve for {self.patience} epochs. Stopping training.')\n"
   ]
  },
  {
   "cell_type": "code",
   "execution_count": 83,
   "id": "13b2418e-cc92-4caf-b81a-4bf94f440a5d",
   "metadata": {},
   "outputs": [],
   "source": [
    "def load_and_preprocess_data(data_dir, target_size=(224, 224)):  # Increased image size\n",
    "    \"\"\"Load and preprocess the ASL dataset with augmentation\"\"\"\n",
    "    X = []\n",
    "    y = []\n",
    "    label_map = {}\n",
    "    \n",
    "    for idx, label in enumerate(sorted(os.listdir(data_dir))):\n",
    "        if label.startswith('.'):\n",
    "            continue\n",
    "        label_map[idx] = label  # Reverse mapping for evaluation\n",
    "        label_dir = os.path.join(data_dir, label)\n",
    "        \n",
    "        print(f\"Processing {label}...\")\n",
    "        for image_name in tqdm(os.listdir(label_dir)):\n",
    "            image_path = os.path.join(label_dir, image_name)\n",
    "            image = cv2.imread(image_path)\n",
    "            if image is None:\n",
    "                continue\n",
    "            \n",
    "            # Original image\n",
    "            image_resized = cv2.resize(image, target_size)\n",
    "            landmarks = extract_landmarks(image_resized)\n",
    "            X.append(landmarks)\n",
    "            y.append(idx)\n",
    "            \n",
    "            # Augmentation: Flip horizontally\n",
    "            image_flipped = cv2.flip(image_resized, 1)\n",
    "            landmarks_flipped = extract_landmarks(image_flipped)\n",
    "            X.append(landmarks_flipped)\n",
    "            y.append(idx)\n",
    "            \n",
    "            # Augmentation: Rotate slightly\n",
    "            M = cv2.getRotationMatrix2D((target_size[0]/2, target_size[1]/2), 15, 1.0)\n",
    "            image_rotated = cv2.warpAffine(image_resized, M, target_size)\n",
    "            landmarks_rotated = extract_landmarks(image_rotated)\n",
    "            X.append(landmarks_rotated)\n",
    "            y.append(idx)\n",
    "    \n",
    "    return np.array(X), np.array(y), label_map"
   ]
  },
  {
   "cell_type": "code",
   "execution_count": 85,
   "id": "cc8d7dad-c0d4-4f62-ad06-ab37fd695f2f",
   "metadata": {},
   "outputs": [],
   "source": [
    "def create_improved_model(num_classes):\n",
    "    \"\"\"Create an improved model architecture\"\"\"\n",
    "    model = Sequential([\n",
    "        # Reshape input to be compatible with Conv1D\n",
    "        tf.keras.layers.Reshape((21, 3), input_shape=(63,)),\n",
    "        \n",
    "        # Conv1D layers for feature extraction\n",
    "        Conv1D(64, 3, activation='relu'),\n",
    "        BatchNormalization(),\n",
    "        Conv1D(128, 3, activation='relu'),\n",
    "        BatchNormalization(),\n",
    "        MaxPooling1D(2),\n",
    "        \n",
    "        # Additional Conv1D layer\n",
    "        Conv1D(256, 3, activation='relu'),\n",
    "        BatchNormalization(),\n",
    "        MaxPooling1D(2),\n",
    "        \n",
    "        # LSTM layer for sequential processing\n",
    "        LSTM(128, return_sequences=True),\n",
    "        Dropout(0.5),\n",
    "        LSTM(64),\n",
    "        \n",
    "        # Dense layers for classification\n",
    "        Flatten(),\n",
    "        Dense(256, activation='relu'),\n",
    "        BatchNormalization(),\n",
    "        Dropout(0.5),\n",
    "        Dense(128, activation='relu'),\n",
    "        BatchNormalization(),\n",
    "        Dropout(0.3),\n",
    "        Dense(num_classes, activation='softmax')\n",
    "    ])\n",
    "    return model"
   ]
  },
  {
   "cell_type": "code",
   "execution_count": 87,
   "id": "c1258e80-a390-4c96-80e9-9c4bfc4ff18a",
   "metadata": {},
   "outputs": [],
   "source": [
    "def train_model(X_train, y_train, X_val, y_val, num_classes):\n",
    "    \"\"\"Train the model with improved parameters\"\"\"\n",
    "    model = create_improved_model(num_classes)\n",
    "    \n",
    "    optimizer = Adam(learning_rate=0.001)\n",
    "    model.compile(\n",
    "        optimizer=optimizer,\n",
    "        loss='sparse_categorical_crossentropy',\n",
    "        metrics=['accuracy']\n",
    "    )\n",
    "    \n",
    "    callbacks = [\n",
    "        ModelCheckpoint('best_model.h5', save_best_only=True, monitor='val_accuracy'),\n",
    "        EarlyStopping(patience=15, monitor='val_accuracy', restore_best_weights=True),\n",
    "        ReduceLROnPlateau(factor=0.2, patience=5, monitor='val_accuracy', min_lr=1e-6)\n",
    "    ]\n",
    "    \n",
    "    history = model.fit(\n",
    "        X_train, y_train,\n",
    "        validation_data=(X_val, y_val),\n",
    "        epochs=100,  # Increased epochs\n",
    "        batch_size=32,\n",
    "        callbacks=callbacks\n",
    "    )\n",
    "    \n",
    "    return model, history"
   ]
  },
  {
   "cell_type": "code",
   "execution_count": null,
   "id": "faea2b34-af21-489d-bdef-cd156e1b1541",
   "metadata": {},
   "outputs": [
    {
     "name": "stdout",
     "output_type": "stream",
     "text": [
      "Processing A...\n"
     ]
    },
    {
     "name": "stderr",
     "output_type": "stream",
     "text": [
      "  0%|                                                                                         | 0/3000 [00:00<?, ?it/s]"
     ]
    },
    {
     "name": "stdout",
     "output_type": "stream",
     "text": [
      "Downloading model to C:\\Users\\abhis\\anaconda3\\Lib\\site-packages\\mediapipe/modules/pose_landmark/pose_landmark_heavy.tflite\n"
     ]
    },
    {
     "name": "stderr",
     "output_type": "stream",
     "text": [
      "100%|████████████████████████████████████████████████████████████████████████████| 3000/3000 [1:30:07<00:00,  1.80s/it]\n"
     ]
    },
    {
     "name": "stdout",
     "output_type": "stream",
     "text": [
      "Processing B...\n"
     ]
    },
    {
     "name": "stderr",
     "output_type": "stream",
     "text": [
      "100%|████████████████████████████████████████████████████████████████████████████| 3000/3000 [1:33:14<00:00,  1.86s/it]\n"
     ]
    },
    {
     "name": "stdout",
     "output_type": "stream",
     "text": [
      "Processing C...\n"
     ]
    },
    {
     "name": "stderr",
     "output_type": "stream",
     "text": [
      "100%|████████████████████████████████████████████████████████████████████████████| 3000/3000 [1:30:28<00:00,  1.81s/it]\n"
     ]
    },
    {
     "name": "stdout",
     "output_type": "stream",
     "text": [
      "Processing D...\n"
     ]
    },
    {
     "name": "stderr",
     "output_type": "stream",
     "text": [
      "100%|████████████████████████████████████████████████████████████████████████████| 3000/3000 [1:40:23<00:00,  2.01s/it]\n"
     ]
    },
    {
     "name": "stdout",
     "output_type": "stream",
     "text": [
      "Processing E...\n"
     ]
    },
    {
     "name": "stderr",
     "output_type": "stream",
     "text": [
      "100%|████████████████████████████████████████████████████████████████████████████| 3000/3000 [1:35:10<00:00,  1.90s/it]\n"
     ]
    },
    {
     "name": "stdout",
     "output_type": "stream",
     "text": [
      "Processing F...\n"
     ]
    },
    {
     "name": "stderr",
     "output_type": "stream",
     "text": [
      "100%|████████████████████████████████████████████████████████████████████████████| 3000/3000 [1:50:20<00:00,  2.21s/it]\n"
     ]
    },
    {
     "name": "stdout",
     "output_type": "stream",
     "text": [
      "Processing G...\n"
     ]
    },
    {
     "name": "stderr",
     "output_type": "stream",
     "text": [
      "100%|████████████████████████████████████████████████████████████████████████████| 3000/3000 [2:09:18<00:00,  2.59s/it]\n"
     ]
    },
    {
     "name": "stdout",
     "output_type": "stream",
     "text": [
      "Processing H...\n"
     ]
    },
    {
     "name": "stderr",
     "output_type": "stream",
     "text": [
      "100%|████████████████████████████████████████████████████████████████████████████| 3000/3000 [3:12:34<00:00,  3.85s/it]\n"
     ]
    },
    {
     "name": "stdout",
     "output_type": "stream",
     "text": [
      "Processing I...\n"
     ]
    },
    {
     "name": "stderr",
     "output_type": "stream",
     "text": [
      "  1%|▉                                                                             | 35/3000 [01:50<2:34:34,  3.13s/it]"
     ]
    }
   ],
   "source": [
    "# Set your data directory\n",
    "DATA_DIR = \"./dataset/asl_alphabet_train/asl_alphabet_train/\"  # Change this to your dataset's local path\n",
    "\n",
    "# Load and preprocess data\n",
    "X, y, label_map = load_and_preprocess_data(DATA_DIR)"
   ]
  },
  {
   "cell_type": "code",
   "execution_count": null,
   "id": "710786ce-f5a3-4943-9f4c-d42824a088e5",
   "metadata": {},
   "outputs": [],
   "source": [
    "# Normalize the data\n",
    "scaler = StandardScaler()\n",
    "X_scaled = scaler.fit_transform(X)"
   ]
  },
  {
   "cell_type": "code",
   "execution_count": 66,
   "id": "974cf949-a5b9-40b9-ae1f-c3c0e64b456a",
   "metadata": {},
   "outputs": [],
   "source": [
    "# Split the data\n",
    "X_train, X_test, y_train, y_test = train_test_split(X, y, test_size=0.2, random_state=42)\n",
    "X_train, X_val, y_train, y_val = train_test_split(X_train, y_train, test_size=0.2, random_state=42)"
   ]
  },
  {
   "cell_type": "code",
   "execution_count": 68,
   "id": "795c1a78-795a-4a43-b614-b7ed0405249a",
   "metadata": {
    "scrolled": true
   },
   "outputs": [
    {
     "name": "stdout",
     "output_type": "stream",
     "text": [
      "Epoch 1/50\n",
      "1740/1740 [==============================] - 8s 4ms/step - loss: 3.3567 - accuracy: 0.0382 - val_loss: 3.3437 - val_accuracy: 0.0407 - lr: 0.0010\n",
      "Epoch 2/50\n",
      "   1/1740 [..............................] - ETA: 7s - loss: 3.3621 - accuracy: 0.0625"
     ]
    },
    {
     "name": "stderr",
     "output_type": "stream",
     "text": [
      "C:\\Users\\abhis\\anaconda3\\Lib\\site-packages\\keras\\src\\engine\\training.py:3000: UserWarning: You are saving your model as an HDF5 file via `model.save()`. This file format is considered legacy. We recommend using instead the native Keras format, e.g. `model.save('my_model.keras')`.\n",
      "  saving_api.save_model(\n"
     ]
    },
    {
     "name": "stdout",
     "output_type": "stream",
     "text": [
      "1740/1740 [==============================] - 5s 3ms/step - loss: 3.3408 - accuracy: 0.0428 - val_loss: 3.3244 - val_accuracy: 0.0419 - lr: 0.0010\n",
      "Epoch 3/50\n",
      "1740/1740 [==============================] - 5s 3ms/step - loss: 3.3280 - accuracy: 0.0449 - val_loss: 3.3229 - val_accuracy: 0.0423 - lr: 0.0010\n",
      "Epoch 4/50\n",
      "1740/1740 [==============================] - 5s 3ms/step - loss: 3.3211 - accuracy: 0.0458 - val_loss: 3.3064 - val_accuracy: 0.0460 - lr: 0.0010\n",
      "Epoch 5/50\n",
      "1740/1740 [==============================] - 6s 3ms/step - loss: 3.3165 - accuracy: 0.0475 - val_loss: 3.3058 - val_accuracy: 0.0472 - lr: 0.0010\n",
      "Epoch 6/50\n",
      "1740/1740 [==============================] - 5s 3ms/step - loss: 3.3132 - accuracy: 0.0490 - val_loss: 3.2964 - val_accuracy: 0.0486 - lr: 0.0010\n",
      "Epoch 7/50\n",
      "1740/1740 [==============================] - 6s 3ms/step - loss: 3.3116 - accuracy: 0.0497 - val_loss: 3.2961 - val_accuracy: 0.0522 - lr: 0.0010\n",
      "Epoch 8/50\n",
      "1740/1740 [==============================] - 6s 3ms/step - loss: 3.3078 - accuracy: 0.0500 - val_loss: 3.2940 - val_accuracy: 0.0498 - lr: 0.0010\n",
      "Epoch 9/50\n",
      "1740/1740 [==============================] - 5s 3ms/step - loss: 3.3071 - accuracy: 0.0504 - val_loss: 3.2898 - val_accuracy: 0.0507 - lr: 0.0010\n",
      "Epoch 10/50\n",
      "1740/1740 [==============================] - 6s 3ms/step - loss: 3.3063 - accuracy: 0.0503 - val_loss: 3.2943 - val_accuracy: 0.0490 - lr: 0.0010\n",
      "Epoch 11/50\n",
      "1740/1740 [==============================] - 6s 3ms/step - loss: 3.3047 - accuracy: 0.0514 - val_loss: 3.2892 - val_accuracy: 0.0516 - lr: 0.0010\n",
      "Epoch 12/50\n",
      "1740/1740 [==============================] - 6s 3ms/step - loss: 3.3035 - accuracy: 0.0511 - val_loss: 3.2883 - val_accuracy: 0.0537 - lr: 0.0010\n",
      "Epoch 13/50\n",
      "1740/1740 [==============================] - 6s 3ms/step - loss: 3.3019 - accuracy: 0.0518 - val_loss: 3.2853 - val_accuracy: 0.0532 - lr: 0.0010\n",
      "Epoch 14/50\n",
      "1740/1740 [==============================] - 6s 3ms/step - loss: 3.3019 - accuracy: 0.0518 - val_loss: 3.2847 - val_accuracy: 0.0528 - lr: 0.0010\n",
      "Epoch 15/50\n",
      "1740/1740 [==============================] - 6s 3ms/step - loss: 3.3001 - accuracy: 0.0526 - val_loss: 3.2841 - val_accuracy: 0.0562 - lr: 0.0010\n",
      "Epoch 16/50\n",
      "1740/1740 [==============================] - 5s 3ms/step - loss: 3.3009 - accuracy: 0.0533 - val_loss: 3.2860 - val_accuracy: 0.0537 - lr: 0.0010\n",
      "Epoch 17/50\n",
      "1740/1740 [==============================] - 6s 3ms/step - loss: 3.3001 - accuracy: 0.0520 - val_loss: 3.2818 - val_accuracy: 0.0545 - lr: 0.0010\n",
      "Epoch 18/50\n",
      "1740/1740 [==============================] - 6s 3ms/step - loss: 3.2992 - accuracy: 0.0528 - val_loss: 3.2836 - val_accuracy: 0.0527 - lr: 0.0010\n",
      "Epoch 19/50\n",
      "1740/1740 [==============================] - 6s 3ms/step - loss: 3.2997 - accuracy: 0.0515 - val_loss: 3.2801 - val_accuracy: 0.0555 - lr: 0.0010\n",
      "Epoch 20/50\n",
      "1740/1740 [==============================] - 6s 3ms/step - loss: 3.2981 - accuracy: 0.0529 - val_loss: 3.2842 - val_accuracy: 0.0540 - lr: 0.0010\n",
      "Epoch 21/50\n",
      "1740/1740 [==============================] - 6s 3ms/step - loss: 3.2937 - accuracy: 0.0553 - val_loss: 3.2772 - val_accuracy: 0.0575 - lr: 5.0000e-04\n",
      "Epoch 22/50\n",
      "1740/1740 [==============================] - 6s 3ms/step - loss: 3.2925 - accuracy: 0.0558 - val_loss: 3.2765 - val_accuracy: 0.0563 - lr: 5.0000e-04\n",
      "Epoch 23/50\n",
      "1740/1740 [==============================] - 6s 3ms/step - loss: 3.2915 - accuracy: 0.0552 - val_loss: 3.2760 - val_accuracy: 0.0588 - lr: 5.0000e-04\n",
      "Epoch 24/50\n",
      "1740/1740 [==============================] - 6s 3ms/step - loss: 3.2921 - accuracy: 0.0556 - val_loss: 3.2768 - val_accuracy: 0.0562 - lr: 5.0000e-04\n",
      "Epoch 25/50\n",
      "1740/1740 [==============================] - 6s 3ms/step - loss: 3.2915 - accuracy: 0.0554 - val_loss: 3.2765 - val_accuracy: 0.0567 - lr: 5.0000e-04\n",
      "Epoch 26/50\n",
      "1740/1740 [==============================] - 6s 3ms/step - loss: 3.2903 - accuracy: 0.0564 - val_loss: 3.2749 - val_accuracy: 0.0562 - lr: 5.0000e-04\n",
      "Epoch 27/50\n",
      "1740/1740 [==============================] - 6s 3ms/step - loss: 3.2909 - accuracy: 0.0563 - val_loss: 3.2748 - val_accuracy: 0.0582 - lr: 5.0000e-04\n",
      "Epoch 28/50\n",
      "1740/1740 [==============================] - 6s 3ms/step - loss: 3.2899 - accuracy: 0.0563 - val_loss: 3.2752 - val_accuracy: 0.0568 - lr: 5.0000e-04\n",
      "Epoch 29/50\n",
      "1740/1740 [==============================] - 6s 4ms/step - loss: 3.2888 - accuracy: 0.0568 - val_loss: 3.2730 - val_accuracy: 0.0580 - lr: 2.5000e-04\n",
      "Epoch 30/50\n",
      "1740/1740 [==============================] - 6s 3ms/step - loss: 3.2880 - accuracy: 0.0568 - val_loss: 3.2736 - val_accuracy: 0.0583 - lr: 2.5000e-04\n",
      "Epoch 31/50\n",
      "1740/1740 [==============================] - 6s 4ms/step - loss: 3.2877 - accuracy: 0.0572 - val_loss: 3.2735 - val_accuracy: 0.0591 - lr: 2.5000e-04\n",
      "Epoch 32/50\n",
      "1740/1740 [==============================] - 6s 3ms/step - loss: 3.2865 - accuracy: 0.0570 - val_loss: 3.2724 - val_accuracy: 0.0580 - lr: 2.5000e-04\n",
      "Epoch 33/50\n",
      "1740/1740 [==============================] - 6s 4ms/step - loss: 3.2877 - accuracy: 0.0570 - val_loss: 3.2731 - val_accuracy: 0.0582 - lr: 2.5000e-04\n",
      "Epoch 34/50\n",
      "1740/1740 [==============================] - 6s 3ms/step - loss: 3.2859 - accuracy: 0.0578 - val_loss: 3.2719 - val_accuracy: 0.0584 - lr: 2.5000e-04\n",
      "Epoch 35/50\n",
      "1740/1740 [==============================] - 5s 3ms/step - loss: 3.2862 - accuracy: 0.0579 - val_loss: 3.2721 - val_accuracy: 0.0591 - lr: 2.5000e-04\n",
      "Epoch 36/50\n",
      "1740/1740 [==============================] - 5s 3ms/step - loss: 3.2865 - accuracy: 0.0575 - val_loss: 3.2722 - val_accuracy: 0.0590 - lr: 2.5000e-04\n",
      "Epoch 37/50\n",
      "1740/1740 [==============================] - 5s 3ms/step - loss: 3.2859 - accuracy: 0.0583 - val_loss: 3.2716 - val_accuracy: 0.0594 - lr: 1.2500e-04\n",
      "Epoch 38/50\n",
      "1740/1740 [==============================] - 6s 3ms/step - loss: 3.2853 - accuracy: 0.0575 - val_loss: 3.2713 - val_accuracy: 0.0594 - lr: 1.2500e-04\n",
      "Epoch 39/50\n",
      "1740/1740 [==============================] - 6s 3ms/step - loss: 3.2842 - accuracy: 0.0591 - val_loss: 3.2708 - val_accuracy: 0.0593 - lr: 1.2500e-04\n",
      "Epoch 40/50\n",
      "1740/1740 [==============================] - 6s 3ms/step - loss: 3.2853 - accuracy: 0.0586 - val_loss: 3.2706 - val_accuracy: 0.0586 - lr: 1.2500e-04\n",
      "Epoch 41/50\n",
      "1740/1740 [==============================] - 6s 4ms/step - loss: 3.2848 - accuracy: 0.0581 - val_loss: 3.2705 - val_accuracy: 0.0591 - lr: 1.2500e-04\n",
      "Epoch 42/50\n",
      "1740/1740 [==============================] - 6s 3ms/step - loss: 3.2843 - accuracy: 0.0590 - val_loss: 3.2708 - val_accuracy: 0.0586 - lr: 1.2500e-04\n",
      "Epoch 43/50\n",
      "1740/1740 [==============================] - 5s 3ms/step - loss: 3.2837 - accuracy: 0.0587 - val_loss: 3.2703 - val_accuracy: 0.0591 - lr: 6.2500e-05\n",
      "Epoch 44/50\n",
      "1740/1740 [==============================] - 6s 3ms/step - loss: 3.2830 - accuracy: 0.0595 - val_loss: 3.2699 - val_accuracy: 0.0596 - lr: 6.2500e-05\n",
      "Epoch 45/50\n",
      "1740/1740 [==============================] - 6s 3ms/step - loss: 3.2846 - accuracy: 0.0585 - val_loss: 3.2701 - val_accuracy: 0.0597 - lr: 6.2500e-05\n",
      "Epoch 46/50\n",
      "1740/1740 [==============================] - 5s 3ms/step - loss: 3.2832 - accuracy: 0.0587 - val_loss: 3.2702 - val_accuracy: 0.0593 - lr: 6.2500e-05\n",
      "Epoch 47/50\n",
      "1740/1740 [==============================] - 6s 4ms/step - loss: 3.2838 - accuracy: 0.0582 - val_loss: 3.2700 - val_accuracy: 0.0596 - lr: 6.2500e-05\n",
      "Epoch 48/50\n",
      "1740/1740 [==============================] - 7s 4ms/step - loss: 3.2840 - accuracy: 0.0580 - val_loss: 3.2699 - val_accuracy: 0.0594 - lr: 6.2500e-05\n",
      "Epoch 49/50\n",
      "1740/1740 [==============================] - 6s 4ms/step - loss: 3.2826 - accuracy: 0.0593 - val_loss: 3.2699 - val_accuracy: 0.0591 - lr: 6.2500e-05\n",
      "Epoch 50/50\n",
      "1740/1740 [==============================] - 6s 3ms/step - loss: 3.2832 - accuracy: 0.0586 - val_loss: 3.2697 - val_accuracy: 0.0597 - lr: 6.2500e-05\n"
     ]
    }
   ],
   "source": [
    "# Train the model\n",
    "num_classes = len(label_map)\n",
    "model, history = train_model(X_train, y_train, X_val, y_val, num_classes)"
   ]
  },
  {
   "cell_type": "code",
   "execution_count": 71,
   "id": "478f68d3-e009-4c32-aef6-16710b0cb58f",
   "metadata": {},
   "outputs": [
    {
     "name": "stdout",
     "output_type": "stream",
     "text": [
      "544/544 [==============================] - 2s 3ms/step - loss: 3.2841 - accuracy: 0.0591\n",
      "Test accuracy: 0.0591\n"
     ]
    }
   ],
   "source": [
    "# Evaluate the model\n",
    "test_loss, test_accuracy = model.evaluate(X_test, y_test)\n",
    "print(f\"Test accuracy: {test_accuracy:.4f}\")"
   ]
  },
  {
   "cell_type": "code",
   "execution_count": 74,
   "id": "dc435b7d-477e-43bb-a02e-236f85f775c7",
   "metadata": {},
   "outputs": [
    {
     "data": {
      "image/png": "[encoded data removed]",
      "text/plain": [
       "<Figure size 640x480 with 1 Axes>"
      ]
     },
     "metadata": {},
     "output_type": "display_data"
    }
   ],
   "source": [
    "# Plot training history\n",
    "import matplotlib.pyplot as plt\n",
    "plt.figure(figsize=(12, 4))\n",
    "plt.subplot(1, 2, 1)\n",
    "plt.plot(history.history['accuracy'], label='Train Accuracy')\n",
    "plt.plot(history.history['val_accuracy'], label='Validation Accuracy')\n",
    "plt.title('Model Accuracy')\n",
    "plt.xlabel('Epoch')\n",
    "plt.ylabel('Accuracy')\n",
    "plt.legend()\n",
    "\n",
    "plt.subplot(1, 2, 2)\n",
    "plt.plot(history.history['loss'], label='Train Loss')\n",
    "plt.plot(history.history['val_loss'], label='Validation Loss')\n",
    "plt.title('Model Loss')\n",
    "plt.xlabel('Epoch')\n",
    "plt.ylabel('Loss')\n",
    "plt.legend()\n",
    "plt.show()"
   ]
  },
  {
   "cell_type": "code",
   "execution_count": null,
   "id": "d9ed9f5e-0851-4da4-9155-847d07113db9",
   "metadata": {},
   "outputs": [],
   "source": []
  }
 ],
 "metadata": {
  "kernelspec": {
   "display_name": "Python 3 (ipykernel)",
   "language": "python",
   "name": "python3"
  },
  "language_info": {
   "codemirror_mode": {
    "name": "ipython",
    "version": 3
   },
   "file_extension": ".py",
   "mimetype": "text/x-python",
   "name": "python",
   "nbconvert_exporter": "python",
   "pygments_lexer": "ipython3",
   "version": "3.11.7"
  }
 },
 "nbformat": 4,
 "nbformat_minor": 5
}
